{
 "cells": [
  {
   "cell_type": "markdown",
   "metadata": {},
   "source": [
    "# Proyecto 2\n",
    "# Descripción\n",
    "\n",
    "Proyecto 2-Parte I (Core)\n",
    "\n",
    "Proyecto 2: Análisis Inicial y Selección de Problema\n",
    "\n",
    "Objetivo: Realizar un análisis exploratorio de datos (EDA) inicial para al menos cuatro conjuntos de datos, diagnosticar y elegir una problemática específica para abordar (regresión, clasificación, clusterización, predicción). Entregar un repositorio con el dataset elegido, el EDA inicial y la problemática seleccionada.\n",
    "\n",
    "Parte I: Búsqueda y Análisis de Conjuntos de Datos\n",
    "\n",
    "Instrucciones\n",
    "\n",
    "1. Búsqueda de Conjuntos de Datos:\n",
    "- Buscar al menos cuatro conjuntos de datos en plataformas como Kaggle, UCI Machine Learning Repository o cualquier otra fuente confiable.\n",
    "- Asegurarse de que los conjuntos de datos seleccionados sean diversos y cubran diferentes dominios y tipos de datos.\n",
    "2. Análisis Exploratorio de Datos (EDA) Inicial:\n",
    "- Realizar un EDA inicial para cada uno de los cuatro conjuntos de datos seleccionados.\n",
    "- Incluir visualizaciones, análisis estadístico descriptivo, identificación de valores nulos y outliers.\n",
    "- Documentar los hallazgos de cada EDA en un notebook de Jupyter.\n",
    "3. Diagnóstico y Selección de Problema:\n",
    "- Basándose en el EDA inicial, diagnosticar las principales características y desafíos de cada conjunto de datos.\n",
    "- Elegir una problemática específica para abordar (regresión, clasificación, clusterización, predicción).\n",
    "- Justificar la elección del problema y explicar por qué es relevante y desafiante.\n",
    "4. Creación del Repositorio en GitHub:\n",
    "- Crear un repositorio en GitHub para el Proyecto 2.\n",
    "- Incluir el EDA inicial de los cuatro conjuntos de datos en notebooks separados.\n",
    "- Incluir una carpeta para el dataset elegido con su EDA correspondiente.\n",
    "- Documentar la problemática seleccionada y justificar la elección en un archivo README.md.\n",
    "\n",
    "Detalles del EDA Inicial\n",
    "\n",
    "1. Descripción del Conjunto de Datos:\n",
    "- Breve descripción de cada conjunto de datos, incluyendo la fuente, el tamaño y las variables.\n",
    "2. Análisis Estadístico Descriptivo:\n",
    "- Calcular estadísticas descriptivas básicas (media, mediana, desviación estándar, etc.) para las variables numéricas.\n",
    "- Analizar la distribución de las variables categóricas.\n",
    "3. Visualizaciones:\n",
    "- Crear visualizaciones para entender la distribución de las variables (histogramas, gráficos de barras, box plots, etc.).\n",
    "- Visualizar las correlaciones entre variables (mapa de calor de correlación).\n",
    "4. Identificación de Valores Nulos y Outliers:\n",
    "- Detectar valores nulos y discutir cómo podrían ser tratados.\n",
    "- Identificar outliers y evaluar su impacto potencial en el análisis.\n",
    "5. Resumen de Hallazgos:\n",
    "- Resumir los principales hallazgos de cada EDA, destacando las características y desafíos únicos de cada conjunto de datos.\n",
    "\n",
    "Contenido del Archivo README.md\n",
    "\n",
    "- Título del Proyecto: Análisis Inicial y Selección de Problema\n",
    "- Descripción: Breve descripción del objetivo del proyecto y su importancia.\n",
    "- Conjuntos de Datos Analizados: Descripción breve de los cuatro conjuntos de datos analizados.\n",
    "- Resumen del EDA Inicial: Resumen de los hallazgos principales de los EDA realizados.\n",
    "- Problema Seleccionado: Descripción detallada del problema seleccionado, la justificación de la elección y los objetivos específicos.\n",
    "- Instrucciones para Ejecutar: Pasos para ejecutar los notebooks y reproducir los resultados.\n",
    "- Autores: Nombres y roles de los participantes en el proyecto.\n",
    "- Licencia: Información sobre la licencia del proyecto."
   ]
  },
  {
   "cell_type": "markdown",
   "metadata": {},
   "source": [
    "# Data Set 1"
   ]
  },
  {
   "cell_type": "code",
   "execution_count": 1,
   "metadata": {},
   "outputs": [
    {
     "name": "stdout",
     "output_type": "stream",
     "text": [
      "   Hours  Scores\n",
      "0    2.5      21\n",
      "1    5.1      47\n",
      "2    3.2      27\n",
      "3    8.5      75\n",
      "4    3.5      30\n"
     ]
    }
   ],
   "source": [
    "import pandas as pd\n",
    "\n",
    "df1 = pd.read_csv('/Users/mathiorti/Desktop/Me/Cursos/Data Analisis and Machine Learning/Data Sets/student_scores.csv')\n",
    "print(df1.head())\n"
   ]
  },
  {
   "cell_type": "code",
   "execution_count": 3,
   "metadata": {},
   "outputs": [
    {
     "name": "stdout",
     "output_type": "stream",
     "text": [
      "<class 'pandas.core.frame.DataFrame'>\n",
      "RangeIndex: 25 entries, 0 to 24\n",
      "Data columns (total 2 columns):\n",
      " #   Column  Non-Null Count  Dtype  \n",
      "---  ------  --------------  -----  \n",
      " 0   Hours   25 non-null     float64\n",
      " 1   Scores  25 non-null     int64  \n",
      "dtypes: float64(1), int64(1)\n",
      "memory usage: 532.0 bytes\n"
     ]
    }
   ],
   "source": [
    "df1.info()"
   ]
  },
  {
   "cell_type": "code",
   "execution_count": 4,
   "metadata": {},
   "outputs": [
    {
     "data": {
      "text/plain": [
       "Hours     0\n",
       "Scores    0\n",
       "dtype: int64"
      ]
     },
     "execution_count": 4,
     "metadata": {},
     "output_type": "execute_result"
    }
   ],
   "source": [
    "#Calculo la cantidad de datos nulos\n",
    "df1.isnull().sum()"
   ]
  },
  {
   "cell_type": "code",
   "execution_count": 5,
   "metadata": {},
   "outputs": [
    {
     "name": "stdout",
     "output_type": "stream",
     "text": [
      "Hours     float64\n",
      "Scores      int64\n",
      "dtype: object\n"
     ]
    }
   ],
   "source": [
    "#No tenemos datos nulos... Ahora veo los tipos de datos\n",
    "print(df1.dtypes)"
   ]
  },
  {
   "cell_type": "code",
   "execution_count": 6,
   "metadata": {},
   "outputs": [
    {
     "name": "stdout",
     "output_type": "stream",
     "text": [
      "           Hours     Scores\n",
      "count  25.000000  25.000000\n",
      "mean    5.012000  51.480000\n",
      "std     2.525094  25.286887\n",
      "min     1.100000  17.000000\n",
      "25%     2.700000  30.000000\n",
      "50%     4.800000  47.000000\n",
      "75%     7.400000  75.000000\n",
      "max     9.200000  95.000000\n"
     ]
    }
   ],
   "source": [
    "#Los tipos de datos son correctos...\n",
    "print(df1.describe())"
   ]
  },
  {
   "cell_type": "code",
   "execution_count": 8,
   "metadata": {},
   "outputs": [
    {
     "data": {
      "image/png": "[encoded data removed]",
      "text/plain": [
       "<Figure size 1000x800 with 1 Axes>"
      ]
     },
     "metadata": {},
     "output_type": "display_data"
    }
   ],
   "source": [
    "import matplotlib.pyplot as plt\n",
    "\n",
    "plt.figure(figsize=(10, 8))\n",
    "plt.hist(df1['Scores'], bins = 20, edgecolor = 'black', alpha = 0.7)\n",
    "plt.title('Distribución de Scores')\n",
    "plt.xlabel('Scores')\n",
    "plt.ylabel('Frecuencia')\n",
    "plt.grid(True)\n",
    "plt.show()"
   ]
  },
  {
   "cell_type": "code",
   "execution_count": 9,
   "metadata": {},
   "outputs": [
    {
     "data": {
      "application/vnd.plotly.v1+json": {
       "config": {
        "plotlyServerURL": "https://plot.ly"
       },
       "data": [
        {
         "alignmentgroup": "True",
         "hovertemplate": "Hours=%{y}<extra></extra>",
         "legendgroup": "",
         "marker": {
          "color": "#636efa"
         },
         "name": "",
         "notched": false,
         "offsetgroup": "",
         "orientation": "v",
         "showlegend": false,
         "type": "box",
         "x0": " ",
         "xaxis": "x",
         "y": [
          2.5,
          5.1,
          3.2,
          8.5,
          3.5,
          1.5,
          9.2,
          5.5,
          8.3,
          2.7,
          7.7,
          5.9,
          4.5,
          3.3,
          1.1,
          8.9,
          2.5,
          1.9,
          6.1,
          7.4,
          2.7,
          4.8,
          3.8,
          6.9,
          7.8
         ],
         "y0": " ",
         "yaxis": "y"
        }
       ],
       "layout": {
        "boxmode": "group",
        "legend": {
         "tracegroupgap": 0
        },
        "template": {
         "data": {
          "bar": [
           {
            "error_x": {
             "color": "#2a3f5f"
            },
            "error_y": {
             "color": "#2a3f5f"
            },
            "marker": {
             "line": {
              "color": "#E5ECF6",
              "width": 0.5
             },
             "pattern": {
              "fillmode": "overlay",
              "size": 10,
              "solidity": 0.2
             }
            },
            "type": "bar"
           }
          ],
          "barpolar": [
           {
            "marker": {
             "line": {
              "color": "#E5ECF6",
              "width": 0.5
             },
             "pattern": {
              "fillmode": "overlay",
              "size": 10,
              "solidity": 0.2
             }
            },
            "type": "barpolar"
           }
          ],
          "carpet": [
           {
            "aaxis": {
             "endlinecolor": "#2a3f5f",
             "gridcolor": "white",
             "linecolor": "white",
             "minorgridcolor": "white",
             "startlinecolor": "#2a3f5f"
            },
            "baxis": {
             "endlinecolor": "#2a3f5f",
             "gridcolor": "white",
             "linecolor": "white",
             "minorgridcolor": "white",
             "startlinecolor": "#2a3f5f"
            },
            "type": "carpet"
           }
          ],
          "choropleth": [
           {
            "colorbar": {
             "outlinewidth": 0,
             "ticks": ""
            },
            "type": "choropleth"
           }
          ],
          "contour": [
           {
            "colorbar": {
             "outlinewidth": 0,
             "ticks": ""
            },
            "colorscale": [
             [
              0,
              "#0d0887"
             ],
             [
              0.1111111111111111,
              "#46039f"
             ],
             [
              0.2222222222222222,
              "#7201a8"
             ],
             [
              0.3333333333333333,
              "#9c179e"
             ],
             [
              0.4444444444444444,
              "#bd3786"
             ],
             [
              0.5555555555555556,
              "#d8576b"
             ],
             [
              0.6666666666666666,
              "#ed7953"
             ],
             [
              0.7777777777777778,
              "#fb9f3a"
             ],
             [
              0.8888888888888888,
              "#fdca26"
             ],
             [
              1,
              "#f0f921"
             ]
            ],
            "type": "contour"
           }
          ],
          "contourcarpet": [
           {
            "colorbar": {
             "outlinewidth": 0,
             "ticks": ""
            },
            "type": "contourcarpet"
           }
          ],
          "heatmap": [
           {
            "colorbar": {
             "outlinewidth": 0,
             "ticks": ""
            },
            "colorscale": [
             [
              0,
              "#0d0887"
             ],
             [
              0.1111111111111111,
              "#46039f"
             ],
             [
              0.2222222222222222,
              "#7201a8"
             ],
             [
              0.3333333333333333,
              "#9c179e"
             ],
             [
              0.4444444444444444,
              "#bd3786"
             ],
             [
              0.5555555555555556,
              "#d8576b"
             ],
             [
              0.6666666666666666,
              "#ed7953"
             ],
             [
              0.7777777777777778,
              "#fb9f3a"
             ],
             [
              0.8888888888888888,
              "#fdca26"
             ],
             [
              1,
              "#f0f921"
             ]
            ],
            "type": "heatmap"
           }
          ],
          "heatmapgl": [
           {
            "colorbar": {
             "outlinewidth": 0,
             "ticks": ""
            },
            "colorscale": [
             [
              0,
              "#0d0887"
             ],
             [
              0.1111111111111111,
              "#46039f"
             ],
             [
              0.2222222222222222,
              "#7201a8"
             ],
             [
              0.3333333333333333,
              "#9c179e"
             ],
             [
              0.4444444444444444,
              "#bd3786"
             ],
             [
              0.5555555555555556,
              "#d8576b"
             ],
             [
              0.6666666666666666,
              "#ed7953"
             ],
             [
              0.7777777777777778,
              "#fb9f3a"
             ],
             [
              0.8888888888888888,
              "#fdca26"
             ],
             [
              1,
              "#f0f921"
             ]
            ],
            "type": "heatmapgl"
           }
          ],
          "histogram": [
           {
            "marker": {
             "pattern": {
              "fillmode": "overlay",
              "size": 10,
              "solidity": 0.2
             }
            },
            "type": "histogram"
           }
          ],
          "histogram2d": [
           {
            "colorbar": {
             "outlinewidth": 0,
             "ticks": ""
            },
            "colorscale": [
             [
              0,
              "#0d0887"
             ],
             [
              0.1111111111111111,
              "#46039f"
             ],
             [
              0.2222222222222222,
              "#7201a8"
             ],
             [
              0.3333333333333333,
              "#9c179e"
             ],
             [
              0.4444444444444444,
              "#bd3786"
             ],
             [
              0.5555555555555556,
              "#d8576b"
             ],
             [
              0.6666666666666666,
              "#ed7953"
             ],
             [
              0.7777777777777778,
              "#fb9f3a"
             ],
             [
              0.8888888888888888,
              "#fdca26"
             ],
             [
              1,
              "#f0f921"
             ]
            ],
            "type": "histogram2d"
           }
          ],
          "histogram2dcontour": [
           {
            "colorbar": {
             "outlinewidth": 0,
             "ticks": ""
            },
            "colorscale": [
             [
              0,
              "#0d0887"
             ],
             [
              0.1111111111111111,
              "#46039f"
             ],
             [
              0.2222222222222222,
              "#7201a8"
             ],
             [
              0.3333333333333333,
              "#9c179e"
             ],
             [
              0.4444444444444444,
              "#bd3786"
             ],
             [
              0.5555555555555556,
              "#d8576b"
             ],
             [
              0.6666666666666666,
              "#ed7953"
             ],
             [
              0.7777777777777778,
              "#fb9f3a"
             ],
             [
              0.8888888888888888,
              "#fdca26"
             ],
             [
              1,
              "#f0f921"
             ]
            ],
            "type": "histogram2dcontour"
           }
          ],
          "mesh3d": [
           {
            "colorbar": {
             "outlinewidth": 0,
             "ticks": ""
            },
            "type": "mesh3d"
           }
          ],
          "parcoords": [
           {
            "line": {
             "colorbar": {
              "outlinewidth": 0,
              "ticks": ""
             }
            },
            "type": "parcoords"
           }
          ],
          "pie": [
           {
            "automargin": true,
            "type": "pie"
           }
          ],
          "scatter": [
           {
            "fillpattern": {
             "fillmode": "overlay",
             "size": 10,
             "solidity": 0.2
            },
            "type": "scatter"
           }
          ],
          "scatter3d": [
           {
            "line": {
             "colorbar": {
              "outlinewidth": 0,
              "ticks": ""
             }
            },
            "marker": {
             "colorbar": {
              "outlinewidth": 0,
              "ticks": ""
             }
            },
            "type": "scatter3d"
           }
          ],
          "scattercarpet": [
           {
            "marker": {
             "colorbar": {
              "outlinewidth": 0,
              "ticks": ""
             }
            },
            "type": "scattercarpet"
           }
          ],
          "scattergeo": [
           {
            "marker": {
             "colorbar": {
              "outlinewidth": 0,
              "ticks": ""
             }
            },
            "type": "scattergeo"
           }
          ],
          "scattergl": [
           {
            "marker": {
             "colorbar": {
              "outlinewidth": 0,
              "ticks": ""
             }
            },
            "type": "scattergl"
           }
          ],
          "scattermapbox": [
           {
            "marker": {
             "colorbar": {
              "outlinewidth": 0,
              "ticks": ""
             }
            },
            "type": "scattermapbox"
           }
          ],
          "scatterpolar": [
           {
            "marker": {
             "colorbar": {
              "outlinewidth": 0,
              "ticks": ""
             }
            },
            "type": "scatterpolar"
           }
          ],
          "scatterpolargl": [
           {
            "marker": {
             "colorbar": {
              "outlinewidth": 0,
              "ticks": ""
             }
            },
            "type": "scatterpolargl"
           }
          ],
          "scatterternary": [
           {
            "marker": {
             "colorbar": {
              "outlinewidth": 0,
              "ticks": ""
             }
            },
            "type": "scatterternary"
           }
          ],
          "surface": [
           {
            "colorbar": {
             "outlinewidth": 0,
             "ticks": ""
            },
            "colorscale": [
             [
              0,
              "#0d0887"
             ],
             [
              0.1111111111111111,
              "#46039f"
             ],
             [
              0.2222222222222222,
              "#7201a8"
             ],
             [
              0.3333333333333333,
              "#9c179e"
             ],
             [
              0.4444444444444444,
              "#bd3786"
             ],
             [
              0.5555555555555556,
              "#d8576b"
             ],
             [
              0.6666666666666666,
              "#ed7953"
             ],
             [
              0.7777777777777778,
              "#fb9f3a"
             ],
             [
              0.8888888888888888,
              "#fdca26"
             ],
             [
              1,
              "#f0f921"
             ]
            ],
            "type": "surface"
           }
          ],
          "table": [
           {
            "cells": {
             "fill": {
              "color": "#EBF0F8"
             },
             "line": {
              "color": "white"
             }
            },
            "header": {
             "fill": {
              "color": "#C8D4E3"
             },
             "line": {
              "color": "white"
             }
            },
            "type": "table"
           }
          ]
         },
         "layout": {
          "annotationdefaults": {
           "arrowcolor": "#2a3f5f",
           "arrowhead": 0,
           "arrowwidth": 1
          },
          "autotypenumbers": "strict",
          "coloraxis": {
           "colorbar": {
            "outlinewidth": 0,
            "ticks": ""
           }
          },
          "colorscale": {
           "diverging": [
            [
             0,
             "#8e0152"
            ],
            [
             0.1,
             "#c51b7d"
            ],
            [
             0.2,
             "#de77ae"
            ],
            [
             0.3,
             "#f1b6da"
            ],
            [
             0.4,
             "#fde0ef"
            ],
            [
             0.5,
             "#f7f7f7"
            ],
            [
             0.6,
             "#e6f5d0"
            ],
            [
             0.7,
             "#b8e186"
            ],
            [
             0.8,
             "#7fbc41"
            ],
            [
             0.9,
             "#4d9221"
            ],
            [
             1,
             "#276419"
            ]
           ],
           "sequential": [
            [
             0,
             "#0d0887"
            ],
            [
             0.1111111111111111,
             "#46039f"
            ],
            [
             0.2222222222222222,
             "#7201a8"
            ],
            [
             0.3333333333333333,
             "#9c179e"
            ],
            [
             0.4444444444444444,
             "#bd3786"
            ],
            [
             0.5555555555555556,
             "#d8576b"
            ],
            [
             0.6666666666666666,
             "#ed7953"
            ],
            [
             0.7777777777777778,
             "#fb9f3a"
            ],
            [
             0.8888888888888888,
             "#fdca26"
            ],
            [
             1,
             "#f0f921"
            ]
           ],
           "sequentialminus": [
            [
             0,
             "#0d0887"
            ],
            [
             0.1111111111111111,
             "#46039f"
            ],
            [
             0.2222222222222222,
             "#7201a8"
            ],
            [
             0.3333333333333333,
             "#9c179e"
            ],
            [
             0.4444444444444444,
             "#bd3786"
            ],
            [
             0.5555555555555556,
             "#d8576b"
            ],
            [
             0.6666666666666666,
             "#ed7953"
            ],
            [
             0.7777777777777778,
             "#fb9f3a"
            ],
            [
             0.8888888888888888,
             "#fdca26"
            ],
            [
             1,
             "#f0f921"
            ]
           ]
          },
          "colorway": [
           "#636efa",
           "#EF553B",
           "#00cc96",
           "#ab63fa",
           "#FFA15A",
           "#19d3f3",
           "#FF6692",
           "#B6E880",
           "#FF97FF",
           "#FECB52"
          ],
          "font": {
           "color": "#2a3f5f"
          },
          "geo": {
           "bgcolor": "white",
           "lakecolor": "white",
           "landcolor": "#E5ECF6",
           "showlakes": true,
           "showland": true,
           "subunitcolor": "white"
          },
          "hoverlabel": {
           "align": "left"
          },
          "hovermode": "closest",
          "mapbox": {
           "style": "light"
          },
          "paper_bgcolor": "white",
          "plot_bgcolor": "#E5ECF6",
          "polar": {
           "angularaxis": {
            "gridcolor": "white",
            "linecolor": "white",
            "ticks": ""
           },
           "bgcolor": "#E5ECF6",
           "radialaxis": {
            "gridcolor": "white",
            "linecolor": "white",
            "ticks": ""
           }
          },
          "scene": {
           "xaxis": {
            "backgroundcolor": "#E5ECF6",
            "gridcolor": "white",
            "gridwidth": 2,
            "linecolor": "white",
            "showbackground": true,
            "ticks": "",
            "zerolinecolor": "white"
           },
           "yaxis": {
            "backgroundcolor": "#E5ECF6",
            "gridcolor": "white",
            "gridwidth": 2,
            "linecolor": "white",
            "showbackground": true,
            "ticks": "",
            "zerolinecolor": "white"
           },
           "zaxis": {
            "backgroundcolor": "#E5ECF6",
            "gridcolor": "white",
            "gridwidth": 2,
            "linecolor": "white",
            "showbackground": true,
            "ticks": "",
            "zerolinecolor": "white"
           }
          },
          "shapedefaults": {
           "line": {
            "color": "#2a3f5f"
           }
          },
          "ternary": {
           "aaxis": {
            "gridcolor": "white",
            "linecolor": "white",
            "ticks": ""
           },
           "baxis": {
            "gridcolor": "white",
            "linecolor": "white",
            "ticks": ""
           },
           "bgcolor": "#E5ECF6",
           "caxis": {
            "gridcolor": "white",
            "linecolor": "white",
            "ticks": ""
           }
          },
          "title": {
           "x": 0.05
          },
          "xaxis": {
           "automargin": true,
           "gridcolor": "white",
           "linecolor": "white",
           "ticks": "",
           "title": {
            "standoff": 15
           },
           "zerolinecolor": "white",
           "zerolinewidth": 2
          },
          "yaxis": {
           "automargin": true,
           "gridcolor": "white",
           "linecolor": "white",
           "ticks": "",
           "title": {
            "standoff": 15
           },
           "zerolinecolor": "white",
           "zerolinewidth": 2
          }
         }
        },
        "title": {
         "text": "Distribución de Hours"
        },
        "xaxis": {
         "anchor": "y",
         "domain": [
          0,
          1
         ]
        },
        "yaxis": {
         "anchor": "x",
         "domain": [
          0,
          1
         ],
         "title": {
          "text": "Hours"
         }
        }
       }
      }
     },
     "metadata": {},
     "output_type": "display_data"
    }
   ],
   "source": [
    "# Con este gráfico vemos que los scores se concentran en ciertos valores específicos (como 30),\n",
    "#también hay menos datos en otros rasgos...\n",
    "import plotly.express as px\n",
    "\n",
    "fig = px.box(df1, y = 'Hours', title='Distribución de Hours')\n",
    "fig.show()"
   ]
  },
  {
   "cell_type": "code",
   "execution_count": 13,
   "metadata": {},
   "outputs": [
    {
     "data": {
      "image/png": "[encoded data removed]",
      "text/plain": [
       "<Figure size 1000x800 with 2 Axes>"
      ]
     },
     "metadata": {},
     "output_type": "display_data"
    }
   ],
   "source": [
    "#La mediana indica que, en promedio los valores están alrededor de 4 horas.\n",
    "#La distribución es casi simétrica ya que la mediana está casi en 5.\n",
    "#Los valores de hours van típicamente entre 2.7 y 7.4\n",
    "#Mapa de calor\n",
    "import seaborn as sns\n",
    "\n",
    "plt.figure(figsize=(10, 8))\n",
    "correlation_matrix = df1.corr()\n",
    "sns.heatmap(correlation_matrix, annot= True, cmap='coolwarm')\n",
    "plt.title('Mapa de calor entre las variables')\n",
    "plt.show()"
   ]
  },
  {
   "cell_type": "markdown",
   "metadata": {},
   "source": [
    "Conclusión inicial\n",
    "\n",
    "El valor de correlación 0.98 indica que están casi linealmente relacionados. Quiere decir que con más horas dedicadas hay mejores puntajes obtenidos.\n",
    "\n",
    "La problemática a abordar puedo definir como regresión. Quiere decir predecir una variable continua, como las puntuaciones de los estudiantes.\n",
    "\n",
    "La calidad de las predicciones depende en gran medida de la correlación.\n",
    "\n",
    "Como el dataset es limitado, hay una mayor dificultad para quitar predicciones buenas, pero eso lo veremos más adelante."
   ]
  },
  {
   "cell_type": "code",
   "execution_count": 14,
   "metadata": {},
   "outputs": [],
   "source": [
    "# Hago los modelos predictivos\n",
    "import pandas as pd\n",
    "from sklearn.model_selection import train_test_split\n",
    "from sklearn.pipeline import Pipeline\n",
    "from sklearn.impute import SimpleImputer\n",
    "from sklearn.preprocessing import StandardScaler, OneHotEncoder\n",
    "from sklearn.compose import ColumnTransformer\n",
    "\n",
    "df1 = pd.read_csv('/Users/mathiorti/Desktop/Me/Cursos/Data Analisis and Machine Learning/Data Sets/student_scores.csv')\n",
    "\n",
    "#Selecciono la variable objetivo y la separo\n",
    "X = df1.drop('Scores', axis = 1) \n",
    "y = df1['Scores'] \n",
    "\n",
    "#Ahora divido los conjuntos de entrenamiento y de prueba\n",
    "X_train, X_test, y_train, y_test = train_test_split(X, y, test_size=0.2, random_state=42)\n",
    "\n",
    "#Ahora hago el pipeline, utilizo pipeline porque lo utilicé en otros proyectos y la verdad que me gusta mucho su funcionamiento.\n",
    "\n",
    "num_columns = X.select_dtypes(include=['float64', 'int64']).columns\n",
    "cat_columns = X.select_dtypes(include=['object']).columns\n",
    "\n",
    "numeric_transformer = Pipeline(steps=[\n",
    "    ('imputer', SimpleImputer(strategy='mean')),\n",
    "    ('scaler', StandardScaler())\n",
    "])\n",
    "\n",
    "categorical_transformer = Pipeline(steps =[\n",
    "    ('imputer', SimpleImputer(strategy='most_frequent')),\n",
    "    ('onehot', OneHotEncoder(handle_unknown='ignore') )\n",
    "])\n",
    "\n",
    "preprocessor = ColumnTransformer(\n",
    "    transformers=[\n",
    "        ('num', numeric_transformer, num_columns),\n",
    "        ('cat', categorical_transformer, cat_columns)\n",
    "    ]\n",
    ")\n",
    "\n",
    "#Ahora hago el pipeline completo\n",
    "pipeline = Pipeline(steps=[\n",
    "    ('preprocessor', preprocessor)\n",
    "])"
   ]
  },
  {
   "cell_type": "code",
   "execution_count": 15,
   "metadata": {},
   "outputs": [
    {
     "name": "stdout",
     "output_type": "stream",
     "text": [
      "                     Model  Mean Squared Error  R2 Score\n",
      "0        Linear Regression           18.943212  0.967806\n",
      "1            KNN Regressor           34.232000  0.941822\n",
      "2  Decision Tree Regressor           31.700000  0.946125\n",
      "3  Random Forest Regressor           18.688034  0.968239\n",
      "4        XGBoost Regressor           31.005458  0.947306\n"
     ]
    }
   ],
   "source": [
    "from sklearn.linear_model import LinearRegression\n",
    "from sklearn.neighbors import KNeighborsRegressor\n",
    "from sklearn.tree import DecisionTreeRegressor\n",
    "from sklearn.ensemble import RandomForestRegressor\n",
    "from xgboost import XGBRegressor\n",
    "from sklearn.metrics import mean_squared_error, r2_score\n",
    "\n",
    "# Creo los modelos\n",
    "pipeline_LR = Pipeline(steps=[\n",
    "    ('preprocessor', preprocessor),  # Preprocesamiento definido previamente\n",
    "    ('regressor', LinearRegression())\n",
    "])\n",
    "\n",
    "pipeline_KNN = Pipeline(steps=[\n",
    "    ('preprocessor', preprocessor),\n",
    "    ('regressor', KNeighborsRegressor(n_neighbors=5))\n",
    "])\n",
    "\n",
    "pipeline_DT = Pipeline(steps=[\n",
    "    ('preprocessor', preprocessor),\n",
    "    ('regressor', DecisionTreeRegressor(criterion='squared_error', max_depth=None, random_state=42))\n",
    "])\n",
    "\n",
    "pipeline_RF = Pipeline(steps=[\n",
    "    ('preprocessor', preprocessor),\n",
    "    ('regressor', RandomForestRegressor(n_estimators=100, criterion='squared_error', max_depth=None, random_state=42))\n",
    "])\n",
    "\n",
    "pipeline_XGB = Pipeline(steps=[\n",
    "    ('preprocessor', preprocessor),\n",
    "    ('regressor', XGBRegressor(eval_metric='rmse', random_state=42))\n",
    "])\n",
    "\n",
    "# Entreno los modelos\n",
    "pipeline_LR.fit(X_train, y_train)\n",
    "pipeline_KNN.fit(X_train, y_train)\n",
    "pipeline_DT.fit(X_train, y_train)\n",
    "pipeline_RF.fit(X_train, y_train)\n",
    "pipeline_XGB.fit(X_train, y_train)\n",
    "\n",
    "# Hago las predicciones\n",
    "y_pred_LR = pipeline_LR.predict(X_test)\n",
    "y_pred_KNN = pipeline_KNN.predict(X_test)\n",
    "y_pred_DT = pipeline_DT.predict(X_test)\n",
    "y_pred_RF = pipeline_RF.predict(X_test)\n",
    "y_pred_XGB = pipeline_XGB.predict(X_test)\n",
    "\n",
    "# Evalúo los modelos\n",
    "mse_LR = mean_squared_error(y_test, y_pred_LR)\n",
    "mse_KNN = mean_squared_error(y_test, y_pred_KNN)\n",
    "mse_DT = mean_squared_error(y_test, y_pred_DT)\n",
    "mse_RF = mean_squared_error(y_test, y_pred_RF)\n",
    "mse_XGB = mean_squared_error(y_test, y_pred_XGB)\n",
    "\n",
    "r2_LR = r2_score(y_test, y_pred_LR)\n",
    "r2_KNN = r2_score(y_test, y_pred_KNN)\n",
    "r2_DT = r2_score(y_test, y_pred_DT)\n",
    "r2_RF = r2_score(y_test, y_pred_RF)\n",
    "r2_XGB = r2_score(y_test, y_pred_XGB)\n",
    "\n",
    "# Puedo hacer un diccionario para mostrar los resultados\n",
    "results = {\n",
    "    'Model': [\"Linear Regression\", \"KNN Regressor\", \"Decision Tree Regressor\", \"Random Forest Regressor\", \"XGBoost Regressor\"],\n",
    "    \"Mean Squared Error\": [mse_LR, mse_KNN, mse_DT, mse_RF, mse_XGB],\n",
    "    \"R2 Score\": [r2_LR, r2_KNN, r2_DT, r2_RF, r2_XGB]\n",
    "}\n",
    "\n",
    "results_df = pd.DataFrame(results)\n",
    "print(results_df)\n"
   ]
  },
  {
   "cell_type": "code",
   "execution_count": 16,
   "metadata": {},
   "outputs": [
    {
     "name": "stdout",
     "output_type": "stream",
     "text": [
      "Linear Regression - Mean R2: 0.7953635134250877\n",
      "Linear Regression - Std R2: 0.1717480436262196\n",
      "K-Nearest Neighbors Regressor - Mean R2: 0.626023450659545\n",
      "K-Nearest Neighbors Regressor - Std R2: 0.38892901725714635\n",
      "Decision Tree Regressor - Mean R2: 0.3899000053524668\n",
      "Decision Tree Regressor - Std R2: 0.5157721187827109\n",
      "Random Forest Regressor - Mean R2: 0.5145055737799322\n",
      "Random Forest Regressor - Std R2: 0.4535204882637179\n",
      "XGBoost Regressor - Mean R2: 0.42121862173080443\n",
      "XGBoost Regressor - Std R2: 0.5347325848517903\n"
     ]
    }
   ],
   "source": [
    "from sklearn.model_selection import cross_val_score\n",
    "# Validación cruzada \n",
    "scores_LR = cross_val_score(pipeline_LR, X_train, y_train, cv=5, scoring='r2')\n",
    "print(\"Linear Regression - Mean R2:\", scores_LR.mean())\n",
    "print(\"Linear Regression - Std R2:\", scores_LR.std())\n",
    "\n",
    "scores_KNN = cross_val_score(pipeline_KNN, X_train, y_train, cv=5, scoring='r2')\n",
    "print(\"K-Nearest Neighbors Regressor - Mean R2:\", scores_KNN.mean())\n",
    "print(\"K-Nearest Neighbors Regressor - Std R2:\", scores_KNN.std())\n",
    "\n",
    "scores_DT = cross_val_score(pipeline_DT, X_train, y_train, cv=5, scoring='r2')\n",
    "print(\"Decision Tree Regressor - Mean R2:\", scores_DT.mean())\n",
    "print(\"Decision Tree Regressor - Std R2:\", scores_DT.std())\n",
    "\n",
    "scores_RF = cross_val_score(pipeline_RF, X_train, y_train, cv=5, scoring='r2')\n",
    "print(\"Random Forest Regressor - Mean R2:\", scores_RF.mean())\n",
    "print(\"Random Forest Regressor - Std R2:\", scores_RF.std())\n",
    "\n",
    "scores_XGB = cross_val_score(pipeline_XGB, X_train, y_train, cv=5, scoring='r2')\n",
    "print(\"XGBoost Regressor - Mean R2:\", scores_XGB.mean())\n",
    "print(\"XGBoost Regressor - Std R2:\", scores_XGB.std())\n"
   ]
  },
  {
   "cell_type": "code",
   "execution_count": 17,
   "metadata": {},
   "outputs": [],
   "source": [
    "#El mejor modelo es el Linear Regression con un R2 de 79.54% y una variabilidad aceptable."
   ]
  },
  {
   "cell_type": "markdown",
   "metadata": {},
   "source": [
    "# Data Set 2"
   ]
  },
  {
   "cell_type": "code",
   "execution_count": 4,
   "metadata": {},
   "outputs": [
    {
     "name": "stdout",
     "output_type": "stream",
     "text": [
      "      id  gender   age  hypertension  heart_disease ever_married  \\\n",
      "0   9046    Male  67.0             0              1          Yes   \n",
      "1  51676  Female  61.0             0              0          Yes   \n",
      "2  31112    Male  80.0             0              1          Yes   \n",
      "3  60182  Female  49.0             0              0          Yes   \n",
      "4   1665  Female  79.0             1              0          Yes   \n",
      "\n",
      "       work_type Residence_type  avg_glucose_level   bmi   smoking_status  \\\n",
      "0        Private          Urban             228.69  36.6  formerly smoked   \n",
      "1  Self-employed          Rural             202.21   NaN     never smoked   \n",
      "2        Private          Rural             105.92  32.5     never smoked   \n",
      "3        Private          Urban             171.23  34.4           smokes   \n",
      "4  Self-employed          Rural             174.12  24.0     never smoked   \n",
      "\n",
      "   stroke  \n",
      "0       1  \n",
      "1       1  \n",
      "2       1  \n",
      "3       1  \n",
      "4       1  \n"
     ]
    }
   ],
   "source": [
    "import pandas as pd\n",
    "\n",
    "df2 = pd.read_csv('/Users/mathiorti/Desktop/Me/Cursos/Data Analisis and Machine Learning/Data Sets/healthcare-dataset-stroke-data.csv')\n",
    "print(df2.head())"
   ]
  },
  {
   "cell_type": "code",
   "execution_count": 3,
   "metadata": {},
   "outputs": [
    {
     "name": "stdout",
     "output_type": "stream",
     "text": [
      "<class 'pandas.core.frame.DataFrame'>\n",
      "RangeIndex: 5110 entries, 0 to 5109\n",
      "Data columns (total 12 columns):\n",
      " #   Column             Non-Null Count  Dtype  \n",
      "---  ------             --------------  -----  \n",
      " 0   id                 5110 non-null   int64  \n",
      " 1   gender             5110 non-null   object \n",
      " 2   age                5110 non-null   float64\n",
      " 3   hypertension       5110 non-null   int64  \n",
      " 4   heart_disease      5110 non-null   int64  \n",
      " 5   ever_married       5110 non-null   object \n",
      " 6   work_type          5110 non-null   object \n",
      " 7   Residence_type     5110 non-null   object \n",
      " 8   avg_glucose_level  5110 non-null   float64\n",
      " 9   bmi                4909 non-null   float64\n",
      " 10  smoking_status     5110 non-null   object \n",
      " 11  stroke             5110 non-null   int64  \n",
      "dtypes: float64(3), int64(4), object(5)\n",
      "memory usage: 479.2+ KB\n"
     ]
    }
   ],
   "source": [
    "df2.info()"
   ]
  },
  {
   "cell_type": "code",
   "execution_count": 4,
   "metadata": {},
   "outputs": [
    {
     "data": {
      "text/plain": [
       "id                     0\n",
       "gender                 0\n",
       "age                    0\n",
       "hypertension           0\n",
       "heart_disease          0\n",
       "ever_married           0\n",
       "work_type              0\n",
       "Residence_type         0\n",
       "avg_glucose_level      0\n",
       "bmi                  201\n",
       "smoking_status         0\n",
       "stroke                 0\n",
       "dtype: int64"
      ]
     },
     "execution_count": 4,
     "metadata": {},
     "output_type": "execute_result"
    }
   ],
   "source": [
    "#Calculo la cantidad de datos nulos\n",
    "df2.isnull().sum()"
   ]
  },
  {
   "cell_type": "code",
   "execution_count": 6,
   "metadata": {},
   "outputs": [
    {
     "name": "stdout",
     "output_type": "stream",
     "text": [
      "id                     int64\n",
      "gender                object\n",
      "age                  float64\n",
      "hypertension           int64\n",
      "heart_disease          int64\n",
      "ever_married          object\n",
      "work_type             object\n",
      "Residence_type        object\n",
      "avg_glucose_level    float64\n",
      "bmi                  float64\n",
      "smoking_status        object\n",
      "stroke                 int64\n",
      "dtype: object\n"
     ]
    }
   ],
   "source": [
    "#Tenemos datos nulos en bmi... Ahora veo los tipos de datos\n",
    "print(df2.dtypes)"
   ]
  },
  {
   "cell_type": "code",
   "execution_count": 7,
   "metadata": {},
   "outputs": [
    {
     "name": "stdout",
     "output_type": "stream",
     "text": [
      "id                      int64\n",
      "gender               category\n",
      "age                     int64\n",
      "hypertension            int64\n",
      "heart_disease           int64\n",
      "ever_married         category\n",
      "work_type              object\n",
      "Residence_type       category\n",
      "avg_glucose_level     float64\n",
      "bmi                   float64\n",
      "smoking_status         object\n",
      "stroke                  int64\n",
      "dtype: object\n"
     ]
    }
   ],
   "source": [
    "#Modificaré algunos\n",
    "df2['gender'] = df2['gender'].astype('category')\n",
    "df2['age'] = df2['age'].astype('int64')\n",
    "df2['ever_married'] = df2['ever_married'].astype('category')\n",
    "df2['Residence_type'] = df2['Residence_type'].astype('category')\n",
    "print(df2.dtypes)"
   ]
  },
  {
   "cell_type": "code",
   "execution_count": 8,
   "metadata": {},
   "outputs": [
    {
     "name": "stdout",
     "output_type": "stream",
     "text": [
      "                 id          age  hypertension  heart_disease  \\\n",
      "count   5110.000000  5110.000000   5110.000000    5110.000000   \n",
      "mean   36517.829354    43.215264      0.097456       0.054012   \n",
      "std    21161.721625    22.633866      0.296607       0.226063   \n",
      "min       67.000000     0.000000      0.000000       0.000000   \n",
      "25%    17741.250000    25.000000      0.000000       0.000000   \n",
      "50%    36932.000000    45.000000      0.000000       0.000000   \n",
      "75%    54682.000000    61.000000      0.000000       0.000000   \n",
      "max    72940.000000    82.000000      1.000000       1.000000   \n",
      "\n",
      "       avg_glucose_level          bmi       stroke  \n",
      "count        5110.000000  4909.000000  5110.000000  \n",
      "mean          106.147677    28.893237     0.048728  \n",
      "std            45.283560     7.854067     0.215320  \n",
      "min            55.120000    10.300000     0.000000  \n",
      "25%            77.245000    23.500000     0.000000  \n",
      "50%            91.885000    28.100000     0.000000  \n",
      "75%           114.090000    33.100000     0.000000  \n",
      "max           271.740000    97.600000     1.000000  \n"
     ]
    }
   ],
   "source": [
    "#Ahora están bien los tipos de datos\n",
    "print(df2.describe())"
   ]
  },
  {
   "cell_type": "code",
   "execution_count": 9,
   "metadata": {},
   "outputs": [
    {
     "data": {
      "image/png": "[encoded data removed]",
      "text/plain": [
       "<Figure size 1000x800 with 1 Axes>"
      ]
     },
     "metadata": {},
     "output_type": "display_data"
    }
   ],
   "source": [
    "import matplotlib.pyplot as plt\n",
    "\n",
    "plt.figure(figsize=(10, 8))\n",
    "plt.hist(df2['heart_disease'], bins = 20, edgecolor = 'black', alpha = 0.7)\n",
    "plt.title('Distribución de Heart Disease')\n",
    "plt.xlabel('Heart Disease')\n",
    "plt.ylabel('Frecuencia')\n",
    "plt.grid(True)\n",
    "plt.show()"
   ]
  },
  {
   "cell_type": "code",
   "execution_count": 11,
   "metadata": {},
   "outputs": [
    {
     "data": {
      "application/vnd.plotly.v1+json": {
       "config": {
        "plotlyServerURL": "https://plot.ly"
       },
       "data": [
        {
         "alignmentgroup": "True",
         "hovertemplate": "age=%{y}<extra></extra>",
         "legendgroup": "",
         "marker": {
          "color": "#636efa"
         },
         "name": "",
         "notched": false,
         "offsetgroup": "",
         "orientation": "v",
         "showlegend": false,
         "type": "box",
         "x0": " ",
         "xaxis": "x",
         "y": [
          67,
          61,
          80,
          49,
          79,
          81,
          74,
          69,
          59,
          78,
          81,
          61,
          54,
          78,
          79,
          50,
          64,
          75,
          60,
          57,
          71,
          52,
          79,
          82,
          71,
          80,
          65,
          58,
          69,
          59,
          57,
          42,
          82,
          80,
          48,
          82,
          74,
          72,
          58,
          49,
          78,
          54,
          82,
          63,
          60,
          76,
          75,
          58,
          81,
          39,
          76,
          78,
          79,
          77,
          63,
          63,
          82,
          78,
          73,
          54,
          56,
          80,
          67,
          45,
          75,
          78,
          70,
          76,
          59,
          80,
          76,
          67,
          66,
          63,
          52,
          80,
          80,
          79,
          51,
          43,
          59,
          66,
          79,
          68,
          58,
          54,
          61,
          70,
          47,
          74,
          79,
          81,
          57,
          80,
          45,
          78,
          70,
          58,
          57,
          69,
          64,
          77,
          74,
          81,
          57,
          58,
          50,
          54,
          79,
          53,
          79,
          80,
          76,
          45,
          68,
          71,
          61,
          74,
          38,
          77,
          58,
          53,
          80,
          56,
          72,
          72,
          78,
          80,
          82,
          75,
          73,
          78,
          69,
          38,
          68,
          71,
          76,
          76,
          76,
          75,
          82,
          59,
          74,
          69,
          72,
          66,
          65,
          78,
          57,
          70,
          79,
          68,
          80,
          68,
          55,
          77,
          50,
          57,
          71,
          81,
          76,
          71,
          1,
          78,
          70,
          78,
          56,
          79,
          79,
          81,
          64,
          79,
          60,
          80,
          78,
          72,
          80,
          78,
          80,
          81,
          46,
          59,
          32,
          77,
          61,
          63,
          63,
          82,
          82,
          61,
          65,
          51,
          59,
          68,
          72,
          59,
          70,
          69,
          79,
          74,
          74,
          80,
          77,
          78,
          54,
          78,
          81,
          78,
          78,
          63,
          39,
          51,
          63,
          48,
          81,
          79,
          78,
          55,
          76,
          73,
          81,
          79,
          63,
          81,
          49,
          57,
          81,
          74,
          39,
          80,
          81,
          79,
          73,
          77,
          78,
          68,
          57,
          77,
          51,
          60,
          66,
          57,
          68,
          68,
          57,
          14,
          75,
          71,
          78,
          3,
          58,
          8,
          70,
          14,
          47,
          52,
          75,
          32,
          74,
          79,
          79,
          37,
          37,
          40,
          35,
          20,
          42,
          44,
          79,
          65,
          57,
          49,
          71,
          59,
          25,
          67,
          38,
          54,
          70,
          27,
          47,
          58,
          3,
          58,
          14,
          32,
          23,
          55,
          17,
          59,
          13,
          4,
          16,
          67,
          22,
          45,
          66,
          58,
          69,
          58,
          53,
          78,
          44,
          66,
          27,
          43,
          13,
          51,
          30,
          46,
          43,
          79,
          27,
          38,
          78,
          57,
          61,
          37,
          48,
          29,
          22,
          11,
          22,
          53,
          27,
          76,
          57,
          8,
          21,
          18,
          78,
          78,
          33,
          52,
          51,
          11,
          48,
          82,
          54,
          49,
          24,
          37,
          34,
          64,
          66,
          23,
          68,
          55,
          25,
          48,
          79,
          47,
          20,
          60,
          32,
          66,
          43,
          36,
          52,
          29,
          76,
          39,
          76,
          0,
          34,
          72,
          43,
          57,
          44,
          4,
          44,
          18,
          41,
          23,
          53,
          56,
          0,
          25,
          14,
          53,
          4,
          39,
          53,
          5,
          4,
          37,
          70,
          24,
          55,
          70,
          34,
          26,
          39,
          38,
          20,
          17,
          60,
          75,
          31,
          58,
          5,
          13,
          22,
          52,
          61,
          78,
          57,
          21,
          22,
          80,
          7,
          64,
          64,
          38,
          12,
          33,
          3,
          37,
          22,
          24,
          75,
          12,
          63,
          52,
          68,
          5,
          56,
          43,
          40,
          53,
          52,
          31,
          63,
          69,
          64,
          64,
          62,
          2,
          53,
          65,
          22,
          26,
          53,
          20,
          63,
          13,
          21,
          65,
          65,
          42,
          72,
          13,
          29,
          59,
          42,
          13,
          75,
          33,
          43,
          11,
          7,
          16,
          44,
          78,
          25,
          69,
          61,
          43,
          38,
          68,
          26,
          18,
          43,
          43,
          32,
          81,
          25,
          61,
          66,
          54,
          11,
          53,
          78,
          9,
          48,
          31,
          20,
          21,
          42,
          35,
          53,
          60,
          74,
          23,
          55,
          71,
          5,
          14,
          15,
          66,
          56,
          60,
          57,
          29,
          76,
          52,
          42,
          71,
          64,
          39,
          46,
          51,
          31,
          22,
          41,
          28,
          44,
          68,
          49,
          10,
          31,
          67,
          40,
          70,
          38,
          5,
          54,
          30,
          23,
          31,
          72,
          23,
          25,
          51,
          20,
          12,
          57,
          65,
          16,
          43,
          30,
          29,
          54,
          57,
          42,
          18,
          9,
          26,
          40,
          77,
          15,
          76,
          52,
          55,
          5,
          55,
          36,
          46,
          5,
          39,
          12,
          67,
          1,
          72,
          0,
          64,
          27,
          25,
          81,
          32,
          57,
          52,
          54,
          36,
          18,
          45,
          29,
          51,
          23,
          54,
          54,
          18,
          26,
          72,
          5,
          65,
          42,
          47,
          24,
          57,
          51,
          48,
          56,
          30,
          63,
          46,
          53,
          1,
          15,
          59,
          24,
          53,
          39,
          23,
          31,
          5,
          44,
          1,
          40,
          7,
          56,
          42,
          48,
          82,
          52,
          42,
          73,
          55,
          50,
          43,
          33,
          80,
          33,
          74,
          65,
          40,
          52,
          66,
          20,
          51,
          60,
          59,
          58,
          42,
          28,
          57,
          66,
          56,
          48,
          37,
          27,
          15,
          61,
          80,
          43,
          53,
          70,
          58,
          49,
          65,
          54,
          74,
          56,
          79,
          71,
          28,
          9,
          4,
          36,
          78,
          52,
          80,
          28,
          38,
          56,
          75,
          76,
          10,
          48,
          40,
          82,
          61,
          17,
          58,
          12,
          53,
          26,
          48,
          25,
          27,
          31,
          16,
          20,
          2,
          1,
          28,
          32,
          35,
          52,
          55,
          42,
          52,
          18,
          13,
          45,
          29,
          12,
          37,
          30,
          44,
          79,
          38,
          45,
          66,
          19,
          49,
          66,
          47,
          59,
          23,
          79,
          37,
          78,
          70,
          34,
          28,
          29,
          13,
          22,
          56,
          81,
          28,
          9,
          50,
          70,
          30,
          51,
          24,
          17,
          43,
          9,
          50,
          49,
          6,
          30,
          73,
          20,
          42,
          79,
          55,
          27,
          71,
          9,
          23,
          71,
          56,
          31,
          64,
          46,
          55,
          2,
          58,
          78,
          1,
          35,
          64,
          18,
          19,
          47,
          54,
          39,
          37,
          17,
          20,
          31,
          56,
          31,
          82,
          33,
          42,
          20,
          22,
          61,
          31,
          31,
          17,
          30,
          69,
          63,
          19,
          7,
          51,
          38,
          2,
          58,
          69,
          64,
          31,
          59,
          54,
          24,
          19,
          17,
          29,
          42,
          31,
          29,
          23,
          25,
          14,
          66,
          77,
          79,
          52,
          41,
          31,
          39,
          51,
          40,
          48,
          55,
          41,
          39,
          41,
          5,
          38,
          40,
          12,
          20,
          53,
          21,
          70,
          61,
          70,
          38,
          59,
          36,
          31,
          65,
          61,
          2,
          52,
          33,
          5,
          32,
          54,
          51,
          39,
          40,
          19,
          9,
          53,
          23,
          19,
          1,
          48,
          71,
          44,
          53,
          70,
          1,
          49,
          17,
          40,
          46,
          32,
          2,
          40,
          19,
          43,
          46,
          71,
          31,
          41,
          65,
          52,
          20,
          77,
          51,
          37,
          49,
          62,
          17,
          28,
          80,
          45,
          37,
          3,
          26,
          71,
          58,
          59,
          74,
          17,
          62,
          37,
          19,
          59,
          59,
          62,
          80,
          54,
          27,
          4,
          81,
          41,
          27,
          51,
          59,
          51,
          71,
          48,
          49,
          35,
          25,
          31,
          68,
          39,
          32,
          39,
          63,
          69,
          29,
          1,
          58,
          32,
          63,
          57,
          77,
          8,
          21,
          16,
          8,
          71,
          74,
          7,
          19,
          64,
          23,
          75,
          80,
          40,
          24,
          74,
          52,
          54,
          23,
          19,
          23,
          13,
          51,
          60,
          79,
          75,
          69,
          57,
          47,
          33,
          51,
          47,
          15,
          1,
          20,
          6,
          50,
          31,
          15,
          3,
          30,
          17,
          24,
          5,
          33,
          30,
          66,
          40,
          27,
          21,
          55,
          19,
          75,
          71,
          16,
          49,
          10,
          37,
          59,
          7,
          61,
          34,
          9,
          46,
          0,
          50,
          19,
          21,
          2,
          37,
          20,
          50,
          61,
          48,
          82,
          64,
          50,
          1,
          0,
          55,
          29,
          4,
          70,
          35,
          80,
          54,
          39,
          26,
          6,
          41,
          42,
          9,
          55,
          71,
          14,
          77,
          50,
          49,
          51,
          79,
          63,
          66,
          20,
          37,
          22,
          60,
          39,
          53,
          55,
          63,
          57,
          82,
          56,
          41,
          8,
          34,
          75,
          57,
          72,
          21,
          51,
          15,
          24,
          30,
          82,
          62,
          79,
          19,
          45,
          5,
          57,
          31,
          61,
          27,
          61,
          53,
          76,
          57,
          9,
          34,
          51,
          61,
          19,
          50,
          80,
          13,
          55,
          67,
          30,
          67,
          82,
          5,
          81,
          48,
          66,
          38,
          8,
          47,
          27,
          53,
          27,
          36,
          50,
          32,
          58,
          73,
          62,
          50,
          51,
          19,
          30,
          45,
          30,
          28,
          70,
          0,
          23,
          18,
          41,
          52,
          77,
          34,
          67,
          1,
          23,
          59,
          62,
          47,
          71,
          22,
          33,
          27,
          44,
          18,
          47,
          66,
          42,
          13,
          56,
          69,
          65,
          53,
          36,
          69,
          19,
          3,
          15,
          59,
          61,
          28,
          52,
          33,
          80,
          47,
          2,
          48,
          1,
          26,
          62,
          1,
          38,
          28,
          67,
          57,
          40,
          10,
          55,
          7,
          56,
          37,
          69,
          45,
          28,
          52,
          46,
          45,
          21,
          4,
          45,
          71,
          46,
          3,
          79,
          71,
          74,
          52,
          49,
          32,
          62,
          78,
          48,
          18,
          80,
          34,
          40,
          59,
          11,
          35,
          29,
          23,
          59,
          44,
          62,
          32,
          2,
          73,
          79,
          2,
          43,
          43,
          62,
          73,
          31,
          42,
          20,
          55,
          3,
          23,
          33,
          14,
          79,
          64,
          76,
          46,
          80,
          21,
          33,
          32,
          0,
          49,
          41,
          37,
          58,
          79,
          23,
          78,
          51,
          41,
          68,
          30,
          1,
          32,
          20,
          20,
          10,
          8,
          65,
          65,
          46,
          53,
          79,
          43,
          56,
          3,
          32,
          41,
          53,
          35,
          67,
          33,
          21,
          26,
          69,
          73,
          15,
          3,
          1,
          80,
          2,
          50,
          30,
          15,
          71,
          4,
          2,
          11,
          45,
          22,
          63,
          50,
          25,
          49,
          39,
          43,
          67,
          48,
          38,
          14,
          63,
          37,
          20,
          60,
          13,
          34,
          22,
          46,
          53,
          28,
          62,
          6,
          11,
          66,
          80,
          8,
          53,
          63,
          31,
          43,
          79,
          8,
          38,
          80,
          49,
          50,
          13,
          46,
          73,
          60,
          44,
          79,
          5,
          51,
          71,
          5,
          65,
          81,
          46,
          44,
          54,
          25,
          49,
          80,
          22,
          61,
          3,
          50,
          45,
          55,
          21,
          0,
          50,
          73,
          58,
          30,
          55,
          57,
          80,
          77,
          29,
          46,
          40,
          29,
          37,
          35,
          54,
          56,
          26,
          75,
          44,
          63,
          17,
          46,
          47,
          50,
          49,
          76,
          47,
          47,
          49,
          71,
          65,
          40,
          82,
          64,
          72,
          50,
          40,
          74,
          30,
          68,
          6,
          4,
          60,
          59,
          72,
          62,
          13,
          72,
          1,
          35,
          54,
          40,
          3,
          2,
          41,
          61,
          58,
          17,
          64,
          32,
          42,
          39,
          10,
          78,
          68,
          24,
          59,
          45,
          12,
          37,
          43,
          12,
          13,
          74,
          2,
          59,
          21,
          55,
          14,
          53,
          75,
          37,
          49,
          55,
          57,
          45,
          46,
          12,
          12,
          77,
          6,
          76,
          52,
          62,
          82,
          69,
          78,
          37,
          50,
          41,
          54,
          43,
          37,
          9,
          11,
          56,
          5,
          17,
          6,
          25,
          57,
          18,
          2,
          76,
          1,
          54,
          45,
          54,
          67,
          53,
          47,
          44,
          65,
          40,
          3,
          81,
          24,
          9,
          52,
          63,
          78,
          22,
          2,
          79,
          49,
          74,
          62,
          16,
          62,
          27,
          50,
          49,
          24,
          21,
          17,
          22,
          13,
          21,
          51,
          8,
          48,
          16,
          18,
          7,
          68,
          49,
          80,
          31,
          25,
          39,
          35,
          71,
          71,
          40,
          41,
          2,
          3,
          53,
          1,
          60,
          5,
          30,
          49,
          68,
          23,
          2,
          24,
          41,
          63,
          64,
          38,
          1,
          38,
          43,
          27,
          61,
          42,
          46,
          67,
          34,
          51,
          77,
          30,
          81,
          12,
          18,
          35,
          82,
          53,
          75,
          32,
          27,
          56,
          71,
          78,
          44,
          62,
          27,
          42,
          66,
          25,
          82,
          49,
          77,
          59,
          54,
          38,
          55,
          13,
          45,
          54,
          30,
          51,
          47,
          25,
          61,
          55,
          23,
          71,
          59,
          4,
          65,
          50,
          42,
          51,
          66,
          22,
          5,
          19,
          47,
          12,
          53,
          26,
          62,
          81,
          63,
          25,
          8,
          76,
          44,
          65,
          54,
          24,
          65,
          12,
          33,
          74,
          18,
          77,
          48,
          52,
          23,
          25,
          44,
          78,
          37,
          32,
          67,
          41,
          2,
          75,
          17,
          13,
          25,
          57,
          31,
          61,
          46,
          47,
          15,
          47,
          68,
          0,
          40,
          62,
          45,
          47,
          35,
          51,
          60,
          59,
          1,
          18,
          81,
          15,
          73,
          0,
          53,
          45,
          70,
          56,
          7,
          66,
          53,
          20,
          15,
          51,
          34,
          33,
          53,
          69,
          28,
          81,
          20,
          1,
          2,
          77,
          38,
          23,
          67,
          59,
          41,
          76,
          21,
          41,
          54,
          29,
          25,
          48,
          6,
          21,
          32,
          57,
          64,
          70,
          44,
          60,
          56,
          53,
          59,
          53,
          63,
          42,
          63,
          52,
          62,
          68,
          36,
          3,
          40,
          8,
          58,
          45,
          65,
          28,
          40,
          65,
          58,
          44,
          54,
          79,
          62,
          37,
          66,
          63,
          27,
          6,
          30,
          15,
          50,
          32,
          33,
          62,
          82,
          71,
          20,
          44,
          57,
          50,
          50,
          44,
          47,
          35,
          8,
          3,
          29,
          36,
          19,
          41,
          23,
          14,
          35,
          45,
          52,
          19,
          21,
          8,
          35,
          33,
          53,
          59,
          34,
          31,
          43,
          61,
          57,
          11,
          36,
          16,
          60,
          13,
          69,
          69,
          22,
          63,
          45,
          58,
          61,
          30,
          78,
          68,
          16,
          38,
          39,
          51,
          37,
          16,
          39,
          24,
          51,
          50,
          27,
          73,
          65,
          76,
          66,
          53,
          65,
          48,
          31,
          1,
          45,
          56,
          62,
          35,
          16,
          31,
          5,
          26,
          10,
          22,
          82,
          50,
          47,
          31,
          22,
          12,
          63,
          78,
          4,
          76,
          32,
          81,
          39,
          59,
          2,
          37,
          78,
          75,
          34,
          48,
          13,
          54,
          13,
          24,
          76,
          1,
          57,
          46,
          26,
          56,
          34,
          25,
          60,
          22,
          35,
          48,
          38,
          12,
          22,
          0,
          13,
          78,
          23,
          35,
          78,
          50,
          61,
          60,
          43,
          60,
          51,
          21,
          16,
          25,
          36,
          8,
          48,
          14,
          60,
          61,
          60,
          56,
          9,
          45,
          14,
          37,
          52,
          30,
          60,
          47,
          82,
          64,
          12,
          79,
          77,
          25,
          26,
          14,
          42,
          37,
          8,
          78,
          18,
          78,
          55,
          68,
          47,
          47,
          51,
          43,
          78,
          63,
          45,
          53,
          12,
          56,
          29,
          10,
          55,
          49,
          23,
          53,
          56,
          56,
          61,
          45,
          80,
          47,
          3,
          63,
          68,
          76,
          62,
          30,
          44,
          47,
          25,
          31,
          71,
          32,
          72,
          44,
          63,
          37,
          54,
          20,
          56,
          25,
          19,
          62,
          27,
          5,
          20,
          21,
          44,
          39,
          38,
          77,
          26,
          51,
          39,
          5,
          59,
          67,
          45,
          43,
          80,
          42,
          8,
          68,
          5,
          57,
          44,
          16,
          60,
          58,
          43,
          50,
          1,
          5,
          9,
          67,
          21,
          36,
          70,
          57,
          52,
          28,
          41,
          81,
          33,
          31,
          42,
          10,
          34,
          70,
          33,
          58,
          25,
          1,
          47,
          14,
          82,
          52,
          72,
          52,
          61,
          15,
          1,
          6,
          3,
          18,
          53,
          58,
          31,
          29,
          5,
          40,
          75,
          52,
          39,
          40,
          78,
          39,
          17,
          45,
          0,
          13,
          26,
          42,
          44,
          3,
          42,
          25,
          41,
          51,
          20,
          25,
          18,
          37,
          51,
          2,
          38,
          64,
          60,
          22,
          71,
          32,
          32,
          63,
          0,
          54,
          25,
          80,
          31,
          53,
          35,
          31,
          60,
          0,
          21,
          78,
          59,
          0,
          10,
          60,
          11,
          48,
          50,
          69,
          20,
          22,
          55,
          57,
          29,
          32,
          54,
          37,
          58,
          41,
          72,
          0,
          32,
          54,
          79,
          56,
          45,
          6,
          45,
          60,
          65,
          57,
          58,
          8,
          18,
          49,
          2,
          52,
          63,
          57,
          50,
          12,
          35,
          35,
          64,
          42,
          62,
          3,
          43,
          52,
          64,
          59,
          81,
          15,
          50,
          73,
          19,
          30,
          40,
          47,
          66,
          47,
          41,
          63,
          12,
          1,
          46,
          8,
          74,
          74,
          4,
          26,
          63,
          48,
          24,
          47,
          70,
          41,
          42,
          57,
          51,
          15,
          11,
          27,
          53,
          52,
          68,
          65,
          23,
          43,
          55,
          52,
          21,
          78,
          35,
          49,
          50,
          27,
          52,
          22,
          19,
          77,
          57,
          13,
          14,
          29,
          49,
          1,
          21,
          36,
          42,
          56,
          46,
          79,
          25,
          67,
          37,
          44,
          36,
          17,
          50,
          53,
          39,
          71,
          18,
          55,
          52,
          27,
          24,
          72,
          41,
          29,
          26,
          23,
          43,
          43,
          49,
          13,
          26,
          10,
          39,
          41,
          25,
          10,
          54,
          7,
          53,
          55,
          6,
          72,
          42,
          50,
          55,
          47,
          3,
          49,
          12,
          28,
          40,
          55,
          9,
          77,
          18,
          73,
          67,
          58,
          2,
          38,
          5,
          34,
          78,
          57,
          17,
          71,
          19,
          56,
          64,
          13,
          40,
          80,
          62,
          79,
          9,
          77,
          26,
          1,
          16,
          40,
          46,
          45,
          59,
          31,
          69,
          73,
          56,
          80,
          60,
          40,
          30,
          66,
          78,
          37,
          41,
          34,
          18,
          69,
          67,
          28,
          3,
          57,
          34,
          50,
          55,
          2,
          27,
          57,
          73,
          52,
          65,
          48,
          54,
          8,
          45,
          48,
          77,
          34,
          33,
          39,
          39,
          40,
          46,
          1,
          5,
          14,
          49,
          45,
          13,
          76,
          14,
          20,
          9,
          78,
          49,
          55,
          43,
          16,
          58,
          67,
          71,
          8,
          18,
          47,
          59,
          28,
          20,
          67,
          71,
          56,
          44,
          6,
          78,
          32,
          40,
          63,
          51,
          22,
          82,
          17,
          34,
          42,
          32,
          73,
          47,
          34,
          64,
          52,
          49,
          55,
          64,
          23,
          18,
          65,
          12,
          61,
          66,
          59,
          47,
          47,
          71,
          62,
          28,
          7,
          68,
          37,
          75,
          5,
          1,
          34,
          49,
          8,
          50,
          2,
          1,
          76,
          18,
          82,
          67,
          27,
          57,
          51,
          68,
          56,
          77,
          52,
          18,
          63,
          31,
          37,
          64,
          47,
          1,
          42,
          37,
          69,
          13,
          73,
          48,
          78,
          21,
          54,
          43,
          19,
          82,
          80,
          69,
          21,
          46,
          14,
          6,
          3,
          47,
          34,
          41,
          67,
          5,
          20,
          63,
          73,
          62,
          0,
          50,
          71,
          30,
          80,
          64,
          7,
          36,
          79,
          35,
          28,
          72,
          12,
          25,
          27,
          62,
          58,
          30,
          56,
          28,
          47,
          16,
          29,
          26,
          26,
          55,
          29,
          29,
          33,
          19,
          10,
          3,
          60,
          16,
          35,
          41,
          19,
          79,
          41,
          1,
          51,
          33,
          33,
          48,
          45,
          61,
          31,
          60,
          51,
          53,
          52,
          42,
          56,
          14,
          40,
          58,
          52,
          30,
          47,
          34,
          82,
          31,
          58,
          47,
          65,
          13,
          37,
          9,
          7,
          37,
          62,
          14,
          77,
          36,
          3,
          78,
          49,
          44,
          10,
          8,
          60,
          56,
          73,
          65,
          34,
          13,
          80,
          46,
          80,
          65,
          24,
          33,
          11,
          57,
          19,
          82,
          39,
          14,
          60,
          3,
          57,
          79,
          65,
          67,
          60,
          36,
          36,
          26,
          71,
          78,
          77,
          74,
          50,
          9,
          1,
          54,
          8,
          36,
          38,
          34,
          7,
          5,
          14,
          0,
          30,
          39,
          17,
          14,
          52,
          78,
          2,
          32,
          0,
          50,
          48,
          66,
          78,
          46,
          54,
          81,
          15,
          77,
          59,
          48,
          76,
          49,
          44,
          39,
          34,
          50,
          62,
          38,
          43,
          28,
          58,
          28,
          18,
          62,
          31,
          55,
          54,
          73,
          26,
          73,
          38,
          75,
          81,
          20,
          12,
          78,
          42,
          71,
          16,
          4,
          79,
          60,
          45,
          23,
          21,
          67,
          10,
          24,
          50,
          79,
          14,
          13,
          71,
          66,
          32,
          46,
          48,
          45,
          55,
          31,
          25,
          73,
          14,
          56,
          60,
          27,
          28,
          46,
          11,
          63,
          59,
          57,
          35,
          54,
          7,
          48,
          69,
          59,
          72,
          49,
          73,
          24,
          26,
          27,
          78,
          77,
          59,
          0,
          39,
          35,
          54,
          75,
          80,
          35,
          22,
          39,
          6,
          62,
          13,
          56,
          53,
          5,
          44,
          13,
          59,
          35,
          52,
          76,
          51,
          79,
          69,
          78,
          60,
          10,
          42,
          21,
          56,
          59,
          69,
          25,
          63,
          25,
          58,
          28,
          46,
          53,
          37,
          12,
          14,
          60,
          42,
          65,
          80,
          32,
          53,
          50,
          23,
          45,
          0,
          49,
          70,
          82,
          23,
          79,
          74,
          78,
          50,
          34,
          47,
          52,
          67,
          62,
          18,
          75,
          42,
          29,
          52,
          18,
          67,
          66,
          5,
          18,
          52,
          44,
          46,
          36,
          61,
          7,
          15,
          61,
          20,
          2,
          47,
          25,
          66,
          2,
          63,
          53,
          33,
          23,
          23,
          81,
          55,
          69,
          58,
          70,
          48,
          15,
          31,
          2,
          80,
          69,
          52,
          80,
          54,
          2,
          39,
          38,
          76,
          45,
          1,
          77,
          46,
          50,
          52,
          73,
          41,
          40,
          59,
          48,
          42,
          26,
          39,
          34,
          54,
          57,
          1,
          50,
          64,
          44,
          38,
          32,
          17,
          81,
          15,
          5,
          70,
          52,
          67,
          17,
          61,
          31,
          58,
          12,
          30,
          65,
          23,
          14,
          27,
          53,
          58,
          9,
          59,
          46,
          41,
          55,
          43,
          5,
          15,
          36,
          36,
          47,
          18,
          19,
          65,
          17,
          54,
          46,
          59,
          48,
          38,
          18,
          56,
          3,
          41,
          67,
          60,
          47,
          24,
          43,
          17,
          45,
          24,
          79,
          79,
          27,
          72,
          64,
          34,
          50,
          58,
          26,
          50,
          80,
          2,
          46,
          29,
          6,
          32,
          16,
          44,
          23,
          48,
          34,
          78,
          42,
          14,
          40,
          10,
          39,
          42,
          47,
          14,
          45,
          58,
          73,
          62,
          62,
          51,
          0,
          57,
          8,
          69,
          16,
          56,
          41,
          1,
          42,
          57,
          20,
          8,
          43,
          62,
          42,
          50,
          63,
          80,
          13,
          20,
          71,
          50,
          76,
          41,
          76,
          78,
          5,
          29,
          43,
          49,
          70,
          24,
          41,
          20,
          34,
          32,
          27,
          44,
          20,
          52,
          57,
          29,
          16,
          35,
          5,
          63,
          59,
          63,
          52,
          50,
          43,
          27,
          30,
          8,
          75,
          14,
          23,
          6,
          37,
          38,
          3,
          26,
          58,
          57,
          58,
          76,
          68,
          79,
          34,
          75,
          11,
          71,
          40,
          24,
          0,
          82,
          32,
          81,
          33,
          79,
          62,
          39,
          60,
          48,
          24,
          70,
          17,
          56,
          3,
          65,
          72,
          10,
          29,
          44,
          46,
          33,
          63,
          0,
          55,
          56,
          50,
          78,
          63,
          31,
          65,
          51,
          60,
          69,
          23,
          46,
          16,
          26,
          44,
          56,
          23,
          38,
          18,
          63,
          23,
          32,
          8,
          77,
          41,
          34,
          25,
          35,
          15,
          1,
          4,
          33,
          28,
          37,
          50,
          76,
          72,
          16,
          44,
          46,
          46,
          73,
          29,
          19,
          27,
          36,
          61,
          9,
          25,
          68,
          26,
          17,
          75,
          34,
          53,
          18,
          48,
          5,
          79,
          16,
          32,
          70,
          55,
          70,
          51,
          39,
          79,
          80,
          34,
          59,
          54,
          22,
          21,
          4,
          26,
          62,
          33,
          51,
          75,
          42,
          82,
          61,
          62,
          59,
          31,
          12,
          76,
          71,
          15,
          44,
          30,
          47,
          47,
          60,
          62,
          47,
          78,
          35,
          71,
          57,
          12,
          26,
          33,
          60,
          35,
          10,
          50,
          44,
          73,
          41,
          7,
          45,
          60,
          49,
          45,
          55,
          54,
          39,
          76,
          28,
          70,
          28,
          79,
          30,
          26,
          57,
          16,
          40,
          77,
          67,
          36,
          40,
          2,
          52,
          78,
          22,
          33,
          40,
          20,
          19,
          25,
          23,
          28,
          6,
          37,
          10,
          34,
          60,
          22,
          62,
          52,
          61,
          10,
          36,
          29,
          69,
          62,
          62,
          79,
          13,
          38,
          49,
          41,
          56,
          8,
          24,
          61,
          40,
          22,
          80,
          60,
          57,
          55,
          39,
          51,
          47,
          77,
          32,
          45,
          49,
          13,
          74,
          72,
          57,
          51,
          55,
          73,
          12,
          6,
          76,
          38,
          50,
          75,
          1,
          32,
          12,
          32,
          13,
          1,
          63,
          29,
          53,
          49,
          81,
          66,
          42,
          61,
          52,
          8,
          82,
          43,
          4,
          58,
          45,
          62,
          42,
          72,
          26,
          9,
          31,
          20,
          22,
          23,
          57,
          52,
          64,
          26,
          54,
          32,
          66,
          13,
          77,
          18,
          11,
          16,
          73,
          44,
          36,
          10,
          54,
          42,
          52,
          32,
          43,
          28,
          79,
          11,
          75,
          55,
          78,
          48,
          73,
          56,
          54,
          55,
          65,
          69,
          29,
          64,
          16,
          75,
          17,
          42,
          78,
          24,
          68,
          50,
          52,
          82,
          56,
          56,
          18,
          33,
          57,
          30,
          52,
          3,
          39,
          44,
          33,
          24,
          24,
          54,
          72,
          37,
          36,
          22,
          68,
          24,
          35,
          32,
          52,
          21,
          82,
          33,
          62,
          57,
          14,
          60,
          63,
          50,
          12,
          80,
          74,
          46,
          66,
          26,
          70,
          62,
          15,
          67,
          63,
          42,
          49,
          78,
          31,
          67,
          52,
          61,
          41,
          73,
          64,
          65,
          81,
          47,
          40,
          46,
          2,
          56,
          54,
          26,
          45,
          57,
          78,
          2,
          76,
          51,
          54,
          36,
          57,
          25,
          7,
          76,
          45,
          66,
          45,
          79,
          25,
          53,
          35,
          78,
          32,
          0,
          26,
          34,
          65,
          15,
          17,
          71,
          42,
          30,
          75,
          9,
          47,
          75,
          61,
          61,
          27,
          55,
          2,
          51,
          45,
          36,
          46,
          48,
          79,
          50,
          79,
          32,
          36,
          27,
          22,
          5,
          9,
          31,
          26,
          43,
          33,
          34,
          66,
          44,
          56,
          67,
          18,
          55,
          61,
          0,
          48,
          44,
          68,
          52,
          15,
          2,
          60,
          37,
          5,
          25,
          52,
          79,
          61,
          36,
          34,
          2,
          43,
          1,
          49,
          2,
          82,
          81,
          81,
          1,
          60,
          1,
          58,
          8,
          9,
          34,
          23,
          74,
          72,
          47,
          56,
          5,
          27,
          38,
          13,
          41,
          50,
          41,
          6,
          62,
          4,
          59,
          63,
          9,
          41,
          72,
          45,
          80,
          19,
          37,
          58,
          77,
          38,
          49,
          20,
          23,
          55,
          16,
          81,
          23,
          82,
          48,
          56,
          61,
          43,
          39,
          22,
          41,
          37,
          65,
          8,
          51,
          63,
          48,
          17,
          53,
          75,
          51,
          51,
          41,
          75,
          57,
          33,
          72,
          52,
          11,
          28,
          78,
          82,
          74,
          31,
          53,
          0,
          67,
          17,
          29,
          56,
          15,
          29,
          79,
          82,
          17,
          8,
          23,
          36,
          47,
          24,
          60,
          63,
          44,
          38,
          26,
          18,
          18,
          13,
          13,
          47,
          80,
          24,
          72,
          5,
          51,
          82,
          5,
          66,
          53,
          15,
          53,
          78,
          62,
          41,
          49,
          41,
          78,
          14,
          1,
          71,
          32,
          16,
          68,
          0,
          59,
          32,
          58,
          40,
          41,
          21,
          1,
          55,
          67,
          49,
          42,
          54,
          25,
          62,
          75,
          72,
          14,
          38,
          59,
          23,
          63,
          82,
          34,
          8,
          28,
          49,
          24,
          17,
          69,
          58,
          50,
          5,
          34,
          64,
          47,
          61,
          14,
          57,
          53,
          67,
          57,
          38,
          13,
          37,
          39,
          13,
          57,
          11,
          68,
          79,
          24,
          44,
          46,
          66,
          61,
          16,
          37,
          43,
          27,
          44,
          14,
          81,
          52,
          54,
          77,
          27,
          35,
          30,
          48,
          15,
          26,
          38,
          29,
          49,
          55,
          52,
          49,
          21,
          24,
          18,
          52,
          70,
          51,
          58,
          46,
          79,
          11,
          61,
          51,
          21,
          71,
          13,
          16,
          61,
          49,
          65,
          40,
          44,
          11,
          20,
          24,
          44,
          5,
          41,
          23,
          7,
          74,
          61,
          80,
          35,
          43,
          25,
          72,
          45,
          9,
          33,
          53,
          67,
          59,
          1,
          27,
          41,
          64,
          55,
          40,
          33,
          33,
          39,
          74,
          38,
          53,
          22,
          5,
          24,
          27,
          41,
          20,
          71,
          65,
          38,
          25,
          53,
          50,
          1,
          55,
          38,
          72,
          43,
          30,
          69,
          61,
          34,
          43,
          62,
          48,
          37,
          64,
          51,
          69,
          75,
          27,
          49,
          82,
          36,
          1,
          45,
          64,
          32,
          15,
          1,
          34,
          17,
          76,
          61,
          30,
          18,
          48,
          0,
          4,
          38,
          27,
          50,
          19,
          8,
          78,
          0,
          53,
          73,
          34,
          58,
          62,
          78,
          51,
          78,
          40,
          35,
          82,
          46,
          51,
          53,
          55,
          43,
          81,
          12,
          20,
          53,
          1,
          22,
          75,
          66,
          7,
          26,
          14,
          32,
          6,
          42,
          4,
          75,
          80,
          52,
          11,
          14,
          74,
          58,
          80,
          31,
          28,
          25,
          71,
          51,
          15,
          45,
          53,
          69,
          42,
          4,
          64,
          5,
          44,
          78,
          16,
          69,
          80,
          7,
          2,
          80,
          69,
          58,
          75,
          60,
          75,
          10,
          38,
          28,
          3,
          31,
          59,
          31,
          45,
          58,
          57,
          31,
          43,
          40,
          1,
          34,
          55,
          39,
          42,
          44,
          69,
          16,
          8,
          1,
          1,
          69,
          13,
          53,
          16,
          64,
          7,
          41,
          65,
          61,
          63,
          1,
          54,
          14,
          45,
          51,
          8,
          52,
          39,
          13,
          69,
          71,
          73,
          54,
          10,
          26,
          41,
          71,
          46,
          15,
          29,
          8,
          21,
          56,
          14,
          78,
          36,
          57,
          79,
          26,
          22,
          72,
          54,
          8,
          62,
          28,
          50,
          7,
          33,
          55,
          25,
          25,
          37,
          58,
          45,
          60,
          66,
          80,
          38,
          11,
          63,
          19,
          17,
          19,
          40,
          49,
          69,
          46,
          78,
          63,
          3,
          1,
          18,
          46,
          8,
          53,
          38,
          74,
          24,
          78,
          60,
          12,
          32,
          5,
          40,
          19,
          28,
          61,
          44,
          50,
          50,
          18,
          1,
          37,
          5,
          39,
          65,
          26,
          42,
          34,
          45,
          43,
          40,
          35,
          2,
          61,
          64,
          32,
          23,
          51,
          52,
          75,
          40,
          39,
          6,
          32,
          55,
          23,
          52,
          58,
          17,
          3,
          23,
          56,
          45,
          14,
          45,
          57,
          35,
          8,
          42,
          8,
          62,
          43,
          8,
          40,
          2,
          27,
          47,
          53,
          62,
          50,
          26,
          19,
          0,
          45,
          45,
          54,
          64,
          2,
          66,
          73,
          31,
          1,
          58,
          12,
          60,
          32,
          23,
          26,
          36,
          3,
          21,
          67,
          35,
          26,
          47,
          81,
          1,
          52,
          28,
          45,
          20,
          1,
          65,
          45,
          77,
          37,
          50,
          0,
          30,
          31,
          4,
          65,
          68,
          63,
          46,
          54,
          66,
          29,
          78,
          56,
          57,
          2,
          49,
          31,
          47,
          37,
          79,
          65,
          61,
          66,
          24,
          66,
          64,
          38,
          7,
          63,
          71,
          18,
          65,
          57,
          62,
          1,
          35,
          50,
          73,
          23,
          32,
          38,
          50,
          39,
          7,
          15,
          67,
          8,
          32,
          5,
          56,
          49,
          75,
          11,
          61,
          76,
          34,
          20,
          79,
          24,
          39,
          55,
          16,
          36,
          38,
          20,
          38,
          52,
          49,
          80,
          75,
          13,
          54,
          28,
          61,
          0,
          59,
          12,
          38,
          15,
          31,
          52,
          61,
          50,
          41,
          20,
          67,
          45,
          73,
          52,
          51,
          56,
          49,
          10,
          51,
          57,
          76,
          28,
          57,
          39,
          41,
          72,
          45,
          33,
          62,
          27,
          31,
          24,
          1,
          28,
          24,
          30,
          38,
          1,
          0,
          57,
          27,
          30,
          42,
          36,
          44,
          59,
          61,
          18,
          44,
          16,
          13,
          9,
          0,
          81,
          38,
          58,
          5,
          64,
          38,
          56,
          58,
          9,
          34,
          79,
          62,
          60,
          42,
          59,
          54,
          59,
          15,
          14,
          5,
          17,
          13,
          48,
          37,
          69,
          74,
          54,
          64,
          26,
          55,
          74,
          0,
          41,
          68,
          9,
          36,
          17,
          24,
          69,
          38,
          69,
          32,
          25,
          2,
          79,
          28,
          16,
          31,
          66,
          57,
          61,
          74,
          70,
          8,
          49,
          30,
          51,
          10,
          34,
          40,
          3,
          45,
          4,
          52,
          68,
          8,
          82,
          36,
          42,
          27,
          55,
          31,
          82,
          57,
          78,
          55,
          51,
          80,
          17,
          61,
          62,
          14,
          62,
          56,
          41,
          59,
          29,
          39,
          66,
          35,
          36,
          35,
          26,
          31,
          56,
          36,
          41,
          50,
          42,
          79,
          57,
          68,
          25,
          69,
          42,
          37,
          2,
          78,
          36,
          10,
          39,
          4,
          48,
          72,
          63,
          28,
          80,
          49,
          57,
          59,
          43,
          47,
          54,
          57,
          56,
          66,
          18,
          81,
          30,
          8,
          55,
          79,
          49,
          53,
          26,
          14,
          25,
          20,
          18,
          38,
          72,
          52,
          82,
          71,
          46,
          33,
          37,
          54,
          5,
          45,
          14,
          5,
          35,
          20,
          51,
          40,
          79,
          61,
          33,
          27,
          28,
          67,
          35,
          78,
          20,
          43,
          27,
          45,
          11,
          31,
          30,
          27,
          34,
          19,
          3,
          53,
          81,
          44,
          59,
          43,
          32,
          5,
          31,
          47,
          12,
          40,
          49,
          38,
          15,
          81,
          48,
          24,
          47,
          13,
          16,
          64,
          11,
          55,
          38,
          37,
          34,
          52,
          50,
          37,
          55,
          2,
          68,
          27,
          17,
          53,
          5,
          3,
          20,
          19,
          31,
          63,
          49,
          72,
          50,
          41,
          40,
          17,
          3,
          33,
          12,
          23,
          31,
          65,
          43,
          22,
          7,
          81,
          10,
          18,
          5,
          24,
          45,
          46,
          64,
          25,
          12,
          81,
          65,
          40,
          81,
          36,
          32,
          31,
          55,
          39,
          17,
          31,
          36,
          5,
          29,
          2,
          62,
          45,
          18,
          29,
          52,
          59,
          69,
          71,
          3,
          33,
          43,
          39,
          60,
          54,
          61,
          0,
          11,
          75,
          64,
          78,
          14,
          66,
          48,
          44,
          30,
          1,
          61,
          54,
          22,
          47,
          67,
          53,
          45,
          65,
          39,
          57,
          45,
          28,
          30,
          31,
          70,
          17,
          44,
          65,
          6,
          15,
          80,
          54,
          79,
          60,
          12,
          36,
          54,
          63,
          2,
          28,
          38,
          37,
          80,
          43,
          60,
          66,
          45,
          29,
          4,
          48,
          68,
          57,
          29,
          30,
          47,
          73,
          66,
          39,
          66,
          52,
          34,
          79,
          39,
          61,
          26,
          37,
          66,
          16,
          51,
          15,
          1,
          60,
          66,
          75,
          40,
          52,
          13,
          44,
          37,
          2,
          48,
          81,
          76,
          58,
          11,
          9,
          54,
          37,
          16,
          11,
          32,
          26,
          21,
          45,
          40,
          41,
          71,
          16,
          7,
          27,
          22,
          79,
          38,
          64,
          4,
          23,
          35,
          66,
          34,
          19,
          73,
          70,
          45,
          34,
          81,
          0,
          13,
          57,
          38,
          21,
          38,
          41,
          26,
          48,
          18,
          66,
          27,
          18,
          20,
          11,
          7,
          54,
          43,
          61,
          31,
          40,
          71,
          57,
          13,
          21,
          63,
          7,
          78,
          66,
          41,
          11,
          55,
          42,
          51,
          79,
          28,
          73,
          42,
          37,
          78,
          74,
          59,
          78,
          82,
          71,
          19,
          18,
          53,
          62,
          3,
          49,
          51,
          53,
          10,
          54,
          40,
          3,
          12,
          56,
          43,
          28,
          28,
          56,
          14,
          63,
          29,
          48,
          47,
          63,
          40,
          40,
          55,
          43,
          59,
          78,
          27,
          49,
          14,
          17,
          42,
          36,
          19,
          55,
          8,
          56,
          54,
          15,
          43,
          52,
          62,
          54,
          60,
          7,
          3,
          39,
          60,
          60,
          46,
          26,
          12,
          16,
          2,
          82,
          32,
          62,
          75,
          81,
          37,
          28,
          25,
          44,
          11,
          54,
          52,
          43,
          56,
          37,
          60,
          4,
          51,
          82,
          56,
          60,
          35,
          32,
          45,
          10,
          68,
          51,
          8,
          63,
          4,
          33,
          56,
          49,
          30,
          16,
          1,
          54,
          49,
          17,
          11,
          51,
          74,
          42,
          69,
          22,
          25,
          17,
          64,
          50,
          52,
          65,
          37,
          31,
          52,
          56,
          43,
          11,
          2,
          16,
          23,
          40,
          15,
          48,
          33,
          46,
          53,
          68,
          60,
          57,
          51,
          0,
          76,
          46,
          23,
          9,
          53,
          4,
          62,
          37,
          82,
          33,
          3,
          14,
          16,
          40,
          18,
          29,
          56,
          33,
          2,
          36,
          30,
          31,
          16,
          58,
          19,
          47,
          59,
          40,
          26,
          17,
          30,
          19,
          78,
          55,
          59,
          57,
          33,
          35,
          32,
          55,
          28,
          25,
          45,
          34,
          33,
          65,
          62,
          36,
          31,
          54,
          53,
          44,
          77,
          67,
          48,
          42,
          72,
          49,
          1,
          45,
          63,
          33,
          32,
          0,
          63,
          70,
          57,
          8,
          54,
          37,
          59,
          78,
          59,
          10,
          21,
          2,
          55,
          20,
          38,
          33,
          14,
          32,
          32,
          68,
          70,
          24,
          44,
          39,
          81,
          19,
          69,
          42,
          8,
          8,
          28,
          66,
          66,
          47,
          78,
          65,
          78,
          68,
          78,
          65,
          70,
          59,
          31,
          32,
          5,
          55,
          61,
          48,
          1,
          50,
          63,
          67,
          43,
          59,
          47,
          50,
          51,
          44,
          39,
          24,
          62,
          61,
          78,
          15,
          23,
          79,
          57,
          70,
          9,
          55,
          82,
          19,
          41,
          79,
          23,
          77,
          78,
          24,
          81,
          46,
          29,
          59,
          41,
          17,
          8,
          23,
          45,
          67,
          78,
          18,
          35,
          54,
          71,
          24,
          60,
          75,
          48,
          62,
          20,
          69,
          60,
          12,
          28,
          55,
          70,
          51,
          16,
          56,
          52,
          59,
          9,
          34,
          47,
          46,
          49,
          10,
          76,
          82,
          3,
          76,
          16,
          44,
          17,
          73,
          31,
          17,
          18,
          73,
          8,
          42,
          40,
          79,
          53,
          58,
          48,
          17,
          23,
          9,
          81,
          16,
          21,
          29,
          8,
          39,
          37,
          64,
          9,
          17,
          8,
          62,
          73,
          48,
          17,
          10,
          74,
          62,
          5,
          43,
          39,
          37,
          15,
          36,
          34,
          75,
          53,
          61,
          45,
          17,
          17,
          19,
          54,
          51,
          44,
          82,
          49,
          34,
          63,
          79,
          81,
          14,
          31,
          57,
          32,
          66,
          22,
          1,
          20,
          41,
          48,
          49,
          73,
          19,
          51,
          1,
          31,
          4,
          1,
          44,
          4,
          55,
          34,
          30,
          7,
          75,
          14,
          61,
          55,
          14,
          36,
          57,
          20,
          32,
          43,
          43,
          1,
          49,
          53,
          18,
          13,
          5,
          37,
          49,
          45,
          50,
          12,
          12,
          5,
          39,
          41,
          41,
          47,
          57,
          16,
          3,
          65,
          80,
          58,
          74,
          62,
          33,
          21,
          17,
          49,
          24,
          56,
          26,
          54,
          42,
          34,
          56,
          39,
          77,
          12,
          65,
          7,
          25,
          31,
          14,
          5,
          60,
          53,
          55,
          69,
          39,
          0,
          34,
          80,
          20,
          45,
          41,
          54,
          23,
          75,
          36,
          75,
          72,
          47,
          15,
          40,
          71,
          38,
          10,
          11,
          0,
          9,
          53,
          28,
          81,
          1,
          16,
          24,
          62,
          62,
          59,
          19,
          51,
          38,
          26,
          13,
          4,
          55,
          44,
          31,
          58,
          17,
          23,
          51,
          46,
          81,
          38,
          50,
          34,
          60,
          50,
          49,
          2,
          47,
          34,
          22,
          11,
          54,
          60,
          3,
          46,
          30,
          63,
          50,
          65,
          78,
          36,
          18,
          44,
          4,
          60,
          19,
          15,
          20,
          76,
          31,
          39,
          58,
          64,
          79,
          11,
          4,
          43,
          44,
          37,
          34,
          59,
          40,
          8,
          24,
          18,
          20,
          70,
          68,
          17,
          17,
          21,
          38,
          59,
          79,
          50,
          72,
          54,
          44,
          48,
          29,
          44,
          61,
          58,
          81,
          29,
          5,
          35,
          40,
          37,
          33,
          35,
          38,
          26,
          10,
          72,
          21,
          20,
          1,
          26,
          79,
          78,
          56,
          46,
          55,
          41,
          30,
          53,
          32,
          38,
          33,
          44,
          44,
          51,
          40,
          41,
          5,
          42,
          6,
          46,
          47,
          25,
          40,
          49,
          21,
          61,
          78,
          41,
          82,
          39,
          70,
          31,
          37,
          21,
          80,
          21,
          5,
          81,
          35,
          24,
          52,
          70,
          34,
          17,
          8,
          1,
          29,
          55,
          44,
          19,
          67,
          72,
          51,
          63,
          64,
          0,
          26,
          59,
          76,
          45,
          13,
          1,
          57,
          68,
          9,
          40,
          82,
          45,
          57,
          18,
          13,
          80,
          81,
          35,
          51,
          44
         ],
         "y0": " ",
         "yaxis": "y"
        }
       ],
       "layout": {
        "boxmode": "group",
        "legend": {
         "tracegroupgap": 0
        },
        "template": {
         "data": {
          "bar": [
           {
            "error_x": {
             "color": "#2a3f5f"
            },
            "error_y": {
             "color": "#2a3f5f"
            },
            "marker": {
             "line": {
              "color": "#E5ECF6",
              "width": 0.5
             },
             "pattern": {
              "fillmode": "overlay",
              "size": 10,
              "solidity": 0.2
             }
            },
            "type": "bar"
           }
          ],
          "barpolar": [
           {
            "marker": {
             "line": {
              "color": "#E5ECF6",
              "width": 0.5
             },
             "pattern": {
              "fillmode": "overlay",
              "size": 10,
              "solidity": 0.2
             }
            },
            "type": "barpolar"
           }
          ],
          "carpet": [
           {
            "aaxis": {
             "endlinecolor": "#2a3f5f",
             "gridcolor": "white",
             "linecolor": "white",
             "minorgridcolor": "white",
             "startlinecolor": "#2a3f5f"
            },
            "baxis": {
             "endlinecolor": "#2a3f5f",
             "gridcolor": "white",
             "linecolor": "white",
             "minorgridcolor": "white",
             "startlinecolor": "#2a3f5f"
            },
            "type": "carpet"
           }
          ],
          "choropleth": [
           {
            "colorbar": {
             "outlinewidth": 0,
             "ticks": ""
            },
            "type": "choropleth"
           }
          ],
          "contour": [
           {
            "colorbar": {
             "outlinewidth": 0,
             "ticks": ""
            },
            "colorscale": [
             [
              0,
              "#0d0887"
             ],
             [
              0.1111111111111111,
              "#46039f"
             ],
             [
              0.2222222222222222,
              "#7201a8"
             ],
             [
              0.3333333333333333,
              "#9c179e"
             ],
             [
              0.4444444444444444,
              "#bd3786"
             ],
             [
              0.5555555555555556,
              "#d8576b"
             ],
             [
              0.6666666666666666,
              "#ed7953"
             ],
             [
              0.7777777777777778,
              "#fb9f3a"
             ],
             [
              0.8888888888888888,
              "#fdca26"
             ],
             [
              1,
              "#f0f921"
             ]
            ],
            "type": "contour"
           }
          ],
          "contourcarpet": [
           {
            "colorbar": {
             "outlinewidth": 0,
             "ticks": ""
            },
            "type": "contourcarpet"
           }
          ],
          "heatmap": [
           {
            "colorbar": {
             "outlinewidth": 0,
             "ticks": ""
            },
            "colorscale": [
             [
              0,
              "#0d0887"
             ],
             [
              0.1111111111111111,
              "#46039f"
             ],
             [
              0.2222222222222222,
              "#7201a8"
             ],
             [
              0.3333333333333333,
              "#9c179e"
             ],
             [
              0.4444444444444444,
              "#bd3786"
             ],
             [
              0.5555555555555556,
              "#d8576b"
             ],
             [
              0.6666666666666666,
              "#ed7953"
             ],
             [
              0.7777777777777778,
              "#fb9f3a"
             ],
             [
              0.8888888888888888,
              "#fdca26"
             ],
             [
              1,
              "#f0f921"
             ]
            ],
            "type": "heatmap"
           }
          ],
          "heatmapgl": [
           {
            "colorbar": {
             "outlinewidth": 0,
             "ticks": ""
            },
            "colorscale": [
             [
              0,
              "#0d0887"
             ],
             [
              0.1111111111111111,
              "#46039f"
             ],
             [
              0.2222222222222222,
              "#7201a8"
             ],
             [
              0.3333333333333333,
              "#9c179e"
             ],
             [
              0.4444444444444444,
              "#bd3786"
             ],
             [
              0.5555555555555556,
              "#d8576b"
             ],
             [
              0.6666666666666666,
              "#ed7953"
             ],
             [
              0.7777777777777778,
              "#fb9f3a"
             ],
             [
              0.8888888888888888,
              "#fdca26"
             ],
             [
              1,
              "#f0f921"
             ]
            ],
            "type": "heatmapgl"
           }
          ],
          "histogram": [
           {
            "marker": {
             "pattern": {
              "fillmode": "overlay",
              "size": 10,
              "solidity": 0.2
             }
            },
            "type": "histogram"
           }
          ],
          "histogram2d": [
           {
            "colorbar": {
             "outlinewidth": 0,
             "ticks": ""
            },
            "colorscale": [
             [
              0,
              "#0d0887"
             ],
             [
              0.1111111111111111,
              "#46039f"
             ],
             [
              0.2222222222222222,
              "#7201a8"
             ],
             [
              0.3333333333333333,
              "#9c179e"
             ],
             [
              0.4444444444444444,
              "#bd3786"
             ],
             [
              0.5555555555555556,
              "#d8576b"
             ],
             [
              0.6666666666666666,
              "#ed7953"
             ],
             [
              0.7777777777777778,
              "#fb9f3a"
             ],
             [
              0.8888888888888888,
              "#fdca26"
             ],
             [
              1,
              "#f0f921"
             ]
            ],
            "type": "histogram2d"
           }
          ],
          "histogram2dcontour": [
           {
            "colorbar": {
             "outlinewidth": 0,
             "ticks": ""
            },
            "colorscale": [
             [
              0,
              "#0d0887"
             ],
             [
              0.1111111111111111,
              "#46039f"
             ],
             [
              0.2222222222222222,
              "#7201a8"
             ],
             [
              0.3333333333333333,
              "#9c179e"
             ],
             [
              0.4444444444444444,
              "#bd3786"
             ],
             [
              0.5555555555555556,
              "#d8576b"
             ],
             [
              0.6666666666666666,
              "#ed7953"
             ],
             [
              0.7777777777777778,
              "#fb9f3a"
             ],
             [
              0.8888888888888888,
              "#fdca26"
             ],
             [
              1,
              "#f0f921"
             ]
            ],
            "type": "histogram2dcontour"
           }
          ],
          "mesh3d": [
           {
            "colorbar": {
             "outlinewidth": 0,
             "ticks": ""
            },
            "type": "mesh3d"
           }
          ],
          "parcoords": [
           {
            "line": {
             "colorbar": {
              "outlinewidth": 0,
              "ticks": ""
             }
            },
            "type": "parcoords"
           }
          ],
          "pie": [
           {
            "automargin": true,
            "type": "pie"
           }
          ],
          "scatter": [
           {
            "fillpattern": {
             "fillmode": "overlay",
             "size": 10,
             "solidity": 0.2
            },
            "type": "scatter"
           }
          ],
          "scatter3d": [
           {
            "line": {
             "colorbar": {
              "outlinewidth": 0,
              "ticks": ""
             }
            },
            "marker": {
             "colorbar": {
              "outlinewidth": 0,
              "ticks": ""
             }
            },
            "type": "scatter3d"
           }
          ],
          "scattercarpet": [
           {
            "marker": {
             "colorbar": {
              "outlinewidth": 0,
              "ticks": ""
             }
            },
            "type": "scattercarpet"
           }
          ],
          "scattergeo": [
           {
            "marker": {
             "colorbar": {
              "outlinewidth": 0,
              "ticks": ""
             }
            },
            "type": "scattergeo"
           }
          ],
          "scattergl": [
           {
            "marker": {
             "colorbar": {
              "outlinewidth": 0,
              "ticks": ""
             }
            },
            "type": "scattergl"
           }
          ],
          "scattermapbox": [
           {
            "marker": {
             "colorbar": {
              "outlinewidth": 0,
              "ticks": ""
             }
            },
            "type": "scattermapbox"
           }
          ],
          "scatterpolar": [
           {
            "marker": {
             "colorbar": {
              "outlinewidth": 0,
              "ticks": ""
             }
            },
            "type": "scatterpolar"
           }
          ],
          "scatterpolargl": [
           {
            "marker": {
             "colorbar": {
              "outlinewidth": 0,
              "ticks": ""
             }
            },
            "type": "scatterpolargl"
           }
          ],
          "scatterternary": [
           {
            "marker": {
             "colorbar": {
              "outlinewidth": 0,
              "ticks": ""
             }
            },
            "type": "scatterternary"
           }
          ],
          "surface": [
           {
            "colorbar": {
             "outlinewidth": 0,
             "ticks": ""
            },
            "colorscale": [
             [
              0,
              "#0d0887"
             ],
             [
              0.1111111111111111,
              "#46039f"
             ],
             [
              0.2222222222222222,
              "#7201a8"
             ],
             [
              0.3333333333333333,
              "#9c179e"
             ],
             [
              0.4444444444444444,
              "#bd3786"
             ],
             [
              0.5555555555555556,
              "#d8576b"
             ],
             [
              0.6666666666666666,
              "#ed7953"
             ],
             [
              0.7777777777777778,
              "#fb9f3a"
             ],
             [
              0.8888888888888888,
              "#fdca26"
             ],
             [
              1,
              "#f0f921"
             ]
            ],
            "type": "surface"
           }
          ],
          "table": [
           {
            "cells": {
             "fill": {
              "color": "#EBF0F8"
             },
             "line": {
              "color": "white"
             }
            },
            "header": {
             "fill": {
              "color": "#C8D4E3"
             },
             "line": {
              "color": "white"
             }
            },
            "type": "table"
           }
          ]
         },
         "layout": {
          "annotationdefaults": {
           "arrowcolor": "#2a3f5f",
           "arrowhead": 0,
           "arrowwidth": 1
          },
          "autotypenumbers": "strict",
          "coloraxis": {
           "colorbar": {
            "outlinewidth": 0,
            "ticks": ""
           }
          },
          "colorscale": {
           "diverging": [
            [
             0,
             "#8e0152"
            ],
            [
             0.1,
             "#c51b7d"
            ],
            [
             0.2,
             "#de77ae"
            ],
            [
             0.3,
             "#f1b6da"
            ],
            [
             0.4,
             "#fde0ef"
            ],
            [
             0.5,
             "#f7f7f7"
            ],
            [
             0.6,
             "#e6f5d0"
            ],
            [
             0.7,
             "#b8e186"
            ],
            [
             0.8,
             "#7fbc41"
            ],
            [
             0.9,
             "#4d9221"
            ],
            [
             1,
             "#276419"
            ]
           ],
           "sequential": [
            [
             0,
             "#0d0887"
            ],
            [
             0.1111111111111111,
             "#46039f"
            ],
            [
             0.2222222222222222,
             "#7201a8"
            ],
            [
             0.3333333333333333,
             "#9c179e"
            ],
            [
             0.4444444444444444,
             "#bd3786"
            ],
            [
             0.5555555555555556,
             "#d8576b"
            ],
            [
             0.6666666666666666,
             "#ed7953"
            ],
            [
             0.7777777777777778,
             "#fb9f3a"
            ],
            [
             0.8888888888888888,
             "#fdca26"
            ],
            [
             1,
             "#f0f921"
            ]
           ],
           "sequentialminus": [
            [
             0,
             "#0d0887"
            ],
            [
             0.1111111111111111,
             "#46039f"
            ],
            [
             0.2222222222222222,
             "#7201a8"
            ],
            [
             0.3333333333333333,
             "#9c179e"
            ],
            [
             0.4444444444444444,
             "#bd3786"
            ],
            [
             0.5555555555555556,
             "#d8576b"
            ],
            [
             0.6666666666666666,
             "#ed7953"
            ],
            [
             0.7777777777777778,
             "#fb9f3a"
            ],
            [
             0.8888888888888888,
             "#fdca26"
            ],
            [
             1,
             "#f0f921"
            ]
           ]
          },
          "colorway": [
           "#636efa",
           "#EF553B",
           "#00cc96",
           "#ab63fa",
           "#FFA15A",
           "#19d3f3",
           "#FF6692",
           "#B6E880",
           "#FF97FF",
           "#FECB52"
          ],
          "font": {
           "color": "#2a3f5f"
          },
          "geo": {
           "bgcolor": "white",
           "lakecolor": "white",
           "landcolor": "#E5ECF6",
           "showlakes": true,
           "showland": true,
           "subunitcolor": "white"
          },
          "hoverlabel": {
           "align": "left"
          },
          "hovermode": "closest",
          "mapbox": {
           "style": "light"
          },
          "paper_bgcolor": "white",
          "plot_bgcolor": "#E5ECF6",
          "polar": {
           "angularaxis": {
            "gridcolor": "white",
            "linecolor": "white",
            "ticks": ""
           },
           "bgcolor": "#E5ECF6",
           "radialaxis": {
            "gridcolor": "white",
            "linecolor": "white",
            "ticks": ""
           }
          },
          "scene": {
           "xaxis": {
            "backgroundcolor": "#E5ECF6",
            "gridcolor": "white",
            "gridwidth": 2,
            "linecolor": "white",
            "showbackground": true,
            "ticks": "",
            "zerolinecolor": "white"
           },
           "yaxis": {
            "backgroundcolor": "#E5ECF6",
            "gridcolor": "white",
            "gridwidth": 2,
            "linecolor": "white",
            "showbackground": true,
            "ticks": "",
            "zerolinecolor": "white"
           },
           "zaxis": {
            "backgroundcolor": "#E5ECF6",
            "gridcolor": "white",
            "gridwidth": 2,
            "linecolor": "white",
            "showbackground": true,
            "ticks": "",
            "zerolinecolor": "white"
           }
          },
          "shapedefaults": {
           "line": {
            "color": "#2a3f5f"
           }
          },
          "ternary": {
           "aaxis": {
            "gridcolor": "white",
            "linecolor": "white",
            "ticks": ""
           },
           "baxis": {
            "gridcolor": "white",
            "linecolor": "white",
            "ticks": ""
           },
           "bgcolor": "#E5ECF6",
           "caxis": {
            "gridcolor": "white",
            "linecolor": "white",
            "ticks": ""
           }
          },
          "title": {
           "x": 0.05
          },
          "xaxis": {
           "automargin": true,
           "gridcolor": "white",
           "linecolor": "white",
           "ticks": "",
           "title": {
            "standoff": 15
           },
           "zerolinecolor": "white",
           "zerolinewidth": 2
          },
          "yaxis": {
           "automargin": true,
           "gridcolor": "white",
           "linecolor": "white",
           "ticks": "",
           "title": {
            "standoff": 15
           },
           "zerolinecolor": "white",
           "zerolinewidth": 2
          }
         }
        },
        "title": {
         "text": "Distribución de age"
        },
        "xaxis": {
         "anchor": "y",
         "domain": [
          0,
          1
         ]
        },
        "yaxis": {
         "anchor": "x",
         "domain": [
          0,
          1
         ],
         "title": {
          "text": "age"
         }
        }
       }
      }
     },
     "metadata": {},
     "output_type": "display_data"
    }
   ],
   "source": [
    "#Con esto puedo decir que hay más personas sin problemas de corazón\n",
    "import plotly.express as px\n",
    "\n",
    "fig = px.box(df2, y = 'age', title='Distribución de age')\n",
    "fig.show()"
   ]
  },
  {
   "cell_type": "code",
   "execution_count": 12,
   "metadata": {},
   "outputs": [
    {
     "data": {
      "image/png": "[encoded data removed]",
      "text/plain": [
       "<Figure size 1000x800 with 2 Axes>"
      ]
     },
     "metadata": {},
     "output_type": "display_data"
    }
   ],
   "source": [
    "#Con este gráfico puedo decir que de 61 a 25 es el rango de edad más comun en el\n",
    "#dataset. No veo valores atípicos.\n",
    "import seaborn as sns\n",
    "df2_numeric = df2.select_dtypes(include=['int64', 'float64'])\n",
    "\n",
    "plt.figure(figsize=(10, 8))\n",
    "correlation_matrix = df2_numeric.corr()\n",
    "sns.heatmap(correlation_matrix, annot= True, cmap='coolwarm')\n",
    "plt.title('Mapa de calor entre las variables')\n",
    "plt.show()"
   ]
  },
  {
   "cell_type": "code",
   "execution_count": 14,
   "metadata": {},
   "outputs": [
    {
     "data": {
      "image/png": "[encoded data removed]",
      "text/plain": [
       "<Figure size 1000x800 with 1 Axes>"
      ]
     },
     "metadata": {},
     "output_type": "display_data"
    }
   ],
   "source": [
    "#No veo valores que tengan una muy alta correlación. No puedo decir que uno varía\n",
    "#y que otra variable varía fuertemente a la par.\n",
    "import matplotlib.pyplot as plt\n",
    "\n",
    "plt.figure(figsize=(10, 8))\n",
    "plt.hist(df2['avg_glucose_level'], bins = 20, edgecolor = 'black', alpha = 0.7)\n",
    "plt.title('Distribución de Avg Glucose Level')\n",
    "plt.xlabel('Avg Glucose Level')\n",
    "plt.ylabel('Frecuencia')\n",
    "plt.grid(True)\n",
    "plt.show()"
   ]
  },
  {
   "cell_type": "code",
   "execution_count": 15,
   "metadata": {},
   "outputs": [],
   "source": [
    "#La distribución asimétrica positiva (sesgada hacia la derecha), lo que indica que \n",
    "#la mayoría de los valores de glucosa promedio están concentrados en el rango de 50 a 100\n",
    "#Veo valores no muy comunes por encima de 250\n"
   ]
  },
  {
   "cell_type": "markdown",
   "metadata": {},
   "source": [
    "Conclusión inicial\n",
    "\n",
    "Para esta problemática, elijo la clasificación, con base el dataset que está relacionado con la predicción de accidentes cerebrovasculares.\n",
    "\n",
    "La detección temprana de riesgos de accidentes cerebrovasculares puede salvar vidas. Este problema tiene impacto directo en la salud y en la toma de decisiones.\n",
    "\n",
    "Su desafío puede darse porque hay muchos datos con que no haya accidentes a que haya, este es un desafío al entrenar modelos porque pueden sesgarse hacia el mayor.\n",
    "\n",
    "Se necesita preprocesamiento por los tipos de datos diferentes."
   ]
  },
  {
   "cell_type": "code",
   "execution_count": 6,
   "metadata": {},
   "outputs": [],
   "source": [
    "# Hago los modelos predictivos\n",
    "import pandas as pd\n",
    "from sklearn.model_selection import train_test_split\n",
    "from sklearn.pipeline import Pipeline\n",
    "from sklearn.impute import SimpleImputer\n",
    "from sklearn.preprocessing import StandardScaler, OneHotEncoder\n",
    "from sklearn.compose import ColumnTransformer\n",
    "\n",
    "df2 = pd.read_csv('/Users/mathiorti/Desktop/Me/Cursos/Data Analisis and Machine Learning/Data Sets/healthcare-dataset-stroke-data.csv')\n",
    "\n",
    "#Selecciono la variable objetivo y la separo\n",
    "X = df2.drop('stroke', axis = 1) \n",
    "y = df2['stroke'] \n",
    "\n",
    "#Ahora divido los conjuntos de entrenamiento y de prueba\n",
    "X_train, X_test, y_train, y_test = train_test_split(X, y, test_size=0.2, random_state=42)\n",
    "\n",
    "#Ahora hago el pipeline, utilizo pipeline porque lo utilicé en otros proyectos y la verdad que me gusta mucho su funcionamiento.\n",
    "\n",
    "num_columns = X.select_dtypes(include=['float64', 'int64']).columns\n",
    "cat_columns = X.select_dtypes(include=['object']).columns\n",
    "\n",
    "numeric_transformer = Pipeline(steps=[\n",
    "    ('imputer', SimpleImputer(strategy='mean')),\n",
    "    ('scaler', StandardScaler())\n",
    "])\n",
    "\n",
    "categorical_transformer = Pipeline(steps =[\n",
    "    ('imputer', SimpleImputer(strategy='most_frequent')),\n",
    "    ('onehot', OneHotEncoder(handle_unknown='ignore') )\n",
    "])\n",
    "\n",
    "preprocessor = ColumnTransformer(\n",
    "    transformers=[\n",
    "        ('num', numeric_transformer, num_columns),\n",
    "        ('cat', categorical_transformer, cat_columns)\n",
    "    ]\n",
    ")\n",
    "\n",
    "#Ahora hago el pipeline completo\n",
    "pipeline = Pipeline(steps=[\n",
    "    ('preprocessor', preprocessor)\n",
    "])"
   ]
  },
  {
   "cell_type": "code",
   "execution_count": 7,
   "metadata": {},
   "outputs": [
    {
     "name": "stdout",
     "output_type": "stream",
     "text": [
      "Reporte del modelo Logistic Regression:\n",
      "              precision    recall  f1-score   support\n",
      "\n",
      "           0       0.94      1.00      0.97       960\n",
      "           1       0.00      0.00      0.00        62\n",
      "\n",
      "    accuracy                           0.94      1022\n",
      "   macro avg       0.47      0.50      0.48      1022\n",
      "weighted avg       0.88      0.94      0.91      1022\n",
      "\n",
      "Reporte del modelo K-Nearest Neighbors:\n",
      "              precision    recall  f1-score   support\n",
      "\n",
      "           0       0.94      1.00      0.97       960\n",
      "           1       0.00      0.00      0.00        62\n",
      "\n",
      "    accuracy                           0.94      1022\n",
      "   macro avg       0.47      0.50      0.48      1022\n",
      "weighted avg       0.88      0.94      0.91      1022\n",
      "\n",
      "Reporte del modelo Decision Tree:\n",
      "              precision    recall  f1-score   support\n",
      "\n",
      "           0       0.94      0.96      0.95       960\n",
      "           1       0.15      0.11      0.13        62\n",
      "\n",
      "    accuracy                           0.91      1022\n",
      "   macro avg       0.55      0.54      0.54      1022\n",
      "weighted avg       0.90      0.91      0.90      1022\n",
      "\n",
      "Reporte del modelo Random Forest:\n",
      "              precision    recall  f1-score   support\n",
      "\n",
      "           0       0.94      1.00      0.97       960\n",
      "           1       0.00      0.00      0.00        62\n",
      "\n",
      "    accuracy                           0.94      1022\n",
      "   macro avg       0.47      0.50      0.48      1022\n",
      "weighted avg       0.88      0.94      0.91      1022\n",
      "\n",
      "Reporte del modelo XGBoost:\n",
      "              precision    recall  f1-score   support\n",
      "\n",
      "           0       0.94      0.99      0.97       960\n",
      "           1       0.36      0.08      0.13        62\n",
      "\n",
      "    accuracy                           0.94      1022\n",
      "   macro avg       0.65      0.54      0.55      1022\n",
      "weighted avg       0.91      0.94      0.92      1022\n",
      "\n",
      "                 Model  Accuracy\n",
      "0  Logistic Regression  0.939335\n",
      "1                  KNN  0.938356\n",
      "2        Decision Tree  0.908023\n",
      "3        Random Forest  0.939335\n",
      "4              XGBoost  0.935421\n"
     ]
    },
    {
     "name": "stderr",
     "output_type": "stream",
     "text": [
      "/Library/Frameworks/Python.framework/Versions/3.12/lib/python3.12/site-packages/sklearn/metrics/_classification.py:1531: UndefinedMetricWarning: Precision is ill-defined and being set to 0.0 in labels with no predicted samples. Use `zero_division` parameter to control this behavior.\n",
      "  _warn_prf(average, modifier, f\"{metric.capitalize()} is\", len(result))\n",
      "/Library/Frameworks/Python.framework/Versions/3.12/lib/python3.12/site-packages/sklearn/metrics/_classification.py:1531: UndefinedMetricWarning: Precision is ill-defined and being set to 0.0 in labels with no predicted samples. Use `zero_division` parameter to control this behavior.\n",
      "  _warn_prf(average, modifier, f\"{metric.capitalize()} is\", len(result))\n",
      "/Library/Frameworks/Python.framework/Versions/3.12/lib/python3.12/site-packages/sklearn/metrics/_classification.py:1531: UndefinedMetricWarning: Precision is ill-defined and being set to 0.0 in labels with no predicted samples. Use `zero_division` parameter to control this behavior.\n",
      "  _warn_prf(average, modifier, f\"{metric.capitalize()} is\", len(result))\n",
      "/Library/Frameworks/Python.framework/Versions/3.12/lib/python3.12/site-packages/sklearn/metrics/_classification.py:1531: UndefinedMetricWarning: Precision is ill-defined and being set to 0.0 in labels with no predicted samples. Use `zero_division` parameter to control this behavior.\n",
      "  _warn_prf(average, modifier, f\"{metric.capitalize()} is\", len(result))\n",
      "/Library/Frameworks/Python.framework/Versions/3.12/lib/python3.12/site-packages/sklearn/metrics/_classification.py:1531: UndefinedMetricWarning: Precision is ill-defined and being set to 0.0 in labels with no predicted samples. Use `zero_division` parameter to control this behavior.\n",
      "  _warn_prf(average, modifier, f\"{metric.capitalize()} is\", len(result))\n",
      "/Library/Frameworks/Python.framework/Versions/3.12/lib/python3.12/site-packages/sklearn/metrics/_classification.py:1531: UndefinedMetricWarning: Precision is ill-defined and being set to 0.0 in labels with no predicted samples. Use `zero_division` parameter to control this behavior.\n",
      "  _warn_prf(average, modifier, f\"{metric.capitalize()} is\", len(result))\n"
     ]
    }
   ],
   "source": [
    "from sklearn.linear_model import LogisticRegression\n",
    "from sklearn.neighbors import KNeighborsClassifier\n",
    "from sklearn.tree import DecisionTreeClassifier\n",
    "from sklearn.ensemble import RandomForestClassifier\n",
    "from xgboost import XGBClassifier\n",
    "from sklearn.metrics import classification_report, accuracy_score\n",
    "\n",
    "#Creo los modelos\n",
    "pipeline_LR = Pipeline(steps=[\n",
    "    ('preprocessor', preprocessor), #Con esto llamo al preprocesamiento hecho más arriba\n",
    "    ('classifier', LogisticRegression())\n",
    "])\n",
    "\n",
    "pipeline_KNN = Pipeline(steps=[\n",
    "    ('preprocessor', preprocessor),\n",
    "    ('classifier', KNeighborsClassifier(n_neighbors=5)) \n",
    "])\n",
    "\n",
    "pipeline_DT = Pipeline(steps=[\n",
    "    ('preprocessor', preprocessor),\n",
    "    ('classifier', DecisionTreeClassifier(criterion='gini', max_depth=None, random_state=42))\n",
    "])\n",
    "\n",
    "pipeline_RF = Pipeline(steps=[\n",
    "    ('preprocessor', preprocessor),\n",
    "    ('classifier', RandomForestClassifier(n_estimators=100, criterion='gini', max_depth=None, random_state=42))\n",
    "])\n",
    "\n",
    "pipeline_XGB = Pipeline(steps=[\n",
    "    ('preprocessor', preprocessor),\n",
    "    ('classifier', XGBClassifier(eval_metric='logloss', random_state=42))\n",
    "])\n",
    "\n",
    "#Entreno los modelos \n",
    "pipeline_LR.fit(X_train, y_train)\n",
    "pipeline_KNN.fit(X_train, y_train)\n",
    "pipeline_DT.fit(X_train, y_train)\n",
    "pipeline_RF.fit(X_train, y_train)\n",
    "pipeline_XGB.fit(X_train, y_train)\n",
    "\n",
    "#Hago las predicciones\n",
    "y_pred_LR = pipeline_LR.predict(X_test)\n",
    "y_pred_KNN = pipeline_KNN.predict(X_test)\n",
    "y_pred_DT = pipeline_DT.predict(X_test)\n",
    "y_pred_RF = pipeline_RF.predict(X_test)\n",
    "y_pred_XGB = pipeline_XGB.predict(X_test)\n",
    "\n",
    "#Una vez hecho todo esto, evalúo los modelos\n",
    "print(f'Reporte del modelo Logistic Regression:')\n",
    "print(classification_report(y_test, y_pred_LR))\n",
    "\n",
    "print(f'Reporte del modelo K-Nearest Neighbors:')\n",
    "print(classification_report(y_test, y_pred_KNN))\n",
    "\n",
    "print(f'Reporte del modelo Decision Tree:')\n",
    "print(classification_report(y_test, y_pred_DT))\n",
    "\n",
    "print(f'Reporte del modelo Random Forest:')\n",
    "print(classification_report(y_test, y_pred_RF))\n",
    "\n",
    "print(f'Reporte del modelo XGBoost:')\n",
    "print(classification_report(y_test, y_pred_XGB))\n",
    "\n",
    "#También puedo comparar el accuracy de cada uno\n",
    "accuracy_LR = accuracy_score(y_test, y_pred_LR)\n",
    "accuracy_KNN = accuracy_score(y_test, y_pred_KNN)\n",
    "accuracy_DT = accuracy_score(y_test, y_pred_DT)\n",
    "accuracy_RF = accuracy_score(y_test, y_pred_RF)\n",
    "accuracy_XGB = accuracy_score(y_test, y_pred_XGB)\n",
    "\n",
    "#Puedo hacer un diccionario para que sea más facil mostrarlo\n",
    "results = {\n",
    "    'Model':[\"Logistic Regression\", \"KNN\", \"Decision Tree\", \"Random Forest\", \"XGBoost\"],\n",
    "    \"Accuracy\": [accuracy_LR, accuracy_KNN, accuracy_DT, accuracy_RF, accuracy_XGB]\n",
    "}\n",
    "\n",
    "results_df = pd.DataFrame(results)\n",
    "print(results_df)"
   ]
  },
  {
   "cell_type": "code",
   "execution_count": 8,
   "metadata": {},
   "outputs": [
    {
     "name": "stdout",
     "output_type": "stream",
     "text": [
      "Logistic Regression - Mean Accuracy: 0.9545013811038656\n",
      "Logistic Regression - Std Accuracy: 0.0008947666578094714\n",
      "K-Nearest Neighbors - Mean Accuracy: 0.9532779894240064\n",
      "K-Nearest Neighbors - Std Accuracy: 0.0016204369779300363\n",
      "Decision Tree - Mean Accuracy: 0.911451341152107\n",
      "Decision Tree - Std Accuracy: 0.009337112856510309\n",
      "Random Forest - Mean Accuracy: 0.9537672862431281\n",
      "Random Forest - Std Accuracy: 0.0009064070128164355\n",
      "XGBoost - Mean Accuracy: 0.9471628266093676\n",
      "XGBoost - Std Accuracy: 0.003738385360286741\n"
     ]
    }
   ],
   "source": [
    "from sklearn.model_selection import cross_val_score\n",
    "\n",
    "# Validación cruzada \n",
    "scores_LR = cross_val_score(pipeline_LR, X_train, y_train, cv=5, scoring='accuracy')\n",
    "print(\"Logistic Regression - Mean Accuracy:\", scores_LR.mean())\n",
    "print(\"Logistic Regression - Std Accuracy:\", scores_LR.std())\n",
    "\n",
    "scores_KNN = cross_val_score(pipeline_KNN, X_train, y_train, cv=5, scoring='accuracy')\n",
    "print(\"K-Nearest Neighbors - Mean Accuracy:\", scores_KNN.mean())\n",
    "print(\"K-Nearest Neighbors - Std Accuracy:\", scores_KNN.std())\n",
    "\n",
    "scores_DT = cross_val_score(pipeline_DT, X_train, y_train, cv=5, scoring='accuracy')\n",
    "print(\"Decision Tree - Mean Accuracy:\", scores_DT.mean())\n",
    "print(\"Decision Tree - Std Accuracy:\", scores_DT.std())\n",
    "\n",
    "scores_RF = cross_val_score(pipeline_RF, X_train, y_train, cv=5, scoring='accuracy')\n",
    "print(\"Random Forest - Mean Accuracy:\", scores_RF.mean())\n",
    "print(\"Random Forest - Std Accuracy:\", scores_RF.std())\n",
    "\n",
    "scores_XGB = cross_val_score(pipeline_XGB, X_train, y_train, cv=5, scoring='accuracy')\n",
    "print(\"XGBoost - Mean Accuracy:\", scores_XGB.mean())\n",
    "print(\"XGBoost - Std Accuracy:\", scores_XGB.std())\n"
   ]
  },
  {
   "cell_type": "code",
   "execution_count": 9,
   "metadata": {},
   "outputs": [],
   "source": [
    "#Logistic Regression es el mejor modelo por su precisión más alta (95.45%) y su desviación estándar baja."
   ]
  },
  {
   "cell_type": "markdown",
   "metadata": {},
   "source": [
    "# Data Set 3"
   ]
  },
  {
   "cell_type": "code",
   "execution_count": 16,
   "metadata": {},
   "outputs": [
    {
     "name": "stdout",
     "output_type": "stream",
     "text": [
      "   Square_Footage  Num_Bedrooms  Num_Bathrooms  Year_Built  Lot_Size  \\\n",
      "0            1360             2              1        1981  0.599637   \n",
      "1            4272             3              3        2016  4.753014   \n",
      "2            3592             1              2        2016  3.634823   \n",
      "3             966             1              2        1977  2.730667   \n",
      "4            4926             2              1        1993  4.699073   \n",
      "\n",
      "   Garage_Size  Neighborhood_Quality   House_Price  \n",
      "0            0                     5  2.623829e+05  \n",
      "1            1                     6  9.852609e+05  \n",
      "2            0                     9  7.779774e+05  \n",
      "3            1                     8  2.296989e+05  \n",
      "4            0                     8  1.041741e+06  \n"
     ]
    }
   ],
   "source": [
    "import pandas as pd\n",
    "\n",
    "df3 = pd.read_csv('/Users/mathiorti/Desktop/Me/Cursos/Data Analisis and Machine Learning/Data Sets/house_price_regression_dataset.csv')\n",
    "print(df3.head())"
   ]
  },
  {
   "cell_type": "code",
   "execution_count": 18,
   "metadata": {},
   "outputs": [
    {
     "name": "stdout",
     "output_type": "stream",
     "text": [
      "<class 'pandas.core.frame.DataFrame'>\n",
      "RangeIndex: 1000 entries, 0 to 999\n",
      "Data columns (total 8 columns):\n",
      " #   Column                Non-Null Count  Dtype  \n",
      "---  ------                --------------  -----  \n",
      " 0   Square_Footage        1000 non-null   int64  \n",
      " 1   Num_Bedrooms          1000 non-null   int64  \n",
      " 2   Num_Bathrooms         1000 non-null   int64  \n",
      " 3   Year_Built            1000 non-null   int64  \n",
      " 4   Lot_Size              1000 non-null   float64\n",
      " 5   Garage_Size           1000 non-null   int64  \n",
      " 6   Neighborhood_Quality  1000 non-null   int64  \n",
      " 7   House_Price           1000 non-null   float64\n",
      "dtypes: float64(2), int64(6)\n",
      "memory usage: 62.6 KB\n"
     ]
    }
   ],
   "source": [
    "df3.info()"
   ]
  },
  {
   "cell_type": "code",
   "execution_count": 20,
   "metadata": {},
   "outputs": [
    {
     "data": {
      "text/plain": [
       "Square_Footage          0\n",
       "Num_Bedrooms            0\n",
       "Num_Bathrooms           0\n",
       "Year_Built              0\n",
       "Lot_Size                0\n",
       "Garage_Size             0\n",
       "Neighborhood_Quality    0\n",
       "House_Price             0\n",
       "dtype: int64"
      ]
     },
     "execution_count": 20,
     "metadata": {},
     "output_type": "execute_result"
    }
   ],
   "source": [
    "#Calculo la cantidad de datos nulos\n",
    "df3.isnull().sum()"
   ]
  },
  {
   "cell_type": "code",
   "execution_count": 21,
   "metadata": {},
   "outputs": [
    {
     "name": "stdout",
     "output_type": "stream",
     "text": [
      "Square_Footage            int64\n",
      "Num_Bedrooms              int64\n",
      "Num_Bathrooms             int64\n",
      "Year_Built                int64\n",
      "Lot_Size                float64\n",
      "Garage_Size               int64\n",
      "Neighborhood_Quality      int64\n",
      "House_Price             float64\n",
      "dtype: object\n"
     ]
    }
   ],
   "source": [
    "#No tenemos datos nulos... Ahora veo los tipos de datos\n",
    "print(df3.dtypes)"
   ]
  },
  {
   "cell_type": "code",
   "execution_count": 23,
   "metadata": {},
   "outputs": [
    {
     "name": "stdout",
     "output_type": "stream",
     "text": [
      "       Square_Footage  Num_Bedrooms  Num_Bathrooms   Year_Built     Lot_Size  \\\n",
      "count     1000.000000   1000.000000    1000.000000  1000.000000  1000.000000   \n",
      "mean      2815.422000      2.990000       1.973000  1986.550000     2.778087   \n",
      "std       1255.514921      1.427564       0.820332    20.632916     1.297903   \n",
      "min        503.000000      1.000000       1.000000  1950.000000     0.506058   \n",
      "25%       1749.500000      2.000000       1.000000  1969.000000     1.665946   \n",
      "50%       2862.500000      3.000000       2.000000  1986.000000     2.809740   \n",
      "75%       3849.500000      4.000000       3.000000  2004.250000     3.923317   \n",
      "max       4999.000000      5.000000       3.000000  2022.000000     4.989303   \n",
      "\n",
      "       Garage_Size  Neighborhood_Quality   House_Price  \n",
      "count  1000.000000           1000.000000  1.000000e+03  \n",
      "mean      1.022000              5.615000  6.188610e+05  \n",
      "std       0.814973              2.887059  2.535681e+05  \n",
      "min       0.000000              1.000000  1.116269e+05  \n",
      "25%       0.000000              3.000000  4.016482e+05  \n",
      "50%       1.000000              6.000000  6.282673e+05  \n",
      "75%       2.000000              8.000000  8.271413e+05  \n",
      "max       2.000000             10.000000  1.108237e+06  \n"
     ]
    }
   ],
   "source": [
    "#Los tipos de datos son correctos...\n",
    "print(df3.describe())"
   ]
  },
  {
   "cell_type": "code",
   "execution_count": 25,
   "metadata": {},
   "outputs": [
    {
     "data": {
      "image/png": "[encoded data removed]",
      "text/plain": [
       "<Figure size 1000x800 with 1 Axes>"
      ]
     },
     "metadata": {},
     "output_type": "display_data"
    }
   ],
   "source": [
    "import matplotlib.pyplot as plt\n",
    "\n",
    "plt.figure(figsize=(10, 8))\n",
    "plt.hist(df3['Square_Footage'], bins = 20, edgecolor = 'black', alpha = 0.7)\n",
    "plt.title('Distribución de Square Footage')\n",
    "plt.xlabel('Square Footage')\n",
    "plt.ylabel('Frecuencia')\n",
    "plt.grid(True)\n",
    "plt.show()"
   ]
  },
  {
   "cell_type": "code",
   "execution_count": 26,
   "metadata": {},
   "outputs": [
    {
     "data": {
      "application/vnd.plotly.v1+json": {
       "config": {
        "plotlyServerURL": "https://plot.ly"
       },
       "data": [
        {
         "alignmentgroup": "True",
         "hovertemplate": "Lot_Size=%{y}<extra></extra>",
         "legendgroup": "",
         "marker": {
          "color": "#636efa"
         },
         "name": "",
         "notched": false,
         "offsetgroup": "",
         "orientation": "v",
         "showlegend": false,
         "type": "box",
         "x0": " ",
         "xaxis": "x",
         "y": [
          0.5996366396268326,
          4.7530138494020395,
          3.634822720478255,
          2.73066687604351,
          4.699072554837388,
          2.475930043628728,
          4.911960066216673,
          2.805281407595683,
          1.0142859649909075,
          3.9416043760667474,
          3.5550397628502823,
          3.9784402458751407,
          4.781489129265565,
          3.994201861929582,
          3.251014709974911,
          4.3578900606237845,
          3.529608977095392,
          2.336535755716654,
          4.4852889390879795,
          1.498552073529678,
          3.715885737089259,
          4.467035547233406,
          3.790924338664833,
          3.637739385742356,
          3.8868723233232623,
          2.5927486173528997,
          4.433768069706617,
          1.4154641381124105,
          1.073238872001527,
          1.784789510533302,
          2.892098285487469,
          2.7975280793420216,
          4.1926944095446395,
          2.3205589538180784,
          2.679549918311789,
          0.5601545746672804,
          2.343826563993226,
          3.4149840482765392,
          0.5697874878196648,
          1.763968843338097,
          1.4358036168022548,
          0.688934430093147,
          2.6566704046154186,
          1.317754819526704,
          3.8438669283412104,
          4.315675476935068,
          2.9551333220111653,
          4.917683041345137,
          2.527153571617679,
          2.81015694601212,
          4.951479892809876,
          1.5419679618427198,
          4.741456728546074,
          0.6927689980360097,
          2.5087410061843767,
          0.815015804598796,
          3.7815563431113937,
          3.23784021146008,
          3.679854185604184,
          2.1851617998560764,
          2.162668703141211,
          0.7039367553240257,
          2.074752227883379,
          4.681797810179267,
          2.2065194173120206,
          4.241154677998865,
          4.290464771374703,
          2.1795852037065524,
          3.3439490617828507,
          0.9291722102287638,
          0.9665536133042444,
          0.7189594864777099,
          3.114567920187993,
          2.417319399317437,
          2.9661456049890806,
          2.8448293572877454,
          2.0759134599082865,
          3.548630366705628,
          3.913258464123758,
          0.5658271649495408,
          1.4325903489599523,
          3.709561406375016,
          2.239790776852254,
          3.4811777612372365,
          2.061331968805513,
          2.258398185483367,
          1.2140549316035822,
          1.6620395884977202,
          3.2243529087841427,
          2.4492340009182487,
          3.9843620732506784,
          4.336632297222542,
          2.9374088819754194,
          3.9122028142522662,
          1.881070309375565,
          2.3673704693003517,
          3.7074995429757394,
          2.237953967676638,
          3.1482722082154497,
          1.3341775058713017,
          3.198970917367241,
          4.376811682521021,
          4.408878379205415,
          3.759549828482928,
          3.855890205842567,
          3.010673503178153,
          3.1310064057462115,
          1.101427616347331,
          2.4973663478958548,
          2.528493277488637,
          4.813240260504831,
          2.439890881804802,
          2.9720419020624096,
          2.899631296755961,
          3.365427726699472,
          3.8670477409935313,
          1.5126884427689244,
          2.879259885942961,
          4.216629682922137,
          2.5840162122688017,
          1.7530589586810783,
          3.446190839103346,
          4.2069532810960535,
          0.784131318173261,
          3.995557175332522,
          4.197415698327971,
          2.576853174148731,
          4.924875455683103,
          4.040187533182891,
          3.981481542030496,
          3.865273584854323,
          1.177736464482233,
          1.4775389890385486,
          2.5879555915899126,
          1.6880195748175963,
          2.368584375503182,
          4.4980884946531425,
          4.209471013456712,
          3.33517945315992,
          4.361541774129966,
          4.026975750577622,
          2.430432193284007,
          1.404793184224753,
          2.813904680042026,
          3.813029971378476,
          2.4638881942831685,
          3.5004735940275373,
          0.9244734183096964,
          3.866021313671315,
          4.157211289518779,
          3.680770351012435,
          4.852686143868645,
          4.219934258572882,
          4.563921775444422,
          4.7010698755594165,
          4.106065963432139,
          3.534164789029246,
          0.5257336161235517,
          2.596215889504061,
          3.0702303438006244,
          1.8681362260159984,
          1.931470011065624,
          4.825217370695743,
          4.512698893412357,
          4.321305524757669,
          2.327053107677498,
          0.5616434768401155,
          0.8610001090507133,
          1.9048836569792165,
          0.5708431084805464,
          0.5771740186183916,
          4.62471485739085,
          3.6777132595357434,
          1.890301955306687,
          1.0969005992042893,
          2.802360730527847,
          0.52405772384464,
          4.722861847361648,
          2.366668037250262,
          2.3105072985679973,
          2.25767123411802,
          0.8119774867449414,
          3.3724500790632197,
          3.79851628832759,
          3.542564289147306,
          1.1229597199822745,
          3.1047807561601664,
          3.062680178775142,
          4.407848545736219,
          2.2060744626904114,
          2.171686746467454,
          3.283371764231835,
          3.3488269407478084,
          2.6117835229660566,
          2.493767130486895,
          2.723664517870472,
          4.374703847764904,
          2.575251055642595,
          4.729693063864201,
          2.768016936183467,
          4.771403119314011,
          4.247743558410841,
          2.130940951771231,
          4.386386395834772,
          0.9952847789050184,
          4.662712289043565,
          3.342395817873012,
          0.7447583683504003,
          3.399155256428652,
          4.884114443651402,
          0.8141029457658302,
          2.9960946940103885,
          3.865074573917176,
          4.146163640147891,
          2.362223593943581,
          1.4187495162570936,
          0.6905402544757273,
          3.1087677069375115,
          2.5380998162042485,
          4.7693497781737,
          0.772722084717094,
          3.5842790455070257,
          0.6123479995402572,
          1.2714537951974425,
          2.541105499652754,
          2.546925992612907,
          3.5856524432013974,
          4.595958656904905,
          3.3756447151171436,
          4.79090794033179,
          4.467270379450989,
          3.1302490798885563,
          4.252063779134723,
          3.391599246456354,
          0.8535102391567722,
          3.832541254667795,
          0.927087985703058,
          3.173372512563706,
          3.6618809263620298,
          0.7993742369488486,
          1.538575942669393,
          4.620525045177424,
          3.2734152150480336,
          1.608287084647392,
          3.60805897016603,
          3.1854938898276033,
          2.7570906496307677,
          4.892841387446377,
          3.57554199833379,
          2.189484993505607,
          4.100330444345905,
          4.480624818145345,
          1.0634925178257415,
          1.4024884003036993,
          1.4730215410750087,
          3.610453142239431,
          3.213677997739775,
          3.2854620411436466,
          4.733479848602754,
          3.9916018976328766,
          1.0757161603030243,
          2.0637818709133144,
          2.45927140779081,
          2.281827149364222,
          3.5118887412284563,
          4.513518964654532,
          1.877231585852546,
          2.9834471138953353,
          4.0523423986111355,
          2.372981264804072,
          1.2565315777968311,
          2.637279343686867,
          0.7485013433436281,
          4.740725543010246,
          0.8366954233773787,
          2.473055218627602,
          2.884465674898368,
          4.9338672452927845,
          1.2470982063928735,
          1.0149418337556135,
          0.5391776617814461,
          1.2000714659118603,
          1.4327284058045042,
          3.3376142371239155,
          1.4886805567613015,
          0.5923436662819634,
          4.219782554761199,
          2.1451806545178504,
          2.0916350896133027,
          1.8611556312556696,
          4.889179747158894,
          1.2655193778917666,
          4.542071287789558,
          3.995614994629496,
          0.8441597997469088,
          4.940280956753819,
          1.7211468359255475,
          0.9436231716008556,
          4.231914053565918,
          3.6800399015496494,
          3.2774846264505535,
          1.2019138866451993,
          2.653232523151829,
          4.012502120992462,
          1.8663077216472812,
          1.9026042283176865,
          0.5141340772165495,
          1.284095307404208,
          4.439325313048254,
          2.487859212369682,
          4.929055246554952,
          2.2806858360820668,
          3.7183390465110855,
          1.768635693071281,
          2.137143385134201,
          1.358266944159026,
          2.0617806582472773,
          2.962568841892894,
          4.9629779644066225,
          3.4889077088230356,
          1.3966067948374132,
          0.7023264871619801,
          1.0686041659152976,
          3.0314984057287133,
          3.943221479675449,
          4.731886432853361,
          0.5712042739856937,
          2.852420637028414,
          2.6189031030042953,
          3.452247598890668,
          3.018104845094039,
          3.5916761776211623,
          3.4613716313713567,
          1.026552761860758,
          4.098730611284238,
          1.054546590723462,
          3.643387813441117,
          2.3726541543827304,
          2.812328305594691,
          4.564841064690698,
          4.504476769130689,
          4.180353375447632,
          2.7956677120534548,
          3.813079145602249,
          2.8080367498346424,
          4.413227371136498,
          2.3124912495480494,
          4.866059049866946,
          4.695452412029949,
          3.8372117875330343,
          1.757371478792324,
          1.0924411495696629,
          4.346165525419389,
          1.2438602876208258,
          4.34417355048801,
          2.708442530205622,
          2.329505527136469,
          4.564358504754931,
          3.2173294214312507,
          3.09476303208373,
          3.0144467508097894,
          2.1702628220878912,
          4.035393965881072,
          1.6375929980709785,
          4.725027320185737,
          4.522933422711324,
          2.0186614655370416,
          3.782586964242487,
          3.0795043750231614,
          2.0194218589965556,
          4.9483474159795104,
          0.6135680563171889,
          1.63690713779579,
          2.8403332750001766,
          2.8487885156535375,
          3.1501988372550387,
          3.8825427741031366,
          3.3056502373368337,
          3.2012665723761664,
          0.7408150831086948,
          2.1943862950518422,
          1.544250828655202,
          1.6941655022088895,
          2.994518634531552,
          1.397773917183238,
          1.8227709545760389,
          1.5668811883280305,
          4.768263244481877,
          4.750995794769929,
          3.244737013682233,
          4.66035110929355,
          4.0361569046076795,
          3.1547654726081396,
          0.5289584517355808,
          3.976323287357318,
          3.6611975371481096,
          3.268641439770863,
          3.9219094025711225,
          2.808149741486446,
          3.668374720946026,
          4.70827439026922,
          2.191122571307388,
          3.6865482570528143,
          2.6405951810493145,
          3.534798433162917,
          3.9330200099946384,
          0.7045362519610818,
          3.409701997768978,
          1.5203353298312503,
          3.5151464201340503,
          2.6074858367021605,
          3.980987338391993,
          1.055303668425184,
          3.318450582452878,
          1.7531182801739855,
          4.3384189789876615,
          4.677725775363384,
          4.983792321555749,
          4.082033310922775,
          3.891803316926021,
          1.4697534149039797,
          2.0120317654554896,
          2.595571437930258,
          3.980214715020124,
          4.617346392850859,
          1.3511259501034307,
          4.650653681015463,
          3.630310935593261,
          3.2484682880826736,
          1.3992857207687277,
          0.7498626476411775,
          3.0580920432857295,
          3.4318205749800157,
          1.4485165220960972,
          3.0040529262145537,
          4.354220312431581,
          4.25779675454759,
          4.673098312638337,
          2.146486143005962,
          1.9312230764791345,
          3.872417026913639,
          2.4400058229365227,
          0.8939689881250128,
          1.7726050880172488,
          2.383620284891701,
          1.816323914643134,
          1.9949250692629472,
          1.8219915777847584,
          0.6867462523238574,
          3.3669261537099913,
          3.1878158915906116,
          3.4402257431540626,
          1.3653945321513237,
          1.830445437256184,
          3.2882716712521503,
          3.1983240580696464,
          2.778486392094205,
          2.0768596250458886,
          4.608189521486104,
          2.028966090344797,
          2.550286203967632,
          3.551512239293939,
          2.9435964389004385,
          2.0609868936397353,
          2.4604015570542943,
          4.075163680340777,
          1.751581199689756,
          1.1401485789956691,
          1.909234408233997,
          4.322903969695556,
          0.90045371685356,
          4.962632330176033,
          2.9345130451744814,
          4.931805847851923,
          4.725483899386899,
          2.5376617139491255,
          1.393209835724071,
          1.241981494543123,
          1.5799521374148089,
          3.6955968825404177,
          1.7282749762916954,
          2.0364137132193423,
          2.5195046179757665,
          4.609547061896554,
          1.3522703804818077,
          0.5226194867441141,
          0.7704338467017657,
          4.5714485375605305,
          3.413824091795134,
          1.7286827869751304,
          1.29736625455036,
          1.8242003148670145,
          1.0165861726307606,
          4.736898096279985,
          4.028927784643701,
          2.5807602961064333,
          4.392331723018408,
          1.6225619193195453,
          3.7270425581248703,
          4.352596245561846,
          2.1054592023047265,
          3.9085900045282296,
          1.827825571689392,
          1.8448571086656385,
          0.9817573034938372,
          2.480261209292294,
          3.7837035792384,
          4.7309936250707825,
          3.2170864636809324,
          4.384109919810825,
          4.201225921806022,
          1.280043738388764,
          2.6861784301068417,
          1.0261559098642616,
          3.5696892270273572,
          4.774548507107342,
          1.1169025613544044,
          3.802474088611436,
          3.3450716789053745,
          3.126222666536449,
          2.255541056097526,
          2.0980924148921565,
          0.7036213505849953,
          1.4805891871340606,
          0.5682959702907211,
          3.1163769751190924,
          0.97633956145059,
          4.428587273133722,
          2.8541435931372434,
          3.648604590764188,
          2.3488569132822343,
          3.022609140504719,
          4.741966296349837,
          0.8723031783065185,
          1.6427199736566327,
          4.009947471097449,
          0.9443174309719964,
          0.8404749675684988,
          2.1269362943931736,
          0.9147558131259454,
          3.132852989927914,
          1.5182386286746992,
          4.530640834397175,
          4.025750363803655,
          3.6486734274476422,
          3.2762481232302587,
          4.3855957865365855,
          1.503779276942406,
          4.428989792439024,
          4.052715342908236,
          3.866723718744585,
          3.0256505513371583,
          1.6080987243677003,
          2.4059656219635333,
          4.071067945424607,
          0.64300317960796,
          4.019228461686913,
          1.5803183321940493,
          1.1493914032472137,
          1.0206559318113595,
          0.622625053778668,
          2.856139183496538,
          1.482169427121783,
          4.952442946008342,
          3.084965401424926,
          1.1204837121020468,
          3.599431433651144,
          4.539846049293764,
          3.853307729163265,
          0.8439793746775145,
          4.531478815366968,
          4.072682236369841,
          1.2123675504752645,
          0.7330364992976759,
          3.007897588914388,
          1.202161151029896,
          4.255659286678725,
          2.112505955022532,
          4.608016001314589,
          3.045596774634526,
          1.322025729078507,
          1.1281949031191003,
          3.094125969009893,
          3.928476253380998,
          4.016775414839819,
          1.7409083199857658,
          1.4191104151047536,
          0.5754033702157209,
          3.556396180405262,
          0.8445571629509254,
          2.3934254079466664,
          3.2075697380823325,
          4.7169902521385465,
          1.9031096163009589,
          1.623974731009339,
          3.443720694287443,
          3.286575644241118,
          1.9944940248865608,
          4.676458259794039,
          4.301880473703347,
          1.5079214563928651,
          1.5761414544553545,
          2.8053515609918627,
          3.9810744577882415,
          0.6981817072480898,
          3.62000819180618,
          3.4170615382194365,
          1.541660431608447,
          3.5660885595860696,
          4.730824360634371,
          0.7105363023729583,
          1.9384342488142816,
          2.4717952249985986,
          4.546671615161103,
          4.8301765097412055,
          2.498518609233495,
          3.87512785463986,
          2.8924746069401737,
          2.9200232063361944,
          1.751447817798604,
          1.476303106387458,
          1.796024056658185,
          3.003476032656857,
          0.6311983370994005,
          4.582620249603826,
          1.203276692973993,
          1.4903990459212395,
          2.8322427940144084,
          3.6955164485177567,
          0.930780746349788,
          1.9296261389622296,
          4.859035725084607,
          1.6805433505142555,
          1.908725652784161,
          4.264243207781151,
          0.7259649426070487,
          2.590759259640369,
          2.208275440032516,
          1.9246404195889304,
          1.7856481732014404,
          0.9111834718718416,
          1.9167162320824196,
          0.6937358122205086,
          4.0143373863999585,
          2.2920250728110525,
          2.497567245439602,
          4.521175639025592,
          3.4612474273754934,
          0.536265965039539,
          4.744286703325782,
          1.5671500968997003,
          0.9842638314193648,
          3.95657680271397,
          2.7521479214002316,
          2.451967547081079,
          1.622763858572338,
          2.963621704380434,
          1.7347307234116436,
          4.557123523791804,
          1.4684201587993675,
          4.479598177050891,
          3.0173244157731065,
          4.228196602528584,
          3.7078069813742975,
          3.6351280014653686,
          1.9595561346277508,
          1.5525361916249156,
          1.4489880245635467,
          4.357362456768149,
          4.19192069116559,
          2.482580876055383,
          1.0958207607340458,
          2.2201351338985624,
          3.2870455436161015,
          2.5448141951597876,
          4.010851708173478,
          4.989302700131234,
          1.3600943980200355,
          2.568428688468076,
          2.439427558643699,
          1.8702163973702788,
          1.391429825241303,
          0.7956145242034665,
          4.492036927506643,
          2.3893191395884292,
          2.73602983325022,
          4.626239216904121,
          3.9933071488217657,
          1.087255688527329,
          3.044389854234841,
          2.490135244338016,
          4.087449826604432,
          3.759046464253771,
          3.606825748599824,
          2.032451759659536,
          4.122336786796645,
          0.7357608301768754,
          1.2183120564447525,
          2.0103047284006026,
          0.8456334848117657,
          1.5574742489061122,
          4.235679423490632,
          4.767131920055357,
          1.8707106009838572,
          1.690321117949772,
          1.759516935108921,
          1.7497358930787972,
          0.6616858198368785,
          4.671123558489986,
          1.4616416370664778,
          2.3900183333663225,
          0.5435909723343548,
          4.360797909117757,
          3.790208050047128,
          4.760402158281664,
          4.017269656383796,
          1.9116793042342937,
          1.6154301142779064,
          3.639723383989818,
          2.1385074875472476,
          3.0479675708867746,
          0.528158619619116,
          0.7784856575621386,
          2.90915573531743,
          3.047322409016743,
          3.881538250067046,
          1.0938439383078278,
          2.8093238769055047,
          1.3750143999425988,
          0.919382538032126,
          2.3472310732724955,
          1.2350149164007576,
          1.4980189018654335,
          1.9289956094127576,
          1.6672478033443832,
          0.8941608383267587,
          0.9046231018686604,
          1.3696223685537567,
          0.7275163458179252,
          3.319056588546172,
          1.792970224290059,
          1.7588568549608197,
          1.993992324069943,
          3.4825832339437475,
          4.417852466675708,
          3.9158911965003727,
          3.773881536012927,
          2.6797603352038215,
          3.622125006353353,
          2.9874306561511244,
          1.47312737683938,
          1.4386476548347282,
          1.8337640309387755,
          4.598612019364159,
          2.9633667817087663,
          3.802574196508413,
          2.059514419174464,
          2.3347209679935137,
          1.0650451038676312,
          1.2708273101975167,
          4.223104496717655,
          3.1317738425999693,
          2.018896096477185,
          4.112830440479957,
          1.6093395753709234,
          4.892147143700917,
          2.051679234857764,
          2.017899293680524,
          1.9036035749151736,
          1.0495018216592955,
          1.000117162994056,
          3.416472655403555,
          4.438031200511212,
          4.057342296222531,
          1.13498417309608,
          2.955119548064299,
          0.97516195689488,
          0.7038258962588485,
          3.4537363672314525,
          2.9081855015615763,
          0.8691065834516188,
          0.657226608826948,
          4.953903860342006,
          0.6350959946708234,
          2.5003771387257183,
          2.77078561073463,
          1.0277606651020026,
          1.2607780029787232,
          2.0831225288465864,
          3.927541442961482,
          2.7818709082712,
          3.370558435488327,
          4.933285497908036,
          3.956024458909443,
          2.454626741635479,
          2.508988648084469,
          3.2844743466845223,
          3.4941434378850698,
          2.753199166265021,
          3.4018755026674095,
          0.6058962248634445,
          2.4333028875357985,
          1.7552213423306453,
          1.0812850035939967,
          0.947959307639488,
          3.214364745266004,
          2.856202462186753,
          1.6411285264836613,
          2.619275264476315,
          2.7150454183208375,
          1.377540411973771,
          3.434418778467428,
          4.014137103737407,
          4.061585934002835,
          3.211114238165548,
          2.8023736213355632,
          0.774532143524277,
          1.7952408448322263,
          0.9197215105017644,
          4.837204223953131,
          1.1078606580159231,
          1.1829893443299593,
          4.5030947824872145,
          4.74767727564406,
          3.9462306765570943,
          0.5243221565270144,
          0.5060582193045366,
          2.2014534640435284,
          1.1452791650490164,
          0.5827376396821877,
          2.588300102320271,
          4.743778538331372,
          1.9571880870609413,
          3.4751330529291344,
          3.4350590890959833,
          1.629860466493255,
          3.4269136197073893,
          1.4555028842910107,
          1.0490333610960008,
          3.6562247850186056,
          1.0104836769676253,
          4.986091483652099,
          1.325535805176032,
          3.173638382404059,
          2.3511855713566523,
          1.068738900825502,
          0.6252975840983603,
          3.30229527031775,
          4.130409037051067,
          4.289070476780348,
          2.672210628846205,
          3.998549602320735,
          3.5278121006984513,
          3.759145373746099,
          2.7166955234981636,
          3.350352831089572,
          4.124866611092257,
          2.2904787900066035,
          4.126905053904126,
          3.1640757925507828,
          1.246554609668538,
          0.6110787075106308,
          2.1323912017961844,
          2.9601334773335295,
          4.279191584915697,
          1.073685560631108,
          4.100928564576106,
          4.383540707302521,
          1.178093691503752,
          4.332174436868986,
          4.961541055292564,
          3.770774739717069,
          4.0314635682124464,
          4.974868704014931,
          3.224665627366754,
          1.8854887190731224,
          4.26888875334225,
          3.2651859988023406,
          3.1153794067443044,
          1.6413599998131725,
          3.90350421312299,
          0.8675027413704332,
          4.6592918185759755,
          1.9662055734671813,
          1.074985937554957,
          2.4906493989608847,
          0.6911145916543993,
          3.5808178741923484,
          4.5621747970041024,
          4.267683532123289,
          1.073162630515465,
          1.0682201169847934,
          4.160455170459189,
          4.659144235714022,
          2.573014234250701,
          2.7453700261119467,
          1.9321791862357665,
          4.524193032153863,
          3.4020630738156017,
          1.797132097253158,
          1.844522919744132,
          4.5104003287862104,
          0.5613531075761966,
          1.9522695772698728,
          2.9946050654736607,
          1.166978579446961,
          0.914444393898154,
          4.16874348990752,
          4.524819748918283,
          4.206228893591852,
          4.544545503818065,
          2.989003869762672,
          4.155161544456538,
          2.228191872759952,
          3.4982053766556733,
          4.94975989125124,
          1.5157747572760734,
          2.254548858309863,
          2.660213197895385,
          1.1210696915902327,
          0.8646737470927555,
          4.23375289844731,
          4.895574677724138,
          2.321262787233464,
          0.8944242628759398,
          0.7961529231075941,
          4.5109319286213445,
          2.5871641237745595,
          1.9401229245307636,
          2.644075720577298,
          1.932368426115563,
          2.70066098888429,
          4.368003786130716,
          3.1653561697794306,
          3.6259419776457897,
          2.1410180430545145,
          3.8232764532973342,
          3.4997768819571755,
          1.038028989884254,
          3.0768928390201307,
          1.655345733393911,
          4.118430513351168,
          2.4167196881012276,
          4.976078743384193,
          0.916251970725337,
          4.011565382330714,
          3.531657800939704,
          3.9537447376581745,
          1.8838840797070535,
          2.714245202220803,
          4.0842883387566875,
          1.5464359922938475,
          1.5171493855489344,
          2.979729289827196,
          2.856036107884351,
          1.7701811168581978,
          1.8413404273617024,
          1.7503032344295448,
          3.9718042789931944,
          3.4335538950310727,
          4.245877325346138,
          4.8896286274130984,
          2.633739333223939,
          0.8001224663245199,
          0.7164153968541594,
          1.8304926767222864,
          4.696450652086029,
          2.854458747368937,
          1.723039322360581,
          2.296250575299588,
          3.1936779833210185,
          3.43827346162029,
          1.1926377940230726,
          4.896642544453292,
          2.95147502142255,
          1.1105974300652568,
          4.521358640057602,
          0.8358729398574296,
          4.584809449298807,
          4.984545453300421,
          3.6519430962042674,
          3.967012494832954,
          2.017862764103689,
          4.737095837302702,
          2.8837128474876543,
          3.795748009688997,
          4.658484721600757,
          4.888309891889787,
          4.249419604685034,
          1.8635787814191351,
          4.849463824484371,
          3.326537890596073,
          4.687891143583819,
          3.5424726161645834,
          1.8825753283147424,
          2.165110358642672,
          2.977122996963232,
          4.055066787019469,
          1.9309214810315072,
          3.1087902476038645
         ],
         "y0": " ",
         "yaxis": "y"
        }
       ],
       "layout": {
        "boxmode": "group",
        "legend": {
         "tracegroupgap": 0
        },
        "template": {
         "data": {
          "bar": [
           {
            "error_x": {
             "color": "#2a3f5f"
            },
            "error_y": {
             "color": "#2a3f5f"
            },
            "marker": {
             "line": {
              "color": "#E5ECF6",
              "width": 0.5
             },
             "pattern": {
              "fillmode": "overlay",
              "size": 10,
              "solidity": 0.2
             }
            },
            "type": "bar"
           }
          ],
          "barpolar": [
           {
            "marker": {
             "line": {
              "color": "#E5ECF6",
              "width": 0.5
             },
             "pattern": {
              "fillmode": "overlay",
              "size": 10,
              "solidity": 0.2
             }
            },
            "type": "barpolar"
           }
          ],
          "carpet": [
           {
            "aaxis": {
             "endlinecolor": "#2a3f5f",
             "gridcolor": "white",
             "linecolor": "white",
             "minorgridcolor": "white",
             "startlinecolor": "#2a3f5f"
            },
            "baxis": {
             "endlinecolor": "#2a3f5f",
             "gridcolor": "white",
             "linecolor": "white",
             "minorgridcolor": "white",
             "startlinecolor": "#2a3f5f"
            },
            "type": "carpet"
           }
          ],
          "choropleth": [
           {
            "colorbar": {
             "outlinewidth": 0,
             "ticks": ""
            },
            "type": "choropleth"
           }
          ],
          "contour": [
           {
            "colorbar": {
             "outlinewidth": 0,
             "ticks": ""
            },
            "colorscale": [
             [
              0,
              "#0d0887"
             ],
             [
              0.1111111111111111,
              "#46039f"
             ],
             [
              0.2222222222222222,
              "#7201a8"
             ],
             [
              0.3333333333333333,
              "#9c179e"
             ],
             [
              0.4444444444444444,
              "#bd3786"
             ],
             [
              0.5555555555555556,
              "#d8576b"
             ],
             [
              0.6666666666666666,
              "#ed7953"
             ],
             [
              0.7777777777777778,
              "#fb9f3a"
             ],
             [
              0.8888888888888888,
              "#fdca26"
             ],
             [
              1,
              "#f0f921"
             ]
            ],
            "type": "contour"
           }
          ],
          "contourcarpet": [
           {
            "colorbar": {
             "outlinewidth": 0,
             "ticks": ""
            },
            "type": "contourcarpet"
           }
          ],
          "heatmap": [
           {
            "colorbar": {
             "outlinewidth": 0,
             "ticks": ""
            },
            "colorscale": [
             [
              0,
              "#0d0887"
             ],
             [
              0.1111111111111111,
              "#46039f"
             ],
             [
              0.2222222222222222,
              "#7201a8"
             ],
             [
              0.3333333333333333,
              "#9c179e"
             ],
             [
              0.4444444444444444,
              "#bd3786"
             ],
             [
              0.5555555555555556,
              "#d8576b"
             ],
             [
              0.6666666666666666,
              "#ed7953"
             ],
             [
              0.7777777777777778,
              "#fb9f3a"
             ],
             [
              0.8888888888888888,
              "#fdca26"
             ],
             [
              1,
              "#f0f921"
             ]
            ],
            "type": "heatmap"
           }
          ],
          "heatmapgl": [
           {
            "colorbar": {
             "outlinewidth": 0,
             "ticks": ""
            },
            "colorscale": [
             [
              0,
              "#0d0887"
             ],
             [
              0.1111111111111111,
              "#46039f"
             ],
             [
              0.2222222222222222,
              "#7201a8"
             ],
             [
              0.3333333333333333,
              "#9c179e"
             ],
             [
              0.4444444444444444,
              "#bd3786"
             ],
             [
              0.5555555555555556,
              "#d8576b"
             ],
             [
              0.6666666666666666,
              "#ed7953"
             ],
             [
              0.7777777777777778,
              "#fb9f3a"
             ],
             [
              0.8888888888888888,
              "#fdca26"
             ],
             [
              1,
              "#f0f921"
             ]
            ],
            "type": "heatmapgl"
           }
          ],
          "histogram": [
           {
            "marker": {
             "pattern": {
              "fillmode": "overlay",
              "size": 10,
              "solidity": 0.2
             }
            },
            "type": "histogram"
           }
          ],
          "histogram2d": [
           {
            "colorbar": {
             "outlinewidth": 0,
             "ticks": ""
            },
            "colorscale": [
             [
              0,
              "#0d0887"
             ],
             [
              0.1111111111111111,
              "#46039f"
             ],
             [
              0.2222222222222222,
              "#7201a8"
             ],
             [
              0.3333333333333333,
              "#9c179e"
             ],
             [
              0.4444444444444444,
              "#bd3786"
             ],
             [
              0.5555555555555556,
              "#d8576b"
             ],
             [
              0.6666666666666666,
              "#ed7953"
             ],
             [
              0.7777777777777778,
              "#fb9f3a"
             ],
             [
              0.8888888888888888,
              "#fdca26"
             ],
             [
              1,
              "#f0f921"
             ]
            ],
            "type": "histogram2d"
           }
          ],
          "histogram2dcontour": [
           {
            "colorbar": {
             "outlinewidth": 0,
             "ticks": ""
            },
            "colorscale": [
             [
              0,
              "#0d0887"
             ],
             [
              0.1111111111111111,
              "#46039f"
             ],
             [
              0.2222222222222222,
              "#7201a8"
             ],
             [
              0.3333333333333333,
              "#9c179e"
             ],
             [
              0.4444444444444444,
              "#bd3786"
             ],
             [
              0.5555555555555556,
              "#d8576b"
             ],
             [
              0.6666666666666666,
              "#ed7953"
             ],
             [
              0.7777777777777778,
              "#fb9f3a"
             ],
             [
              0.8888888888888888,
              "#fdca26"
             ],
             [
              1,
              "#f0f921"
             ]
            ],
            "type": "histogram2dcontour"
           }
          ],
          "mesh3d": [
           {
            "colorbar": {
             "outlinewidth": 0,
             "ticks": ""
            },
            "type": "mesh3d"
           }
          ],
          "parcoords": [
           {
            "line": {
             "colorbar": {
              "outlinewidth": 0,
              "ticks": ""
             }
            },
            "type": "parcoords"
           }
          ],
          "pie": [
           {
            "automargin": true,
            "type": "pie"
           }
          ],
          "scatter": [
           {
            "fillpattern": {
             "fillmode": "overlay",
             "size": 10,
             "solidity": 0.2
            },
            "type": "scatter"
           }
          ],
          "scatter3d": [
           {
            "line": {
             "colorbar": {
              "outlinewidth": 0,
              "ticks": ""
             }
            },
            "marker": {
             "colorbar": {
              "outlinewidth": 0,
              "ticks": ""
             }
            },
            "type": "scatter3d"
           }
          ],
          "scattercarpet": [
           {
            "marker": {
             "colorbar": {
              "outlinewidth": 0,
              "ticks": ""
             }
            },
            "type": "scattercarpet"
           }
          ],
          "scattergeo": [
           {
            "marker": {
             "colorbar": {
              "outlinewidth": 0,
              "ticks": ""
             }
            },
            "type": "scattergeo"
           }
          ],
          "scattergl": [
           {
            "marker": {
             "colorbar": {
              "outlinewidth": 0,
              "ticks": ""
             }
            },
            "type": "scattergl"
           }
          ],
          "scattermapbox": [
           {
            "marker": {
             "colorbar": {
              "outlinewidth": 0,
              "ticks": ""
             }
            },
            "type": "scattermapbox"
           }
          ],
          "scatterpolar": [
           {
            "marker": {
             "colorbar": {
              "outlinewidth": 0,
              "ticks": ""
             }
            },
            "type": "scatterpolar"
           }
          ],
          "scatterpolargl": [
           {
            "marker": {
             "colorbar": {
              "outlinewidth": 0,
              "ticks": ""
             }
            },
            "type": "scatterpolargl"
           }
          ],
          "scatterternary": [
           {
            "marker": {
             "colorbar": {
              "outlinewidth": 0,
              "ticks": ""
             }
            },
            "type": "scatterternary"
           }
          ],
          "surface": [
           {
            "colorbar": {
             "outlinewidth": 0,
             "ticks": ""
            },
            "colorscale": [
             [
              0,
              "#0d0887"
             ],
             [
              0.1111111111111111,
              "#46039f"
             ],
             [
              0.2222222222222222,
              "#7201a8"
             ],
             [
              0.3333333333333333,
              "#9c179e"
             ],
             [
              0.4444444444444444,
              "#bd3786"
             ],
             [
              0.5555555555555556,
              "#d8576b"
             ],
             [
              0.6666666666666666,
              "#ed7953"
             ],
             [
              0.7777777777777778,
              "#fb9f3a"
             ],
             [
              0.8888888888888888,
              "#fdca26"
             ],
             [
              1,
              "#f0f921"
             ]
            ],
            "type": "surface"
           }
          ],
          "table": [
           {
            "cells": {
             "fill": {
              "color": "#EBF0F8"
             },
             "line": {
              "color": "white"
             }
            },
            "header": {
             "fill": {
              "color": "#C8D4E3"
             },
             "line": {
              "color": "white"
             }
            },
            "type": "table"
           }
          ]
         },
         "layout": {
          "annotationdefaults": {
           "arrowcolor": "#2a3f5f",
           "arrowhead": 0,
           "arrowwidth": 1
          },
          "autotypenumbers": "strict",
          "coloraxis": {
           "colorbar": {
            "outlinewidth": 0,
            "ticks": ""
           }
          },
          "colorscale": {
           "diverging": [
            [
             0,
             "#8e0152"
            ],
            [
             0.1,
             "#c51b7d"
            ],
            [
             0.2,
             "#de77ae"
            ],
            [
             0.3,
             "#f1b6da"
            ],
            [
             0.4,
             "#fde0ef"
            ],
            [
             0.5,
             "#f7f7f7"
            ],
            [
             0.6,
             "#e6f5d0"
            ],
            [
             0.7,
             "#b8e186"
            ],
            [
             0.8,
             "#7fbc41"
            ],
            [
             0.9,
             "#4d9221"
            ],
            [
             1,
             "#276419"
            ]
           ],
           "sequential": [
            [
             0,
             "#0d0887"
            ],
            [
             0.1111111111111111,
             "#46039f"
            ],
            [
             0.2222222222222222,
             "#7201a8"
            ],
            [
             0.3333333333333333,
             "#9c179e"
            ],
            [
             0.4444444444444444,
             "#bd3786"
            ],
            [
             0.5555555555555556,
             "#d8576b"
            ],
            [
             0.6666666666666666,
             "#ed7953"
            ],
            [
             0.7777777777777778,
             "#fb9f3a"
            ],
            [
             0.8888888888888888,
             "#fdca26"
            ],
            [
             1,
             "#f0f921"
            ]
           ],
           "sequentialminus": [
            [
             0,
             "#0d0887"
            ],
            [
             0.1111111111111111,
             "#46039f"
            ],
            [
             0.2222222222222222,
             "#7201a8"
            ],
            [
             0.3333333333333333,
             "#9c179e"
            ],
            [
             0.4444444444444444,
             "#bd3786"
            ],
            [
             0.5555555555555556,
             "#d8576b"
            ],
            [
             0.6666666666666666,
             "#ed7953"
            ],
            [
             0.7777777777777778,
             "#fb9f3a"
            ],
            [
             0.8888888888888888,
             "#fdca26"
            ],
            [
             1,
             "#f0f921"
            ]
           ]
          },
          "colorway": [
           "#636efa",
           "#EF553B",
           "#00cc96",
           "#ab63fa",
           "#FFA15A",
           "#19d3f3",
           "#FF6692",
           "#B6E880",
           "#FF97FF",
           "#FECB52"
          ],
          "font": {
           "color": "#2a3f5f"
          },
          "geo": {
           "bgcolor": "white",
           "lakecolor": "white",
           "landcolor": "#E5ECF6",
           "showlakes": true,
           "showland": true,
           "subunitcolor": "white"
          },
          "hoverlabel": {
           "align": "left"
          },
          "hovermode": "closest",
          "mapbox": {
           "style": "light"
          },
          "paper_bgcolor": "white",
          "plot_bgcolor": "#E5ECF6",
          "polar": {
           "angularaxis": {
            "gridcolor": "white",
            "linecolor": "white",
            "ticks": ""
           },
           "bgcolor": "#E5ECF6",
           "radialaxis": {
            "gridcolor": "white",
            "linecolor": "white",
            "ticks": ""
           }
          },
          "scene": {
           "xaxis": {
            "backgroundcolor": "#E5ECF6",
            "gridcolor": "white",
            "gridwidth": 2,
            "linecolor": "white",
            "showbackground": true,
            "ticks": "",
            "zerolinecolor": "white"
           },
           "yaxis": {
            "backgroundcolor": "#E5ECF6",
            "gridcolor": "white",
            "gridwidth": 2,
            "linecolor": "white",
            "showbackground": true,
            "ticks": "",
            "zerolinecolor": "white"
           },
           "zaxis": {
            "backgroundcolor": "#E5ECF6",
            "gridcolor": "white",
            "gridwidth": 2,
            "linecolor": "white",
            "showbackground": true,
            "ticks": "",
            "zerolinecolor": "white"
           }
          },
          "shapedefaults": {
           "line": {
            "color": "#2a3f5f"
           }
          },
          "ternary": {
           "aaxis": {
            "gridcolor": "white",
            "linecolor": "white",
            "ticks": ""
           },
           "baxis": {
            "gridcolor": "white",
            "linecolor": "white",
            "ticks": ""
           },
           "bgcolor": "#E5ECF6",
           "caxis": {
            "gridcolor": "white",
            "linecolor": "white",
            "ticks": ""
           }
          },
          "title": {
           "x": 0.05
          },
          "xaxis": {
           "automargin": true,
           "gridcolor": "white",
           "linecolor": "white",
           "ticks": "",
           "title": {
            "standoff": 15
           },
           "zerolinecolor": "white",
           "zerolinewidth": 2
          },
          "yaxis": {
           "automargin": true,
           "gridcolor": "white",
           "linecolor": "white",
           "ticks": "",
           "title": {
            "standoff": 15
           },
           "zerolinecolor": "white",
           "zerolinewidth": 2
          }
         }
        },
        "title": {
         "text": "Distribución de Lot Size"
        },
        "xaxis": {
         "anchor": "y",
         "domain": [
          0,
          1
         ]
        },
        "yaxis": {
         "anchor": "x",
         "domain": [
          0,
          1
         ],
         "title": {
          "text": "Lot_Size"
         }
        }
       }
      }
     },
     "metadata": {},
     "output_type": "display_data"
    }
   ],
   "source": [
    "#La distribución se ve uniforme, con algunas fluctuaciones. Esto indica que no\n",
    "#hay un tamaño común.\n",
    "#Parece estar dispersa de manera uniforme\n",
    "# Con este gráfico vemos que los scores se concentran en ciertos valores específicos (como 30),\n",
    "#también hay menos datos en otros rasgos...\n",
    "import plotly.express as px\n",
    "\n",
    "fig = px.box(df3, y = 'Lot_Size', title='Distribución de Lot Size')\n",
    "fig.show()"
   ]
  },
  {
   "cell_type": "code",
   "execution_count": 27,
   "metadata": {},
   "outputs": [
    {
     "data": {
      "image/png": "[encoded data removed]",
      "text/plain": [
       "<Figure size 1000x800 with 2 Axes>"
      ]
     },
     "metadata": {},
     "output_type": "display_data"
    }
   ],
   "source": [
    "#Por lo que puedo observar, comúnmente el tamaño del lote se encuentra entre,\n",
    "#1.6 y 3.9. No observo valores atípicos. La media está en 2.8, lo que nos indica\n",
    "#que es prácticamente simétrica.\n",
    "import seaborn as sns\n",
    "\n",
    "plt.figure(figsize=(10, 8))\n",
    "correlation_matrix = df3.corr()\n",
    "sns.heatmap(correlation_matrix, annot= True, cmap='coolwarm')\n",
    "plt.title('Mapa de calor entre las variables')\n",
    "plt.show()"
   ]
  },
  {
   "cell_type": "code",
   "execution_count": 28,
   "metadata": {},
   "outputs": [],
   "source": [
    "#Lo que tiene una correlación muy fuerte es el precio de la casa con square footage-\n",
    "#Esto quiere decir que a mayor Square_Footage, mayor el precio de la casa."
   ]
  },
  {
   "cell_type": "markdown",
   "metadata": {},
   "source": [
    "Conclusión inicial\n",
    "\n",
    "Elijo la regresión de precios.\n",
    "\n",
    "Porque la predicción de los precios es un problema clave en la industria inmobiliaria. Se puede beneficiar a los compradores y vendedores tener una estimación precisa del precio.\n",
    "\n",
    "Los desafíos pueden ser que haya un sesgo de los datos, que hace al modelado más complejo.\n",
    "\n",
    "Tenemos una mezcla de tipos de datos, lo que rquiere un preprocesamiento avanzado."
   ]
  },
  {
   "cell_type": "code",
   "execution_count": 18,
   "metadata": {},
   "outputs": [],
   "source": [
    "# Hago los modelos predictivos\n",
    "import pandas as pd\n",
    "from sklearn.model_selection import train_test_split\n",
    "from sklearn.pipeline import Pipeline\n",
    "from sklearn.impute import SimpleImputer\n",
    "from sklearn.preprocessing import StandardScaler, OneHotEncoder\n",
    "from sklearn.compose import ColumnTransformer\n",
    "\n",
    "df3 = pd.read_csv('/Users/mathiorti/Desktop/Me/Cursos/Data Analisis and Machine Learning/Data Sets/house_price_regression_dataset.csv')\n",
    "\n",
    "#Selecciono la variable objetivo y la separo\n",
    "X = df3.drop('House_Price', axis = 1) \n",
    "y = df3['House_Price'] \n",
    "\n",
    "#Ahora divido los conjuntos de entrenamiento y de prueba\n",
    "X_train, X_test, y_train, y_test = train_test_split(X, y, test_size=0.2, random_state=42)\n",
    "\n",
    "#Ahora hago el pipeline, utilizo pipeline porque lo utilicé en otros proyectos y la verdad que me gusta mucho su funcionamiento.\n",
    "\n",
    "num_columns = X.select_dtypes(include=['float64', 'int64']).columns\n",
    "cat_columns = X.select_dtypes(include=['object']).columns\n",
    "\n",
    "numeric_transformer = Pipeline(steps=[\n",
    "    ('imputer', SimpleImputer(strategy='mean')),\n",
    "    ('scaler', StandardScaler())\n",
    "])\n",
    "\n",
    "categorical_transformer = Pipeline(steps =[\n",
    "    ('imputer', SimpleImputer(strategy='most_frequent')),\n",
    "    ('onehot', OneHotEncoder(handle_unknown='ignore') )\n",
    "])\n",
    "\n",
    "preprocessor = ColumnTransformer(\n",
    "    transformers=[\n",
    "        ('num', numeric_transformer, num_columns),\n",
    "        ('cat', categorical_transformer, cat_columns)\n",
    "    ]\n",
    ")\n",
    "\n",
    "#Ahora hago el pipeline completo\n",
    "pipeline = Pipeline(steps=[\n",
    "    ('preprocessor', preprocessor)\n",
    "])"
   ]
  },
  {
   "cell_type": "code",
   "execution_count": 19,
   "metadata": {},
   "outputs": [
    {
     "name": "stdout",
     "output_type": "stream",
     "text": [
      "                     Model  Mean Squared Error  R2 Score\n",
      "0        Linear Regression        1.014348e+08  0.998426\n",
      "1            KNN Regressor        6.986408e+09  0.891614\n",
      "2  Decision Tree Regressor        9.863188e+08  0.984698\n",
      "3  Random Forest Regressor        3.949631e+08  0.993873\n",
      "4        XGBoost Regressor        3.070362e+08  0.995237\n"
     ]
    }
   ],
   "source": [
    "from sklearn.linear_model import LinearRegression\n",
    "from sklearn.neighbors import KNeighborsRegressor\n",
    "from sklearn.tree import DecisionTreeRegressor\n",
    "from sklearn.ensemble import RandomForestRegressor\n",
    "from xgboost import XGBRegressor\n",
    "from sklearn.metrics import mean_squared_error, r2_score\n",
    "\n",
    "# Creo los modelos\n",
    "pipeline_LR = Pipeline(steps=[\n",
    "    ('preprocessor', preprocessor),  # Preprocesamiento definido previamente\n",
    "    ('regressor', LinearRegression())\n",
    "])\n",
    "\n",
    "pipeline_KNN = Pipeline(steps=[\n",
    "    ('preprocessor', preprocessor),\n",
    "    ('regressor', KNeighborsRegressor(n_neighbors=5))\n",
    "])\n",
    "\n",
    "pipeline_DT = Pipeline(steps=[\n",
    "    ('preprocessor', preprocessor),\n",
    "    ('regressor', DecisionTreeRegressor(criterion='squared_error', max_depth=None, random_state=42))\n",
    "])\n",
    "\n",
    "pipeline_RF = Pipeline(steps=[\n",
    "    ('preprocessor', preprocessor),\n",
    "    ('regressor', RandomForestRegressor(n_estimators=100, criterion='squared_error', max_depth=None, random_state=42))\n",
    "])\n",
    "\n",
    "pipeline_XGB = Pipeline(steps=[\n",
    "    ('preprocessor', preprocessor),\n",
    "    ('regressor', XGBRegressor(eval_metric='rmse', random_state=42))\n",
    "])\n",
    "\n",
    "# Entreno los modelos\n",
    "pipeline_LR.fit(X_train, y_train)\n",
    "pipeline_KNN.fit(X_train, y_train)\n",
    "pipeline_DT.fit(X_train, y_train)\n",
    "pipeline_RF.fit(X_train, y_train)\n",
    "pipeline_XGB.fit(X_train, y_train)\n",
    "\n",
    "# Hago las predicciones\n",
    "y_pred_LR = pipeline_LR.predict(X_test)\n",
    "y_pred_KNN = pipeline_KNN.predict(X_test)\n",
    "y_pred_DT = pipeline_DT.predict(X_test)\n",
    "y_pred_RF = pipeline_RF.predict(X_test)\n",
    "y_pred_XGB = pipeline_XGB.predict(X_test)\n",
    "\n",
    "# Evalúo los modelos\n",
    "mse_LR = mean_squared_error(y_test, y_pred_LR)\n",
    "mse_KNN = mean_squared_error(y_test, y_pred_KNN)\n",
    "mse_DT = mean_squared_error(y_test, y_pred_DT)\n",
    "mse_RF = mean_squared_error(y_test, y_pred_RF)\n",
    "mse_XGB = mean_squared_error(y_test, y_pred_XGB)\n",
    "\n",
    "r2_LR = r2_score(y_test, y_pred_LR)\n",
    "r2_KNN = r2_score(y_test, y_pred_KNN)\n",
    "r2_DT = r2_score(y_test, y_pred_DT)\n",
    "r2_RF = r2_score(y_test, y_pred_RF)\n",
    "r2_XGB = r2_score(y_test, y_pred_XGB)\n",
    "\n",
    "# Puedo hacer un diccionario para mostrar los resultados\n",
    "results = {\n",
    "    'Model': [\"Linear Regression\", \"KNN Regressor\", \"Decision Tree Regressor\", \"Random Forest Regressor\", \"XGBoost Regressor\"],\n",
    "    \"Mean Squared Error\": [mse_LR, mse_KNN, mse_DT, mse_RF, mse_XGB],\n",
    "    \"R2 Score\": [r2_LR, r2_KNN, r2_DT, r2_RF, r2_XGB]\n",
    "}\n",
    "\n",
    "results_df = pd.DataFrame(results)\n",
    "print(results_df)\n"
   ]
  },
  {
   "cell_type": "code",
   "execution_count": 20,
   "metadata": {},
   "outputs": [
    {
     "name": "stdout",
     "output_type": "stream",
     "text": [
      "Linear Regression - Mean R2: 0.9985166137865891\n",
      "Linear Regression - Std R2: 0.00011539231595505023\n",
      "K-Nearest Neighbors Regressor - Mean R2: 0.8856570987490848\n",
      "K-Nearest Neighbors Regressor - Std R2: 0.010217971328933227\n",
      "Decision Tree Regressor - Mean R2: 0.9829472236478283\n",
      "Decision Tree Regressor - Std R2: 0.0017770475107086409\n",
      "Random Forest Regressor - Mean R2: 0.9918936369820288\n",
      "Random Forest Regressor - Std R2: 0.0011011034106717197\n",
      "XGBoost Regressor - Mean R2: 0.9940468451527584\n",
      "XGBoost Regressor - Std R2: 0.0004854231724119797\n"
     ]
    }
   ],
   "source": [
    "from sklearn.model_selection import cross_val_score\n",
    "# Validación cruzada \n",
    "scores_LR = cross_val_score(pipeline_LR, X_train, y_train, cv=5, scoring='r2')\n",
    "print(\"Linear Regression - Mean R2:\", scores_LR.mean())\n",
    "print(\"Linear Regression - Std R2:\", scores_LR.std())\n",
    "\n",
    "scores_KNN = cross_val_score(pipeline_KNN, X_train, y_train, cv=5, scoring='r2')\n",
    "print(\"K-Nearest Neighbors Regressor - Mean R2:\", scores_KNN.mean())\n",
    "print(\"K-Nearest Neighbors Regressor - Std R2:\", scores_KNN.std())\n",
    "\n",
    "scores_DT = cross_val_score(pipeline_DT, X_train, y_train, cv=5, scoring='r2')\n",
    "print(\"Decision Tree Regressor - Mean R2:\", scores_DT.mean())\n",
    "print(\"Decision Tree Regressor - Std R2:\", scores_DT.std())\n",
    "\n",
    "scores_RF = cross_val_score(pipeline_RF, X_train, y_train, cv=5, scoring='r2')\n",
    "print(\"Random Forest Regressor - Mean R2:\", scores_RF.mean())\n",
    "print(\"Random Forest Regressor - Std R2:\", scores_RF.std())\n",
    "\n",
    "scores_XGB = cross_val_score(pipeline_XGB, X_train, y_train, cv=5, scoring='r2')\n",
    "print(\"XGBoost Regressor - Mean R2:\", scores_XGB.mean())\n",
    "print(\"XGBoost Regressor - Std R2:\", scores_XGB.std())"
   ]
  },
  {
   "cell_type": "code",
   "execution_count": 21,
   "metadata": {},
   "outputs": [],
   "source": [
    "#El mejor modelo es Linear Regression con un R2 de 99.85% y con una desviación muy pequeña."
   ]
  },
  {
   "cell_type": "markdown",
   "metadata": {},
   "source": [
    "# Data Set 4"
   ]
  },
  {
   "cell_type": "code",
   "execution_count": 29,
   "metadata": {},
   "outputs": [
    {
     "name": "stdout",
     "output_type": "stream",
     "text": [
      "    age  anaemia  creatinine_phosphokinase  diabetes  ejection_fraction  \\\n",
      "0  75.0        0                       582         0                 20   \n",
      "1  55.0        0                      7861         0                 38   \n",
      "2  65.0        0                       146         0                 20   \n",
      "3  50.0        1                       111         0                 20   \n",
      "4  65.0        1                       160         1                 20   \n",
      "\n",
      "   high_blood_pressure  platelets  serum_creatinine  serum_sodium  sex  \\\n",
      "0                    1  265000.00               1.9           130    1   \n",
      "1                    0  263358.03               1.1           136    1   \n",
      "2                    0  162000.00               1.3           129    1   \n",
      "3                    0  210000.00               1.9           137    1   \n",
      "4                    0  327000.00               2.7           116    0   \n",
      "\n",
      "   smoking  time  DEATH_EVENT  \n",
      "0        0     4            1  \n",
      "1        0     6            1  \n",
      "2        1     7            1  \n",
      "3        0     7            1  \n",
      "4        0     8            1  \n"
     ]
    }
   ],
   "source": [
    "import pandas as pd\n",
    "\n",
    "df4 = pd.read_csv('/Users/mathiorti/Desktop/Me/Cursos/Data Analisis and Machine Learning/Data Sets/heart_failure_clinical_records_dataset.csv')\n",
    "print(df4.head())"
   ]
  },
  {
   "cell_type": "code",
   "execution_count": 31,
   "metadata": {},
   "outputs": [
    {
     "name": "stdout",
     "output_type": "stream",
     "text": [
      "<class 'pandas.core.frame.DataFrame'>\n",
      "RangeIndex: 299 entries, 0 to 298\n",
      "Data columns (total 13 columns):\n",
      " #   Column                    Non-Null Count  Dtype  \n",
      "---  ------                    --------------  -----  \n",
      " 0   age                       299 non-null    float64\n",
      " 1   anaemia                   299 non-null    int64  \n",
      " 2   creatinine_phosphokinase  299 non-null    int64  \n",
      " 3   diabetes                  299 non-null    int64  \n",
      " 4   ejection_fraction         299 non-null    int64  \n",
      " 5   high_blood_pressure       299 non-null    int64  \n",
      " 6   platelets                 299 non-null    float64\n",
      " 7   serum_creatinine          299 non-null    float64\n",
      " 8   serum_sodium              299 non-null    int64  \n",
      " 9   sex                       299 non-null    int64  \n",
      " 10  smoking                   299 non-null    int64  \n",
      " 11  time                      299 non-null    int64  \n",
      " 12  DEATH_EVENT               299 non-null    int64  \n",
      "dtypes: float64(3), int64(10)\n",
      "memory usage: 30.5 KB\n"
     ]
    }
   ],
   "source": [
    "df4.info()"
   ]
  },
  {
   "cell_type": "code",
   "execution_count": 33,
   "metadata": {},
   "outputs": [
    {
     "data": {
      "text/plain": [
       "age                         0\n",
       "anaemia                     0\n",
       "creatinine_phosphokinase    0\n",
       "diabetes                    0\n",
       "ejection_fraction           0\n",
       "high_blood_pressure         0\n",
       "platelets                   0\n",
       "serum_creatinine            0\n",
       "serum_sodium                0\n",
       "sex                         0\n",
       "smoking                     0\n",
       "time                        0\n",
       "DEATH_EVENT                 0\n",
       "dtype: int64"
      ]
     },
     "execution_count": 33,
     "metadata": {},
     "output_type": "execute_result"
    }
   ],
   "source": [
    "#Calculo la cantidad de datos nulos\n",
    "df4.isnull().sum()"
   ]
  },
  {
   "cell_type": "code",
   "execution_count": 35,
   "metadata": {},
   "outputs": [
    {
     "name": "stdout",
     "output_type": "stream",
     "text": [
      "age                         float64\n",
      "anaemia                       int64\n",
      "creatinine_phosphokinase      int64\n",
      "diabetes                      int64\n",
      "ejection_fraction             int64\n",
      "high_blood_pressure           int64\n",
      "platelets                   float64\n",
      "serum_creatinine            float64\n",
      "serum_sodium                  int64\n",
      "sex                           int64\n",
      "smoking                       int64\n",
      "time                          int64\n",
      "DEATH_EVENT                   int64\n",
      "dtype: object\n"
     ]
    }
   ],
   "source": [
    "#No tenemos datos nulos... Ahora veo los tipos de datos\n",
    "print(df4.dtypes)"
   ]
  },
  {
   "cell_type": "code",
   "execution_count": 36,
   "metadata": {},
   "outputs": [
    {
     "name": "stdout",
     "output_type": "stream",
     "text": [
      "age                           int64\n",
      "anaemia                       int64\n",
      "creatinine_phosphokinase      int64\n",
      "diabetes                      int64\n",
      "ejection_fraction             int64\n",
      "high_blood_pressure           int64\n",
      "platelets                   float64\n",
      "serum_creatinine            float64\n",
      "serum_sodium                  int64\n",
      "sex                           int64\n",
      "smoking                       int64\n",
      "time                          int64\n",
      "DEATH_EVENT                   int64\n",
      "dtype: object\n"
     ]
    }
   ],
   "source": [
    "#Corregiré un dato\n",
    "df4['age'] = df4['age'].astype('int64')\n",
    "print(df4.dtypes)"
   ]
  },
  {
   "cell_type": "code",
   "execution_count": 38,
   "metadata": {},
   "outputs": [
    {
     "name": "stdout",
     "output_type": "stream",
     "text": [
      "              age     anaemia  creatinine_phosphokinase    diabetes  \\\n",
      "count  299.000000  299.000000                299.000000  299.000000   \n",
      "mean    60.829431    0.431438                581.839465    0.418060   \n",
      "std     11.894997    0.496107                970.287881    0.494067   \n",
      "min     40.000000    0.000000                 23.000000    0.000000   \n",
      "25%     51.000000    0.000000                116.500000    0.000000   \n",
      "50%     60.000000    0.000000                250.000000    0.000000   \n",
      "75%     70.000000    1.000000                582.000000    1.000000   \n",
      "max     95.000000    1.000000               7861.000000    1.000000   \n",
      "\n",
      "       ejection_fraction  high_blood_pressure      platelets  \\\n",
      "count         299.000000           299.000000     299.000000   \n",
      "mean           38.083612             0.351171  263358.029264   \n",
      "std            11.834841             0.478136   97804.236869   \n",
      "min            14.000000             0.000000   25100.000000   \n",
      "25%            30.000000             0.000000  212500.000000   \n",
      "50%            38.000000             0.000000  262000.000000   \n",
      "75%            45.000000             1.000000  303500.000000   \n",
      "max            80.000000             1.000000  850000.000000   \n",
      "\n",
      "       serum_creatinine  serum_sodium         sex    smoking        time  \\\n",
      "count         299.00000    299.000000  299.000000  299.00000  299.000000   \n",
      "mean            1.39388    136.625418    0.648829    0.32107  130.260870   \n",
      "std             1.03451      4.412477    0.478136    0.46767   77.614208   \n",
      "min             0.50000    113.000000    0.000000    0.00000    4.000000   \n",
      "25%             0.90000    134.000000    0.000000    0.00000   73.000000   \n",
      "50%             1.10000    137.000000    1.000000    0.00000  115.000000   \n",
      "75%             1.40000    140.000000    1.000000    1.00000  203.000000   \n",
      "max             9.40000    148.000000    1.000000    1.00000  285.000000   \n",
      "\n",
      "       DEATH_EVENT  \n",
      "count    299.00000  \n",
      "mean       0.32107  \n",
      "std        0.46767  \n",
      "min        0.00000  \n",
      "25%        0.00000  \n",
      "50%        0.00000  \n",
      "75%        1.00000  \n",
      "max        1.00000  \n"
     ]
    }
   ],
   "source": [
    "#Los tipos de datos son correctos...\n",
    "print(df4.describe())"
   ]
  },
  {
   "cell_type": "code",
   "execution_count": 40,
   "metadata": {},
   "outputs": [
    {
     "data": {
      "image/png": "[encoded data removed]",
      "text/plain": [
       "<Figure size 1000x800 with 1 Axes>"
      ]
     },
     "metadata": {},
     "output_type": "display_data"
    }
   ],
   "source": [
    "import matplotlib.pyplot as plt\n",
    "\n",
    "plt.figure(figsize=(10, 8))\n",
    "plt.hist(df4['platelets'], bins = 20, edgecolor = 'black', alpha = 0.7)\n",
    "plt.title('Distribución de platelets')\n",
    "plt.xlabel('platelets')\n",
    "plt.ylabel('Frecuencia')\n",
    "plt.grid(True)\n",
    "\n",
    "plt.show()"
   ]
  },
  {
   "cell_type": "code",
   "execution_count": 42,
   "metadata": {},
   "outputs": [
    {
     "data": {
      "application/vnd.plotly.v1+json": {
       "config": {
        "plotlyServerURL": "https://plot.ly"
       },
       "data": [
        {
         "alignmentgroup": "True",
         "hovertemplate": "creatinine_phosphokinase=%{y}<extra></extra>",
         "legendgroup": "",
         "marker": {
          "color": "#636efa"
         },
         "name": "",
         "notched": false,
         "offsetgroup": "",
         "orientation": "v",
         "showlegend": false,
         "type": "box",
         "x0": " ",
         "xaxis": "x",
         "y": [
          582,
          7861,
          146,
          111,
          160,
          47,
          246,
          315,
          157,
          123,
          81,
          231,
          981,
          168,
          80,
          379,
          149,
          582,
          125,
          582,
          52,
          128,
          220,
          63,
          582,
          148,
          112,
          122,
          60,
          70,
          582,
          23,
          249,
          159,
          94,
          582,
          60,
          855,
          2656,
          235,
          582,
          124,
          571,
          127,
          588,
          582,
          1380,
          582,
          553,
          129,
          577,
          91,
          3964,
          69,
          260,
          371,
          75,
          607,
          789,
          364,
          7702,
          318,
          109,
          582,
          582,
          68,
          250,
          110,
          161,
          113,
          148,
          582,
          5882,
          224,
          582,
          47,
          92,
          102,
          203,
          336,
          69,
          582,
          76,
          55,
          280,
          78,
          47,
          68,
          84,
          115,
          66,
          897,
          582,
          154,
          144,
          133,
          514,
          59,
          156,
          61,
          305,
          582,
          898,
          5209,
          53,
          328,
          748,
          1876,
          936,
          292,
          129,
          60,
          369,
          143,
          754,
          400,
          96,
          102,
          113,
          582,
          737,
          68,
          96,
          582,
          582,
          358,
          168,
          200,
          248,
          270,
          1808,
          1082,
          719,
          193,
          4540,
          582,
          59,
          646,
          281,
          1548,
          805,
          291,
          482,
          84,
          943,
          185,
          132,
          1610,
          582,
          2261,
          233,
          30,
          115,
          1846,
          335,
          231,
          58,
          250,
          910,
          129,
          72,
          130,
          582,
          2334,
          2442,
          776,
          196,
          66,
          582,
          835,
          582,
          3966,
          171,
          115,
          198,
          95,
          1419,
          69,
          122,
          835,
          478,
          176,
          395,
          99,
          145,
          104,
          582,
          1896,
          151,
          244,
          582,
          62,
          121,
          231,
          582,
          418,
          582,
          167,
          582,
          1211,
          1767,
          308,
          97,
          59,
          64,
          167,
          101,
          212,
          2281,
          972,
          212,
          582,
          224,
          131,
          135,
          582,
          1202,
          427,
          1021,
          582,
          582,
          118,
          86,
          582,
          582,
          675,
          57,
          2794,
          56,
          211,
          166,
          93,
          129,
          707,
          582,
          109,
          119,
          232,
          720,
          180,
          81,
          582,
          90,
          1185,
          582,
          80,
          2017,
          143,
          624,
          207,
          2522,
          572,
          245,
          88,
          446,
          191,
          326,
          132,
          66,
          56,
          66,
          655,
          258,
          157,
          582,
          298,
          1199,
          135,
          582,
          582,
          582,
          582,
          213,
          64,
          257,
          582,
          618,
          582,
          1051,
          84,
          2695,
          582,
          64,
          1688,
          54,
          170,
          253,
          582,
          892,
          337,
          615,
          320,
          190,
          103,
          61,
          1820,
          2060,
          2413,
          196
         ],
         "y0": " ",
         "yaxis": "y"
        }
       ],
       "layout": {
        "boxmode": "group",
        "legend": {
         "tracegroupgap": 0
        },
        "template": {
         "data": {
          "bar": [
           {
            "error_x": {
             "color": "#2a3f5f"
            },
            "error_y": {
             "color": "#2a3f5f"
            },
            "marker": {
             "line": {
              "color": "#E5ECF6",
              "width": 0.5
             },
             "pattern": {
              "fillmode": "overlay",
              "size": 10,
              "solidity": 0.2
             }
            },
            "type": "bar"
           }
          ],
          "barpolar": [
           {
            "marker": {
             "line": {
              "color": "#E5ECF6",
              "width": 0.5
             },
             "pattern": {
              "fillmode": "overlay",
              "size": 10,
              "solidity": 0.2
             }
            },
            "type": "barpolar"
           }
          ],
          "carpet": [
           {
            "aaxis": {
             "endlinecolor": "#2a3f5f",
             "gridcolor": "white",
             "linecolor": "white",
             "minorgridcolor": "white",
             "startlinecolor": "#2a3f5f"
            },
            "baxis": {
             "endlinecolor": "#2a3f5f",
             "gridcolor": "white",
             "linecolor": "white",
             "minorgridcolor": "white",
             "startlinecolor": "#2a3f5f"
            },
            "type": "carpet"
           }
          ],
          "choropleth": [
           {
            "colorbar": {
             "outlinewidth": 0,
             "ticks": ""
            },
            "type": "choropleth"
           }
          ],
          "contour": [
           {
            "colorbar": {
             "outlinewidth": 0,
             "ticks": ""
            },
            "colorscale": [
             [
              0,
              "#0d0887"
             ],
             [
              0.1111111111111111,
              "#46039f"
             ],
             [
              0.2222222222222222,
              "#7201a8"
             ],
             [
              0.3333333333333333,
              "#9c179e"
             ],
             [
              0.4444444444444444,
              "#bd3786"
             ],
             [
              0.5555555555555556,
              "#d8576b"
             ],
             [
              0.6666666666666666,
              "#ed7953"
             ],
             [
              0.7777777777777778,
              "#fb9f3a"
             ],
             [
              0.8888888888888888,
              "#fdca26"
             ],
             [
              1,
              "#f0f921"
             ]
            ],
            "type": "contour"
           }
          ],
          "contourcarpet": [
           {
            "colorbar": {
             "outlinewidth": 0,
             "ticks": ""
            },
            "type": "contourcarpet"
           }
          ],
          "heatmap": [
           {
            "colorbar": {
             "outlinewidth": 0,
             "ticks": ""
            },
            "colorscale": [
             [
              0,
              "#0d0887"
             ],
             [
              0.1111111111111111,
              "#46039f"
             ],
             [
              0.2222222222222222,
              "#7201a8"
             ],
             [
              0.3333333333333333,
              "#9c179e"
             ],
             [
              0.4444444444444444,
              "#bd3786"
             ],
             [
              0.5555555555555556,
              "#d8576b"
             ],
             [
              0.6666666666666666,
              "#ed7953"
             ],
             [
              0.7777777777777778,
              "#fb9f3a"
             ],
             [
              0.8888888888888888,
              "#fdca26"
             ],
             [
              1,
              "#f0f921"
             ]
            ],
            "type": "heatmap"
           }
          ],
          "heatmapgl": [
           {
            "colorbar": {
             "outlinewidth": 0,
             "ticks": ""
            },
            "colorscale": [
             [
              0,
              "#0d0887"
             ],
             [
              0.1111111111111111,
              "#46039f"
             ],
             [
              0.2222222222222222,
              "#7201a8"
             ],
             [
              0.3333333333333333,
              "#9c179e"
             ],
             [
              0.4444444444444444,
              "#bd3786"
             ],
             [
              0.5555555555555556,
              "#d8576b"
             ],
             [
              0.6666666666666666,
              "#ed7953"
             ],
             [
              0.7777777777777778,
              "#fb9f3a"
             ],
             [
              0.8888888888888888,
              "#fdca26"
             ],
             [
              1,
              "#f0f921"
             ]
            ],
            "type": "heatmapgl"
           }
          ],
          "histogram": [
           {
            "marker": {
             "pattern": {
              "fillmode": "overlay",
              "size": 10,
              "solidity": 0.2
             }
            },
            "type": "histogram"
           }
          ],
          "histogram2d": [
           {
            "colorbar": {
             "outlinewidth": 0,
             "ticks": ""
            },
            "colorscale": [
             [
              0,
              "#0d0887"
             ],
             [
              0.1111111111111111,
              "#46039f"
             ],
             [
              0.2222222222222222,
              "#7201a8"
             ],
             [
              0.3333333333333333,
              "#9c179e"
             ],
             [
              0.4444444444444444,
              "#bd3786"
             ],
             [
              0.5555555555555556,
              "#d8576b"
             ],
             [
              0.6666666666666666,
              "#ed7953"
             ],
             [
              0.7777777777777778,
              "#fb9f3a"
             ],
             [
              0.8888888888888888,
              "#fdca26"
             ],
             [
              1,
              "#f0f921"
             ]
            ],
            "type": "histogram2d"
           }
          ],
          "histogram2dcontour": [
           {
            "colorbar": {
             "outlinewidth": 0,
             "ticks": ""
            },
            "colorscale": [
             [
              0,
              "#0d0887"
             ],
             [
              0.1111111111111111,
              "#46039f"
             ],
             [
              0.2222222222222222,
              "#7201a8"
             ],
             [
              0.3333333333333333,
              "#9c179e"
             ],
             [
              0.4444444444444444,
              "#bd3786"
             ],
             [
              0.5555555555555556,
              "#d8576b"
             ],
             [
              0.6666666666666666,
              "#ed7953"
             ],
             [
              0.7777777777777778,
              "#fb9f3a"
             ],
             [
              0.8888888888888888,
              "#fdca26"
             ],
             [
              1,
              "#f0f921"
             ]
            ],
            "type": "histogram2dcontour"
           }
          ],
          "mesh3d": [
           {
            "colorbar": {
             "outlinewidth": 0,
             "ticks": ""
            },
            "type": "mesh3d"
           }
          ],
          "parcoords": [
           {
            "line": {
             "colorbar": {
              "outlinewidth": 0,
              "ticks": ""
             }
            },
            "type": "parcoords"
           }
          ],
          "pie": [
           {
            "automargin": true,
            "type": "pie"
           }
          ],
          "scatter": [
           {
            "fillpattern": {
             "fillmode": "overlay",
             "size": 10,
             "solidity": 0.2
            },
            "type": "scatter"
           }
          ],
          "scatter3d": [
           {
            "line": {
             "colorbar": {
              "outlinewidth": 0,
              "ticks": ""
             }
            },
            "marker": {
             "colorbar": {
              "outlinewidth": 0,
              "ticks": ""
             }
            },
            "type": "scatter3d"
           }
          ],
          "scattercarpet": [
           {
            "marker": {
             "colorbar": {
              "outlinewidth": 0,
              "ticks": ""
             }
            },
            "type": "scattercarpet"
           }
          ],
          "scattergeo": [
           {
            "marker": {
             "colorbar": {
              "outlinewidth": 0,
              "ticks": ""
             }
            },
            "type": "scattergeo"
           }
          ],
          "scattergl": [
           {
            "marker": {
             "colorbar": {
              "outlinewidth": 0,
              "ticks": ""
             }
            },
            "type": "scattergl"
           }
          ],
          "scattermapbox": [
           {
            "marker": {
             "colorbar": {
              "outlinewidth": 0,
              "ticks": ""
             }
            },
            "type": "scattermapbox"
           }
          ],
          "scatterpolar": [
           {
            "marker": {
             "colorbar": {
              "outlinewidth": 0,
              "ticks": ""
             }
            },
            "type": "scatterpolar"
           }
          ],
          "scatterpolargl": [
           {
            "marker": {
             "colorbar": {
              "outlinewidth": 0,
              "ticks": ""
             }
            },
            "type": "scatterpolargl"
           }
          ],
          "scatterternary": [
           {
            "marker": {
             "colorbar": {
              "outlinewidth": 0,
              "ticks": ""
             }
            },
            "type": "scatterternary"
           }
          ],
          "surface": [
           {
            "colorbar": {
             "outlinewidth": 0,
             "ticks": ""
            },
            "colorscale": [
             [
              0,
              "#0d0887"
             ],
             [
              0.1111111111111111,
              "#46039f"
             ],
             [
              0.2222222222222222,
              "#7201a8"
             ],
             [
              0.3333333333333333,
              "#9c179e"
             ],
             [
              0.4444444444444444,
              "#bd3786"
             ],
             [
              0.5555555555555556,
              "#d8576b"
             ],
             [
              0.6666666666666666,
              "#ed7953"
             ],
             [
              0.7777777777777778,
              "#fb9f3a"
             ],
             [
              0.8888888888888888,
              "#fdca26"
             ],
             [
              1,
              "#f0f921"
             ]
            ],
            "type": "surface"
           }
          ],
          "table": [
           {
            "cells": {
             "fill": {
              "color": "#EBF0F8"
             },
             "line": {
              "color": "white"
             }
            },
            "header": {
             "fill": {
              "color": "#C8D4E3"
             },
             "line": {
              "color": "white"
             }
            },
            "type": "table"
           }
          ]
         },
         "layout": {
          "annotationdefaults": {
           "arrowcolor": "#2a3f5f",
           "arrowhead": 0,
           "arrowwidth": 1
          },
          "autotypenumbers": "strict",
          "coloraxis": {
           "colorbar": {
            "outlinewidth": 0,
            "ticks": ""
           }
          },
          "colorscale": {
           "diverging": [
            [
             0,
             "#8e0152"
            ],
            [
             0.1,
             "#c51b7d"
            ],
            [
             0.2,
             "#de77ae"
            ],
            [
             0.3,
             "#f1b6da"
            ],
            [
             0.4,
             "#fde0ef"
            ],
            [
             0.5,
             "#f7f7f7"
            ],
            [
             0.6,
             "#e6f5d0"
            ],
            [
             0.7,
             "#b8e186"
            ],
            [
             0.8,
             "#7fbc41"
            ],
            [
             0.9,
             "#4d9221"
            ],
            [
             1,
             "#276419"
            ]
           ],
           "sequential": [
            [
             0,
             "#0d0887"
            ],
            [
             0.1111111111111111,
             "#46039f"
            ],
            [
             0.2222222222222222,
             "#7201a8"
            ],
            [
             0.3333333333333333,
             "#9c179e"
            ],
            [
             0.4444444444444444,
             "#bd3786"
            ],
            [
             0.5555555555555556,
             "#d8576b"
            ],
            [
             0.6666666666666666,
             "#ed7953"
            ],
            [
             0.7777777777777778,
             "#fb9f3a"
            ],
            [
             0.8888888888888888,
             "#fdca26"
            ],
            [
             1,
             "#f0f921"
            ]
           ],
           "sequentialminus": [
            [
             0,
             "#0d0887"
            ],
            [
             0.1111111111111111,
             "#46039f"
            ],
            [
             0.2222222222222222,
             "#7201a8"
            ],
            [
             0.3333333333333333,
             "#9c179e"
            ],
            [
             0.4444444444444444,
             "#bd3786"
            ],
            [
             0.5555555555555556,
             "#d8576b"
            ],
            [
             0.6666666666666666,
             "#ed7953"
            ],
            [
             0.7777777777777778,
             "#fb9f3a"
            ],
            [
             0.8888888888888888,
             "#fdca26"
            ],
            [
             1,
             "#f0f921"
            ]
           ]
          },
          "colorway": [
           "#636efa",
           "#EF553B",
           "#00cc96",
           "#ab63fa",
           "#FFA15A",
           "#19d3f3",
           "#FF6692",
           "#B6E880",
           "#FF97FF",
           "#FECB52"
          ],
          "font": {
           "color": "#2a3f5f"
          },
          "geo": {
           "bgcolor": "white",
           "lakecolor": "white",
           "landcolor": "#E5ECF6",
           "showlakes": true,
           "showland": true,
           "subunitcolor": "white"
          },
          "hoverlabel": {
           "align": "left"
          },
          "hovermode": "closest",
          "mapbox": {
           "style": "light"
          },
          "paper_bgcolor": "white",
          "plot_bgcolor": "#E5ECF6",
          "polar": {
           "angularaxis": {
            "gridcolor": "white",
            "linecolor": "white",
            "ticks": ""
           },
           "bgcolor": "#E5ECF6",
           "radialaxis": {
            "gridcolor": "white",
            "linecolor": "white",
            "ticks": ""
           }
          },
          "scene": {
           "xaxis": {
            "backgroundcolor": "#E5ECF6",
            "gridcolor": "white",
            "gridwidth": 2,
            "linecolor": "white",
            "showbackground": true,
            "ticks": "",
            "zerolinecolor": "white"
           },
           "yaxis": {
            "backgroundcolor": "#E5ECF6",
            "gridcolor": "white",
            "gridwidth": 2,
            "linecolor": "white",
            "showbackground": true,
            "ticks": "",
            "zerolinecolor": "white"
           },
           "zaxis": {
            "backgroundcolor": "#E5ECF6",
            "gridcolor": "white",
            "gridwidth": 2,
            "linecolor": "white",
            "showbackground": true,
            "ticks": "",
            "zerolinecolor": "white"
           }
          },
          "shapedefaults": {
           "line": {
            "color": "#2a3f5f"
           }
          },
          "ternary": {
           "aaxis": {
            "gridcolor": "white",
            "linecolor": "white",
            "ticks": ""
           },
           "baxis": {
            "gridcolor": "white",
            "linecolor": "white",
            "ticks": ""
           },
           "bgcolor": "#E5ECF6",
           "caxis": {
            "gridcolor": "white",
            "linecolor": "white",
            "ticks": ""
           }
          },
          "title": {
           "x": 0.05
          },
          "xaxis": {
           "automargin": true,
           "gridcolor": "white",
           "linecolor": "white",
           "ticks": "",
           "title": {
            "standoff": 15
           },
           "zerolinecolor": "white",
           "zerolinewidth": 2
          },
          "yaxis": {
           "automargin": true,
           "gridcolor": "white",
           "linecolor": "white",
           "ticks": "",
           "title": {
            "standoff": 15
           },
           "zerolinecolor": "white",
           "zerolinewidth": 2
          }
         }
        },
        "title": {
         "text": "Distribución de creatinine_phosphokinase"
        },
        "xaxis": {
         "anchor": "y",
         "domain": [
          0,
          1
         ]
        },
        "yaxis": {
         "anchor": "x",
         "domain": [
          0,
          1
         ],
         "title": {
          "text": "creatinine_phosphokinase"
         }
        }
       }
      }
     },
     "metadata": {},
     "output_type": "display_data"
    }
   ],
   "source": [
    "#El gráfico tiene una asimetría positiva. Quiere decir que la mayoría de los valores están ubicados\n",
    "#en ranfos bajos. Cerca de 200000 indica que es lo más que frecuenta.\n",
    "import plotly.express as px\n",
    "\n",
    "fig = px.box(df4, y = 'creatinine_phosphokinase', title='Distribución de creatinine_phosphokinase')\n",
    "fig.show()"
   ]
  },
  {
   "cell_type": "code",
   "execution_count": 44,
   "metadata": {},
   "outputs": [
    {
     "data": {
      "image/png": "[encoded data removed]",
      "text/plain": [
       "<Figure size 1000x800 with 2 Axes>"
      ]
     },
     "metadata": {},
     "output_type": "display_data"
    }
   ],
   "source": [
    "#Puedo ver unos cuantos outliers que podría analizar si tratarlos o no más adelante\n",
    "#Se ven que son muchos datos, entonces debo tener cuidado al eliminar si es que quiero eliminarlos.\n",
    "import seaborn as sns\n",
    "\n",
    "plt.figure(figsize=(10, 8))\n",
    "correlation_matrix = df4.corr()\n",
    "sns.heatmap(correlation_matrix, annot= True, cmap='coolwarm')\n",
    "plt.title('Mapa de calor entre las variables')\n",
    "plt.show()"
   ]
  },
  {
   "cell_type": "code",
   "execution_count": 45,
   "metadata": {},
   "outputs": [],
   "source": [
    "#Lo que veo con esto más influyente es smoking con sex pero no veo una correlación muy fuerte\n",
    "#en general\n",
    "#Veo ahora time con DEATH que tiene un -0.53. O sea a mayor time, menor death"
   ]
  },
  {
   "cell_type": "markdown",
   "metadata": {},
   "source": [
    "Conclusión inicial\n",
    "\n",
    "Para este data set, elijo la clasificación.\n",
    "\n",
    "Con un buen modelo, podría ayudar a los médicos a identificar pacientes en alto riego y así\n",
    "priorizar recursos. Se puede utilizar en hospitales para la vigilancia proactiva de pacientes.\n",
    "\n",
    "Algunos desafíos son los datos limitados, porque como son datos médicos, suelen haber restricciones de privacidad, entonces no tengo tantos.\n",
    "\n",
    "Los resultados deben estar bien porque los médicos deben confiar en ellos y tomar dicisiones informadas."
   ]
  },
  {
   "cell_type": "code",
   "execution_count": 10,
   "metadata": {},
   "outputs": [],
   "source": [
    "import pandas as pd\n",
    "from sklearn.model_selection import train_test_split\n",
    "from sklearn.pipeline import Pipeline\n",
    "from sklearn.impute import SimpleImputer\n",
    "from sklearn.preprocessing import StandardScaler, OneHotEncoder\n",
    "from sklearn.compose import ColumnTransformer\n",
    "\n",
    "df4 = pd.read_csv('/Users/mathiorti/Desktop/Me/Cursos/Data Analisis and Machine Learning/Data Sets/heart_failure_clinical_records_dataset.csv')\n",
    "\n",
    "#Selecciono la variable objetivo y la separo\n",
    "X = df4.drop('DEATH_EVENT', axis = 1) #Con esto selecciono todas las columnas, excepto charges\n",
    "y = df4['DEATH_EVENT'] #Esta sería mi columna objetivo\n",
    "\n",
    "#Ahora divido los conjuntos de entrenamiento y de prueba\n",
    "X_train, X_test, y_train, y_test = train_test_split(X, y, test_size=0.2, random_state=42)\n",
    "\n",
    "#Ahora hago el pipeline, utilizo pipeline porque lo utilicé en otros proyectos y la verdad que me gusta mucho su funcionamiento.\n",
    "\n",
    "num_columns = X.select_dtypes(include=['float64', 'int64']).columns\n",
    "cat_columns = X.select_dtypes(include=['object', 'bool']).columns\n",
    "\n",
    "numeric_transformer = Pipeline(steps=[\n",
    "    ('imputer', SimpleImputer(strategy='mean')),\n",
    "    ('scaler', StandardScaler())\n",
    "])\n",
    "\n",
    "categorical_transformer = Pipeline(steps =[\n",
    "    ('imputer', SimpleImputer(strategy='most_frequent')),\n",
    "    ('onehot', OneHotEncoder(handle_unknown='ignore') )\n",
    "])\n",
    "\n",
    "preprocessor = ColumnTransformer(\n",
    "    transformers=[\n",
    "        ('num', numeric_transformer, num_columns),\n",
    "        ('cat', categorical_transformer, cat_columns)\n",
    "    ]\n",
    ")\n",
    "\n",
    "#Ahora hago el pipeline completo\n",
    "pipeline = Pipeline(steps=[\n",
    "    ('preprocessor', preprocessor)\n",
    "])"
   ]
  },
  {
   "cell_type": "code",
   "execution_count": 11,
   "metadata": {},
   "outputs": [
    {
     "name": "stdout",
     "output_type": "stream",
     "text": [
      "Reporte del modelo Logistic Regression:\n",
      "              precision    recall  f1-score   support\n",
      "\n",
      "           0       0.76      0.97      0.85        35\n",
      "           1       0.93      0.56      0.70        25\n",
      "\n",
      "    accuracy                           0.80        60\n",
      "   macro avg       0.84      0.77      0.77        60\n",
      "weighted avg       0.83      0.80      0.79        60\n",
      "\n",
      "Reporte del modelo K-Nearest Neighbors:\n",
      "              precision    recall  f1-score   support\n",
      "\n",
      "           0       0.65      0.97      0.78        35\n",
      "           1       0.88      0.28      0.42        25\n",
      "\n",
      "    accuracy                           0.68        60\n",
      "   macro avg       0.76      0.63      0.60        60\n",
      "weighted avg       0.75      0.68      0.63        60\n",
      "\n",
      "Reporte del modelo Decision Tree:\n",
      "              precision    recall  f1-score   support\n",
      "\n",
      "           0       0.66      0.77      0.71        35\n",
      "           1       0.58      0.44      0.50        25\n",
      "\n",
      "    accuracy                           0.63        60\n",
      "   macro avg       0.62      0.61      0.61        60\n",
      "weighted avg       0.63      0.63      0.62        60\n",
      "\n",
      "Reporte del modelo Random Forest:\n",
      "              precision    recall  f1-score   support\n",
      "\n",
      "           0       0.72      0.94      0.81        35\n",
      "           1       0.86      0.48      0.62        25\n",
      "\n",
      "    accuracy                           0.75        60\n",
      "   macro avg       0.79      0.71      0.72        60\n",
      "weighted avg       0.78      0.75      0.73        60\n",
      "\n",
      "Reporte del modelo XGBoost:\n",
      "              precision    recall  f1-score   support\n",
      "\n",
      "           0       0.76      0.89      0.82        35\n",
      "           1       0.79      0.60      0.68        25\n",
      "\n",
      "    accuracy                           0.77        60\n",
      "   macro avg       0.77      0.74      0.75        60\n",
      "weighted avg       0.77      0.77      0.76        60\n",
      "\n",
      "                 Model  Accuracy\n",
      "0  Logistic Regression  0.800000\n",
      "1                  KNN  0.683333\n",
      "2        Decision Tree  0.633333\n",
      "3        Random Forest  0.750000\n",
      "4              XGBoost  0.766667\n"
     ]
    }
   ],
   "source": [
    "from sklearn.linear_model import LogisticRegression\n",
    "from sklearn.neighbors import KNeighborsClassifier\n",
    "from sklearn.tree import DecisionTreeClassifier\n",
    "from sklearn.ensemble import RandomForestClassifier\n",
    "from xgboost import XGBClassifier\n",
    "from sklearn.metrics import classification_report, accuracy_score\n",
    "\n",
    "#Creo los modelos\n",
    "pipeline_LR = Pipeline(steps=[\n",
    "    ('preprocessor', preprocessor), #Con esto llamo al preprocesamiento hecho más arriba\n",
    "    ('classifier', LogisticRegression())\n",
    "])\n",
    "\n",
    "pipeline_KNN = Pipeline(steps=[\n",
    "    ('preprocessor', preprocessor),\n",
    "    ('classifier', KNeighborsClassifier(n_neighbors=5)) \n",
    "])\n",
    "\n",
    "pipeline_DT = Pipeline(steps=[\n",
    "    ('preprocessor', preprocessor),\n",
    "    ('classifier', DecisionTreeClassifier(criterion='gini', max_depth=None, random_state=42))\n",
    "])\n",
    "\n",
    "pipeline_RF = Pipeline(steps=[\n",
    "    ('preprocessor', preprocessor),\n",
    "    ('classifier', RandomForestClassifier(n_estimators=100, criterion='gini', max_depth=None, random_state=42))\n",
    "])\n",
    "\n",
    "pipeline_XGB = Pipeline(steps=[\n",
    "    ('preprocessor', preprocessor),\n",
    "    ('classifier', XGBClassifier(eval_metric='logloss', random_state=42))\n",
    "])\n",
    "\n",
    "#Entreno los modelos \n",
    "pipeline_LR.fit(X_train, y_train)\n",
    "pipeline_KNN.fit(X_train, y_train)\n",
    "pipeline_DT.fit(X_train, y_train)\n",
    "pipeline_RF.fit(X_train, y_train)\n",
    "pipeline_XGB.fit(X_train, y_train)\n",
    "\n",
    "#Hago las predicciones\n",
    "y_pred_LR = pipeline_LR.predict(X_test)\n",
    "y_pred_KNN = pipeline_KNN.predict(X_test)\n",
    "y_pred_DT = pipeline_DT.predict(X_test)\n",
    "y_pred_RF = pipeline_RF.predict(X_test)\n",
    "y_pred_XGB = pipeline_XGB.predict(X_test)\n",
    "\n",
    "#Una vez hecho todo esto, evalúo los modelos\n",
    "print(f'Reporte del modelo Logistic Regression:')\n",
    "print(classification_report(y_test, y_pred_LR))\n",
    "\n",
    "print(f'Reporte del modelo K-Nearest Neighbors:')\n",
    "print(classification_report(y_test, y_pred_KNN))\n",
    "\n",
    "print(f'Reporte del modelo Decision Tree:')\n",
    "print(classification_report(y_test, y_pred_DT))\n",
    "\n",
    "print(f'Reporte del modelo Random Forest:')\n",
    "print(classification_report(y_test, y_pred_RF))\n",
    "\n",
    "print(f'Reporte del modelo XGBoost:')\n",
    "print(classification_report(y_test, y_pred_XGB))\n",
    "\n",
    "#También puedo comparar el accuracy de cada uno\n",
    "accuracy_LR = accuracy_score(y_test, y_pred_LR)\n",
    "accuracy_KNN = accuracy_score(y_test, y_pred_KNN)\n",
    "accuracy_DT = accuracy_score(y_test, y_pred_DT)\n",
    "accuracy_RF = accuracy_score(y_test, y_pred_RF)\n",
    "accuracy_XGB = accuracy_score(y_test, y_pred_XGB)\n",
    "\n",
    "#Puedo hacer un diccionario para que sea más facil mostrarlo\n",
    "results = {\n",
    "    'Model':[\"Logistic Regression\", \"KNN\", \"Decision Tree\", \"Random Forest\", \"XGBoost\"],\n",
    "    \"Accuracy\": [accuracy_LR, accuracy_KNN, accuracy_DT, accuracy_RF, accuracy_XGB]\n",
    "}\n",
    "\n",
    "results_df = pd.DataFrame(results)\n",
    "print(results_df)"
   ]
  },
  {
   "cell_type": "code",
   "execution_count": 12,
   "metadata": {},
   "outputs": [
    {
     "name": "stdout",
     "output_type": "stream",
     "text": [
      "Logistic Regression - Mean Accuracy: 0.8322695035460992\n",
      "Logistic Regression - Std Accuracy: 0.06461336901415517\n",
      "K-Nearest Neighbors - Mean Accuracy: 0.7656028368794325\n",
      "K-Nearest Neighbors - Std Accuracy: 0.03126480334453789\n",
      "Decision Tree - Mean Accuracy: 0.7950354609929079\n",
      "Decision Tree - Std Accuracy: 0.06752247025797373\n",
      "Random Forest - Mean Accuracy: 0.8829787234042554\n",
      "Random Forest - Std Accuracy: 0.05346781064634228\n",
      "XGBoost - Mean Accuracy: 0.8495567375886525\n",
      "XGBoost - Std Accuracy: 0.03990110252861245\n"
     ]
    }
   ],
   "source": [
    "from sklearn.model_selection import cross_val_score\n",
    "\n",
    "# Validación cruzada \n",
    "scores_LR = cross_val_score(pipeline_LR, X_train, y_train, cv=5, scoring='accuracy')\n",
    "print(\"Logistic Regression - Mean Accuracy:\", scores_LR.mean())\n",
    "print(\"Logistic Regression - Std Accuracy:\", scores_LR.std())\n",
    "\n",
    "scores_KNN = cross_val_score(pipeline_KNN, X_train, y_train, cv=5, scoring='accuracy')\n",
    "print(\"K-Nearest Neighbors - Mean Accuracy:\", scores_KNN.mean())\n",
    "print(\"K-Nearest Neighbors - Std Accuracy:\", scores_KNN.std())\n",
    "\n",
    "scores_DT = cross_val_score(pipeline_DT, X_train, y_train, cv=5, scoring='accuracy')\n",
    "print(\"Decision Tree - Mean Accuracy:\", scores_DT.mean())\n",
    "print(\"Decision Tree - Std Accuracy:\", scores_DT.std())\n",
    "\n",
    "scores_RF = cross_val_score(pipeline_RF, X_train, y_train, cv=5, scoring='accuracy')\n",
    "print(\"Random Forest - Mean Accuracy:\", scores_RF.mean())\n",
    "print(\"Random Forest - Std Accuracy:\", scores_RF.std())\n",
    "\n",
    "scores_XGB = cross_val_score(pipeline_XGB, X_train, y_train, cv=5, scoring='accuracy')\n",
    "print(\"XGBoost - Mean Accuracy:\", scores_XGB.mean())\n",
    "print(\"XGBoost - Std Accuracy:\", scores_XGB.std())"
   ]
  },
  {
   "cell_type": "code",
   "execution_count": 13,
   "metadata": {},
   "outputs": [],
   "source": [
    "#Viendo esto tengo que Random Forest ofrece la mejor combinación de precisión y robustez. Es el\n",
    "#mejor modelo para esta predicción. Además se puede optimizar."
   ]
  }
 ],
 "metadata": {
  "kernelspec": {
   "display_name": "Python 3",
   "language": "python",
   "name": "python3"
  },
  "language_info": {
   "codemirror_mode": {
    "name": "ipython",
    "version": 3
   },
   "file_extension": ".py",
   "mimetype": "text/x-python",
   "name": "python",
   "nbconvert_exporter": "python",
   "pygments_lexer": "ipython3",
   "version": "3.12.6"
  }
 },
 "nbformat": 4,
 "nbformat_minor": 2
}
