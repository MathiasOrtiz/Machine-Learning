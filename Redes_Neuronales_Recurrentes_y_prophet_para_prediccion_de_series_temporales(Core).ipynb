{
 "cells": [
  {
   "cell_type": "markdown",
   "metadata": {},
   "source": [
    "# Redes Recurrentes / Redes Neuronales Recurrentes y Prophet para Predicción de Series Temporales (Core)\n",
    "Descripción\n",
    "Redes Neuronales Recurrentes y Prophet para Predicción de Series Temporales (Core)\n",
    "\n",
    "Descripción:\n",
    "\n",
    "En este ejercicio, implementarás una red neuronal recurrente (RNN) utilizando LSTM para predecir valores futuros en una serie temporal. Además, se te pide que explores el uso de la herramienta Prophet, un modelo de predicción de series temporales desarrollado por Facebook, y compares los resultados obtenidos con los de la RNN.\n",
    "\n",
    "\n",
    "\n",
    "Objetivo:\n",
    "\n",
    "El objetivo es predecir los valores futuros de una serie temporal utilizando redes recurrentes y comparar su rendimiento con Prophet. Este ejercicio te permitirá explorar dos enfoques distintos para la predicción de series temporales.\n",
    "\n",
    "\n",
    "\n",
    "Instrucciones:\n",
    "\n",
    "1. Selección del dataset:\n",
    "- Utiliza un dataset de series temporales de Kaggle, como el de «Air Quality Prediction» o cualquier otro relacionado con predicción de demanda, precios de acciones, etc. Puedes elegir el dataset que más se relacione con tus intereses.\n",
    "- Enlace sugerido: [Air Quality Prediction](https://www.kaggle.com/competitions/air-quality-prediction)\n",
    "\n",
    "2. Preprocesamiento de datos:\n",
    "- Realiza una exploración inicial de la serie temporal, incluyendo la visualización de la tendencia y la estacionalidad si es aplicable.\n",
    "- Realiza un escalado de los datos, ya que las redes neuronales recurrentes se benefician de que los datos estén en un rango similar.\n",
    "\n",
    "3. Implementación de RNN con LSTM:\n",
    "- Implementa una red LSTM para predecir la serie temporal. Utiliza una arquitectura simple con una capa LSTM y una capa densa para predecir el valor futuro de la serie temporal.\n",
    "- Asegúrate de dividir los datos en conjuntos de entrenamiento y prueba, utilizando las primeras partes de la serie para entrenar el modelo y las últimas partes para probar la precisión de las predicciones.\n",
    "\n",
    "4. Uso de Prophet:\n",
    "- Instala y utiliza Prophet para predecir la misma serie temporal. Prophet es un modelo que maneja fácilmente tendencias y estacionalidades, por lo que es ideal para comparación con redes recurrentes.\n",
    "- Entrena Prophet con los mismos datos que utilizaste para la red LSTM y realiza predicciones en el conjunto de prueba.\n",
    "\n",
    "5. Comparación de resultados:\n",
    "- Compara las predicciones de la red LSTM con las predicciones de Prophet. Utiliza métricas como el RMSE (Root Mean Squared Error) o el MAE (Mean Absolute Error) para medir la precisión de ambos modelos.\n",
    "- Visualiza las predicciones de ambos modelos superpuestas a la serie temporal original para ver cuál se ajusta mejor a los datos.\n",
    "\n",
    "6. Análisis y discusión:\n",
    "- Discute cuál de los modelos ofrece mejores resultados en este caso particular. ¿Por qué crees que Prophet o la red LSTM tuvieron un mejor rendimiento?\n",
    "- Reflexiona sobre las ventajas y desventajas de cada enfoque para la predicción de series temporales."
   ]
  },
  {
   "cell_type": "code",
   "execution_count": 22,
   "metadata": {},
   "outputs": [
    {
     "name": "stdout",
     "output_type": "stream",
     "text": [
      "   No  DEWP  TEMP    PRES cbwd   Iws  Is  Ir  AQI\n",
      "0   1   -16  -4.0  1020.0   SE  1.79   0   0  129\n",
      "1   2   -15  -4.0  1020.0   SE  2.68   0   0  148\n",
      "2   3   -11  -5.0  1021.0   SE  3.57   0   0  159\n",
      "3   4    -7  -5.0  1022.0   SE  5.36   1   0  181\n",
      "4   5    -7  -5.0  1022.0   SE  6.25   2   0  138\n"
     ]
    }
   ],
   "source": [
    "import pandas as pd\n",
    "import numpy as np\n",
    "\n",
    "df = pd.read_csv('/Users/mathiorti/Desktop/Me/Cursos/Data Analisis and Machine Learning/Data Sets/AirQuality.csv')\n",
    "print(df.head())"
   ]
  },
  {
   "cell_type": "code",
   "execution_count": 23,
   "metadata": {},
   "outputs": [
    {
     "name": "stdout",
     "output_type": "stream",
     "text": [
      "<class 'pandas.core.frame.DataFrame'>\n",
      "RangeIndex: 41757 entries, 0 to 41756\n",
      "Data columns (total 9 columns):\n",
      " #   Column  Non-Null Count  Dtype  \n",
      "---  ------  --------------  -----  \n",
      " 0   No      41757 non-null  int64  \n",
      " 1   DEWP    41757 non-null  int64  \n",
      " 2   TEMP    41757 non-null  float64\n",
      " 3   PRES    41757 non-null  float64\n",
      " 4   cbwd    41757 non-null  object \n",
      " 5   Iws     41757 non-null  float64\n",
      " 6   Is      41757 non-null  int64  \n",
      " 7   Ir      41757 non-null  int64  \n",
      " 8   AQI     41757 non-null  int64  \n",
      "dtypes: float64(3), int64(5), object(1)\n",
      "memory usage: 2.9+ MB\n",
      "None\n"
     ]
    }
   ],
   "source": [
    "print(df.info())"
   ]
  },
  {
   "cell_type": "code",
   "execution_count": 24,
   "metadata": {},
   "outputs": [
    {
     "name": "stdout",
     "output_type": "stream",
     "text": [
      "                 No          DEWP          TEMP          PRES           Iws  \\\n",
      "count  41757.000000  41757.000000  41757.000000  41757.000000  41757.000000   \n",
      "mean   20879.000000      1.750174     12.401561   1016.442896     23.866747   \n",
      "std    12054.351932     14.433658     12.175215     10.300733     49.617495   \n",
      "min        1.000000    -40.000000    -19.000000    991.000000      0.450000   \n",
      "25%    10440.000000    -10.000000      2.000000   1008.000000      1.790000   \n",
      "50%    20879.000000      2.000000     14.000000   1016.000000      5.370000   \n",
      "75%    31318.000000     15.000000     23.000000   1025.000000     21.910000   \n",
      "max    41757.000000     28.000000     42.000000   1046.000000    565.490000   \n",
      "\n",
      "                 Is            Ir           AQI  \n",
      "count  41757.000000  41757.000000  41757.000000  \n",
      "mean       0.055344      0.194866     98.613215  \n",
      "std        0.778875      1.418165     92.050387  \n",
      "min        0.000000      0.000000      0.000000  \n",
      "25%        0.000000      0.000000     29.000000  \n",
      "50%        0.000000      0.000000     72.000000  \n",
      "75%        0.000000      0.000000    137.000000  \n",
      "max       27.000000     36.000000    994.000000  \n"
     ]
    }
   ],
   "source": [
    "print(df.describe())"
   ]
  },
  {
   "cell_type": "code",
   "execution_count": 25,
   "metadata": {},
   "outputs": [
    {
     "name": "stdout",
     "output_type": "stream",
     "text": [
      "No      0\n",
      "DEWP    0\n",
      "TEMP    0\n",
      "PRES    0\n",
      "cbwd    0\n",
      "Iws     0\n",
      "Is      0\n",
      "Ir      0\n",
      "AQI     0\n",
      "dtype: int64\n"
     ]
    }
   ],
   "source": [
    "print(df.isnull().sum())"
   ]
  },
  {
   "cell_type": "code",
   "execution_count": 26,
   "metadata": {},
   "outputs": [
    {
     "name": "stdout",
     "output_type": "stream",
     "text": [
      "0\n"
     ]
    }
   ],
   "source": [
    "print(df.duplicated().sum())"
   ]
  },
  {
   "cell_type": "code",
   "execution_count": 27,
   "metadata": {},
   "outputs": [
    {
     "name": "stdout",
     "output_type": "stream",
     "text": [
      "Defaulting to user installation because normal site-packages is not writeable\n",
      "Requirement already satisfied: prophet in /Users/mathiorti/Library/Python/3.9/lib/python/site-packages (1.1.6)\n",
      "Requirement already satisfied: cmdstanpy>=1.0.4 in /Users/mathiorti/Library/Python/3.9/lib/python/site-packages (from prophet) (1.2.5)\n",
      "Requirement already satisfied: numpy>=1.15.4 in /Users/mathiorti/Library/Python/3.9/lib/python/site-packages (from prophet) (2.0.2)\n",
      "Requirement already satisfied: matplotlib>=2.0.0 in /Users/mathiorti/Library/Python/3.9/lib/python/site-packages (from prophet) (3.9.3)\n",
      "Requirement already satisfied: pandas>=1.0.4 in /Users/mathiorti/Library/Python/3.9/lib/python/site-packages (from prophet) (2.2.3)\n",
      "Requirement already satisfied: holidays<1,>=0.25 in /Users/mathiorti/Library/Python/3.9/lib/python/site-packages (from prophet) (0.62)\n",
      "Requirement already satisfied: tqdm>=4.36.1 in /Users/mathiorti/Library/Python/3.9/lib/python/site-packages (from prophet) (4.67.1)\n",
      "Requirement already satisfied: importlib-resources in /Users/mathiorti/Library/Python/3.9/lib/python/site-packages (from prophet) (6.4.5)\n",
      "Requirement already satisfied: stanio<2.0.0,>=0.4.0 in /Users/mathiorti/Library/Python/3.9/lib/python/site-packages (from cmdstanpy>=1.0.4->prophet) (0.5.1)\n",
      "Requirement already satisfied: python-dateutil in /Users/mathiorti/Library/Python/3.9/lib/python/site-packages (from holidays<1,>=0.25->prophet) (2.9.0.post0)\n",
      "Requirement already satisfied: contourpy>=1.0.1 in /Users/mathiorti/Library/Python/3.9/lib/python/site-packages (from matplotlib>=2.0.0->prophet) (1.3.0)\n",
      "Requirement already satisfied: cycler>=0.10 in /Users/mathiorti/Library/Python/3.9/lib/python/site-packages (from matplotlib>=2.0.0->prophet) (0.12.1)\n",
      "Requirement already satisfied: fonttools>=4.22.0 in /Users/mathiorti/Library/Python/3.9/lib/python/site-packages (from matplotlib>=2.0.0->prophet) (4.55.2)\n",
      "Requirement already satisfied: kiwisolver>=1.3.1 in /Users/mathiorti/Library/Python/3.9/lib/python/site-packages (from matplotlib>=2.0.0->prophet) (1.4.7)\n",
      "Requirement already satisfied: packaging>=20.0 in /Users/mathiorti/Library/Python/3.9/lib/python/site-packages (from matplotlib>=2.0.0->prophet) (24.2)\n",
      "Requirement already satisfied: pillow>=8 in /Users/mathiorti/Library/Python/3.9/lib/python/site-packages (from matplotlib>=2.0.0->prophet) (11.0.0)\n",
      "Requirement already satisfied: pyparsing>=2.3.1 in /Users/mathiorti/Library/Python/3.9/lib/python/site-packages (from matplotlib>=2.0.0->prophet) (3.2.0)\n",
      "Requirement already satisfied: zipp>=3.1.0 in /Users/mathiorti/Library/Python/3.9/lib/python/site-packages (from importlib-resources->prophet) (3.21.0)\n",
      "Requirement already satisfied: pytz>=2020.1 in /Users/mathiorti/Library/Python/3.9/lib/python/site-packages (from pandas>=1.0.4->prophet) (2024.2)\n",
      "Requirement already satisfied: tzdata>=2022.7 in /Users/mathiorti/Library/Python/3.9/lib/python/site-packages (from pandas>=1.0.4->prophet) (2024.2)\n",
      "Requirement already satisfied: six>=1.5 in /Library/Developer/CommandLineTools/Library/Frameworks/Python3.framework/Versions/3.9/lib/python3.9/site-packages (from python-dateutil->holidays<1,>=0.25->prophet) (1.15.0)\n",
      "Note: you may need to restart the kernel to use updated packages.\n"
     ]
    }
   ],
   "source": [
    "pip install prophet"
   ]
  },
  {
   "cell_type": "code",
   "execution_count": 28,
   "metadata": {},
   "outputs": [
    {
     "name": "stdout",
     "output_type": "stream",
     "text": [
      "Epoch 1/100\n"
     ]
    },
    {
     "name": "stderr",
     "output_type": "stream",
     "text": [
      "/Users/mathiorti/Library/Python/3.9/lib/python/site-packages/keras/src/layers/rnn/rnn.py:200: UserWarning: Do not pass an `input_shape`/`input_dim` argument to a layer. When using Sequential models, prefer using an `Input(shape)` object as the first layer in the model instead.\n",
      "  super().__init__(**kwargs)\n"
     ]
    },
    {
     "name": "stdout",
     "output_type": "stream",
     "text": [
      "\u001b[1m835/835\u001b[0m \u001b[32m━━━━━━━━━━━━━━━━━━━━\u001b[0m\u001b[37m\u001b[0m \u001b[1m2s\u001b[0m 2ms/step - loss: 9625.1221 - mae: 65.9579 - val_loss: 5364.2812 - val_mae: 52.1370\n",
      "Epoch 2/100\n",
      "\u001b[1m835/835\u001b[0m \u001b[32m━━━━━━━━━━━━━━━━━━━━\u001b[0m\u001b[37m\u001b[0m \u001b[1m1s\u001b[0m 2ms/step - loss: 5797.4941 - mae: 51.8180 - val_loss: 5166.4897 - val_mae: 48.0086\n",
      "Epoch 3/100\n",
      "\u001b[1m835/835\u001b[0m \u001b[32m━━━━━━━━━━━━━━━━━━━━\u001b[0m\u001b[37m\u001b[0m \u001b[1m1s\u001b[0m 2ms/step - loss: 5543.6191 - mae: 50.6674 - val_loss: 4844.3872 - val_mae: 47.1977\n",
      "Epoch 4/100\n",
      "\u001b[1m835/835\u001b[0m \u001b[32m━━━━━━━━━━━━━━━━━━━━\u001b[0m\u001b[37m\u001b[0m \u001b[1m2s\u001b[0m 2ms/step - loss: 5493.0220 - mae: 50.3740 - val_loss: 4745.1792 - val_mae: 46.2425\n",
      "Epoch 5/100\n",
      "\u001b[1m835/835\u001b[0m \u001b[32m━━━━━━━━━━━━━━━━━━━━\u001b[0m\u001b[37m\u001b[0m \u001b[1m1s\u001b[0m 2ms/step - loss: 5171.9282 - mae: 48.9201 - val_loss: 4762.9546 - val_mae: 50.0676\n",
      "Epoch 6/100\n",
      "\u001b[1m835/835\u001b[0m \u001b[32m━━━━━━━━━━━━━━━━━━━━\u001b[0m\u001b[37m\u001b[0m \u001b[1m1s\u001b[0m 2ms/step - loss: 5267.1318 - mae: 48.5412 - val_loss: 4536.1724 - val_mae: 46.9120\n",
      "Epoch 7/100\n",
      "\u001b[1m835/835\u001b[0m \u001b[32m━━━━━━━━━━━━━━━━━━━━\u001b[0m\u001b[37m\u001b[0m \u001b[1m1s\u001b[0m 2ms/step - loss: 4836.1802 - mae: 46.6952 - val_loss: 4989.4336 - val_mae: 44.9990\n",
      "Epoch 8/100\n",
      "\u001b[1m835/835\u001b[0m \u001b[32m━━━━━━━━━━━━━━━━━━━━\u001b[0m\u001b[37m\u001b[0m \u001b[1m1s\u001b[0m 2ms/step - loss: 4799.6240 - mae: 46.6384 - val_loss: 5193.0698 - val_mae: 53.2764\n",
      "Epoch 9/100\n",
      "\u001b[1m835/835\u001b[0m \u001b[32m━━━━━━━━━━━━━━━━━━━━\u001b[0m\u001b[37m\u001b[0m \u001b[1m1s\u001b[0m 2ms/step - loss: 4783.7646 - mae: 46.4002 - val_loss: 4409.7607 - val_mae: 47.1421\n",
      "Epoch 10/100\n",
      "\u001b[1m835/835\u001b[0m \u001b[32m━━━━━━━━━━━━━━━━━━━━\u001b[0m\u001b[37m\u001b[0m \u001b[1m1s\u001b[0m 2ms/step - loss: 4837.5493 - mae: 46.4253 - val_loss: 4331.1782 - val_mae: 43.6954\n",
      "Epoch 11/100\n",
      "\u001b[1m835/835\u001b[0m \u001b[32m━━━━━━━━━━━━━━━━━━━━\u001b[0m\u001b[37m\u001b[0m \u001b[1m1s\u001b[0m 2ms/step - loss: 4750.0801 - mae: 45.6662 - val_loss: 4122.1216 - val_mae: 42.9603\n",
      "Epoch 12/100\n",
      "\u001b[1m835/835\u001b[0m \u001b[32m━━━━━━━━━━━━━━━━━━━━\u001b[0m\u001b[37m\u001b[0m \u001b[1m1s\u001b[0m 2ms/step - loss: 4640.2212 - mae: 45.5512 - val_loss: 4076.0015 - val_mae: 44.1469\n",
      "Epoch 13/100\n",
      "\u001b[1m835/835\u001b[0m \u001b[32m━━━━━━━━━━━━━━━━━━━━\u001b[0m\u001b[37m\u001b[0m \u001b[1m1s\u001b[0m 2ms/step - loss: 4609.6094 - mae: 45.3924 - val_loss: 4042.5518 - val_mae: 43.7949\n",
      "Epoch 14/100\n",
      "\u001b[1m835/835\u001b[0m \u001b[32m━━━━━━━━━━━━━━━━━━━━\u001b[0m\u001b[37m\u001b[0m \u001b[1m1s\u001b[0m 2ms/step - loss: 4384.6572 - mae: 44.5060 - val_loss: 3922.6892 - val_mae: 43.8572\n",
      "Epoch 15/100\n",
      "\u001b[1m835/835\u001b[0m \u001b[32m━━━━━━━━━━━━━━━━━━━━\u001b[0m\u001b[37m\u001b[0m \u001b[1m2s\u001b[0m 2ms/step - loss: 4262.9399 - mae: 43.7790 - val_loss: 3964.5623 - val_mae: 43.3147\n",
      "Epoch 16/100\n",
      "\u001b[1m835/835\u001b[0m \u001b[32m━━━━━━━━━━━━━━━━━━━━\u001b[0m\u001b[37m\u001b[0m \u001b[1m1s\u001b[0m 2ms/step - loss: 4458.2236 - mae: 44.9918 - val_loss: 3883.6294 - val_mae: 43.3279\n",
      "Epoch 17/100\n",
      "\u001b[1m835/835\u001b[0m \u001b[32m━━━━━━━━━━━━━━━━━━━━\u001b[0m\u001b[37m\u001b[0m \u001b[1m2s\u001b[0m 2ms/step - loss: 4281.3413 - mae: 43.7304 - val_loss: 3916.2363 - val_mae: 41.7051\n",
      "Epoch 18/100\n",
      "\u001b[1m835/835\u001b[0m \u001b[32m━━━━━━━━━━━━━━━━━━━━\u001b[0m\u001b[37m\u001b[0m \u001b[1m1s\u001b[0m 2ms/step - loss: 4188.4272 - mae: 43.6041 - val_loss: 3793.3914 - val_mae: 42.4083\n",
      "Epoch 19/100\n",
      "\u001b[1m835/835\u001b[0m \u001b[32m━━━━━━━━━━━━━━━━━━━━\u001b[0m\u001b[37m\u001b[0m \u001b[1m1s\u001b[0m 2ms/step - loss: 4210.2251 - mae: 43.2549 - val_loss: 4013.7351 - val_mae: 42.8809\n",
      "Epoch 20/100\n",
      "\u001b[1m835/835\u001b[0m \u001b[32m━━━━━━━━━━━━━━━━━━━━\u001b[0m\u001b[37m\u001b[0m \u001b[1m1s\u001b[0m 2ms/step - loss: 4045.0098 - mae: 42.9313 - val_loss: 3884.0161 - val_mae: 41.4704\n",
      "Epoch 21/100\n",
      "\u001b[1m835/835\u001b[0m \u001b[32m━━━━━━━━━━━━━━━━━━━━\u001b[0m\u001b[37m\u001b[0m \u001b[1m1s\u001b[0m 2ms/step - loss: 4219.6597 - mae: 43.2196 - val_loss: 3937.9185 - val_mae: 41.5819\n",
      "Epoch 22/100\n",
      "\u001b[1m835/835\u001b[0m \u001b[32m━━━━━━━━━━━━━━━━━━━━\u001b[0m\u001b[37m\u001b[0m \u001b[1m1s\u001b[0m 2ms/step - loss: 4205.9766 - mae: 42.8222 - val_loss: 3722.3582 - val_mae: 41.0525\n",
      "Epoch 23/100\n",
      "\u001b[1m835/835\u001b[0m \u001b[32m━━━━━━━━━━━━━━━━━━━━\u001b[0m\u001b[37m\u001b[0m \u001b[1m1s\u001b[0m 2ms/step - loss: 3983.4998 - mae: 42.2255 - val_loss: 3788.8413 - val_mae: 42.5352\n",
      "Epoch 24/100\n",
      "\u001b[1m835/835\u001b[0m \u001b[32m━━━━━━━━━━━━━━━━━━━━\u001b[0m\u001b[37m\u001b[0m \u001b[1m1s\u001b[0m 2ms/step - loss: 3915.1814 - mae: 41.9644 - val_loss: 3839.0056 - val_mae: 41.1719\n",
      "Epoch 25/100\n",
      "\u001b[1m835/835\u001b[0m \u001b[32m━━━━━━━━━━━━━━━━━━━━\u001b[0m\u001b[37m\u001b[0m \u001b[1m1s\u001b[0m 2ms/step - loss: 4052.8738 - mae: 42.4469 - val_loss: 3771.4719 - val_mae: 40.9457\n",
      "Epoch 26/100\n",
      "\u001b[1m835/835\u001b[0m \u001b[32m━━━━━━━━━━━━━━━━━━━━\u001b[0m\u001b[37m\u001b[0m \u001b[1m1s\u001b[0m 2ms/step - loss: 3981.5828 - mae: 42.0662 - val_loss: 3805.0925 - val_mae: 42.9996\n",
      "Epoch 27/100\n",
      "\u001b[1m835/835\u001b[0m \u001b[32m━━━━━━━━━━━━━━━━━━━━\u001b[0m\u001b[37m\u001b[0m \u001b[1m1s\u001b[0m 2ms/step - loss: 3845.2437 - mae: 41.5250 - val_loss: 3596.6060 - val_mae: 40.3878\n",
      "Epoch 28/100\n",
      "\u001b[1m835/835\u001b[0m \u001b[32m━━━━━━━━━━━━━━━━━━━━\u001b[0m\u001b[37m\u001b[0m \u001b[1m1s\u001b[0m 2ms/step - loss: 3945.4514 - mae: 42.1005 - val_loss: 3693.9399 - val_mae: 40.1608\n",
      "Epoch 29/100\n",
      "\u001b[1m835/835\u001b[0m \u001b[32m━━━━━━━━━━━━━━━━━━━━\u001b[0m\u001b[37m\u001b[0m \u001b[1m1s\u001b[0m 2ms/step - loss: 3790.1145 - mae: 40.9531 - val_loss: 3757.6750 - val_mae: 40.2161\n",
      "Epoch 30/100\n",
      "\u001b[1m835/835\u001b[0m \u001b[32m━━━━━━━━━━━━━━━━━━━━\u001b[0m\u001b[37m\u001b[0m \u001b[1m1s\u001b[0m 2ms/step - loss: 3970.6702 - mae: 41.9501 - val_loss: 3949.4060 - val_mae: 42.3084\n",
      "Epoch 31/100\n",
      "\u001b[1m835/835\u001b[0m \u001b[32m━━━━━━━━━━━━━━━━━━━━\u001b[0m\u001b[37m\u001b[0m \u001b[1m1s\u001b[0m 2ms/step - loss: 3892.3530 - mae: 41.6169 - val_loss: 3569.3210 - val_mae: 40.0372\n",
      "Epoch 32/100\n",
      "\u001b[1m835/835\u001b[0m \u001b[32m━━━━━━━━━━━━━━━━━━━━\u001b[0m\u001b[37m\u001b[0m \u001b[1m1s\u001b[0m 2ms/step - loss: 3651.2454 - mae: 40.9790 - val_loss: 3582.7637 - val_mae: 41.1407\n",
      "Epoch 33/100\n",
      "\u001b[1m835/835\u001b[0m \u001b[32m━━━━━━━━━━━━━━━━━━━━\u001b[0m\u001b[37m\u001b[0m \u001b[1m1s\u001b[0m 2ms/step - loss: 3831.2007 - mae: 41.0372 - val_loss: 3699.6443 - val_mae: 41.6679\n",
      "Epoch 34/100\n",
      "\u001b[1m835/835\u001b[0m \u001b[32m━━━━━━━━━━━━━━━━━━━━\u001b[0m\u001b[37m\u001b[0m \u001b[1m1s\u001b[0m 2ms/step - loss: 3767.6643 - mae: 40.8094 - val_loss: 3723.6077 - val_mae: 40.4650\n",
      "Epoch 35/100\n",
      "\u001b[1m835/835\u001b[0m \u001b[32m━━━━━━━━━━━━━━━━━━━━\u001b[0m\u001b[37m\u001b[0m \u001b[1m1s\u001b[0m 2ms/step - loss: 3715.0337 - mae: 40.8651 - val_loss: 3453.7900 - val_mae: 39.9777\n",
      "Epoch 36/100\n",
      "\u001b[1m835/835\u001b[0m \u001b[32m━━━━━━━━━━━━━━━━━━━━\u001b[0m\u001b[37m\u001b[0m \u001b[1m1s\u001b[0m 2ms/step - loss: 3615.3801 - mae: 40.1061 - val_loss: 3638.4038 - val_mae: 39.7756\n",
      "Epoch 37/100\n",
      "\u001b[1m835/835\u001b[0m \u001b[32m━━━━━━━━━━━━━━━━━━━━\u001b[0m\u001b[37m\u001b[0m \u001b[1m1s\u001b[0m 2ms/step - loss: 3598.4258 - mae: 40.3215 - val_loss: 3632.6677 - val_mae: 40.3629\n",
      "Epoch 38/100\n",
      "\u001b[1m835/835\u001b[0m \u001b[32m━━━━━━━━━━━━━━━━━━━━\u001b[0m\u001b[37m\u001b[0m \u001b[1m1s\u001b[0m 2ms/step - loss: 3588.7444 - mae: 39.8617 - val_loss: 3500.5593 - val_mae: 39.4547\n",
      "Epoch 39/100\n",
      "\u001b[1m835/835\u001b[0m \u001b[32m━━━━━━━━━━━━━━━━━━━━\u001b[0m\u001b[37m\u001b[0m \u001b[1m1s\u001b[0m 2ms/step - loss: 3569.9412 - mae: 40.1595 - val_loss: 3504.5645 - val_mae: 40.0185\n",
      "Epoch 40/100\n",
      "\u001b[1m835/835\u001b[0m \u001b[32m━━━━━━━━━━━━━━━━━━━━\u001b[0m\u001b[37m\u001b[0m \u001b[1m1s\u001b[0m 2ms/step - loss: 3416.3181 - mae: 39.1753 - val_loss: 4001.5540 - val_mae: 44.0071\n",
      "\u001b[1m261/261\u001b[0m \u001b[32m━━━━━━━━━━━━━━━━━━━━\u001b[0m\u001b[37m\u001b[0m \u001b[1m0s\u001b[0m 610us/step - loss: 3674.4739 - mae: 41.1124\n",
      "Test accuracy: 41.2713\n",
      "\u001b[1m261/261\u001b[0m \u001b[32m━━━━━━━━━━━━━━━━━━━━\u001b[0m\u001b[37m\u001b[0m \u001b[1m0s\u001b[0m 800us/step\n",
      "Test MAE (manual calculation): 41.2713\n"
     ]
    }
   ],
   "source": [
    "# Empiezo el modelo\n",
    "\n",
    "from sklearn.preprocessing import StandardScaler, OneHotEncoder\n",
    "from sklearn.model_selection import train_test_split\n",
    "from tensorflow.keras import Sequential\n",
    "from tensorflow.keras.layers import Dense, Dropout, LSTM\n",
    "from tensorflow.keras.callbacks import EarlyStopping\n",
    "from sklearn.metrics import mean_absolute_error\n",
    "\n",
    "#La columna id me parece innecesaria\n",
    "df = df.drop('No', axis=1)\n",
    "\n",
    "#Separo los datos en categóricos y numéricos\n",
    "df_cat = df.select_dtypes(include=['object'])\n",
    "df_num = df.select_dtypes(include=['number']).drop('AQI', axis = 1)\n",
    "\n",
    "#Aplico One-Hot a las columnas categóricas\n",
    "encoder = OneHotEncoder(sparse_output=False)\n",
    "df_cat_encoded = encoder.fit_transform(df_cat)\n",
    "df_cat_encoded = pd.DataFrame(df_cat_encoded, columns=encoder.get_feature_names_out(df_cat.columns))\n",
    "\n",
    "#Aplico StandardScaler a las columnas numéricas\n",
    "escaler = StandardScaler()\n",
    "df_num_scaled = escaler.fit_transform(df_num)\n",
    "df_num_scaled = pd.DataFrame(df_num_scaled, columns=df_num.columns)\n",
    "\n",
    "#Ahora combino nuevamentas las categóricas y las numéricas y separo en X e Y\n",
    "X = pd.concat([df_num_scaled, df_cat_encoded], axis = 1)\n",
    "y = df['AQI'] #Mi variabe objetivo\n",
    "\n",
    "# Creo las secuencias directamente\n",
    "SEQ_LENGTH = 10  # Número de pasos de tiempo para cada secuencia\n",
    "X_seq, y_seq = [], []\n",
    "\n",
    "for i in range(len(X) - SEQ_LENGTH):\n",
    "    X_seq.append(X[i:i + SEQ_LENGTH])\n",
    "    y_seq.append(y[i + SEQ_LENGTH])\n",
    "\n",
    "X_seq = np.array(X_seq)\n",
    "y_seq = np.array(y_seq)\n",
    "\n",
    "#Divido el dataset en entrenamiento y en prueba\n",
    "X_train, X_test, y_train, y_test = train_test_split(X_seq, y_seq, test_size=0.2, random_state=42)\n",
    "\n",
    "#Creo el modelo LSTM\n",
    "model = Sequential([\n",
    "    LSTM(50, activation='relu', input_shape=(SEQ_LENGTH, X_train.shape[2])),\n",
    "    Dropout(0.2),\n",
    "    Dense(1)  # Capa de salida para predecir un valor continuo\n",
    "])\n",
    "\n",
    "# Compilo el modelo\n",
    "model.compile(optimizer='adam', loss='mse', metrics=['mae'])\n",
    "\n",
    "# Defino el callback de Early Stopping\n",
    "early_stopping = EarlyStopping(monitor='val_loss', patience=5, restore_best_weights=True)\n",
    "\n",
    "# Entreno el modelo\n",
    "history = model.fit(X_train, y_train, epochs=100, batch_size=32, validation_split=0.2, callbacks = [early_stopping])\n",
    "\n",
    "# Evaluo el modelo en el conjunto de prueba\n",
    "test_loss, test_mae = model.evaluate(X_test, y_test)\n",
    "print(f'Test accuracy: {test_mae:.4f}')\n",
    "\n",
    "# Calculo el MAE manualmente con mean_absolute_error\n",
    "y_pred = model.predict(X_test)\n",
    "manual_mae = mean_absolute_error(y_test, y_pred)\n",
    "print(f'Test MAE (manual calculation): {manual_mae:.4f}')"
   ]
  },
  {
   "cell_type": "code",
   "execution_count": 31,
   "metadata": {},
   "outputs": [
    {
     "name": "stdout",
     "output_type": "stream",
     "text": [
      "Primeras filas de df_prophet:\n",
      "     y         ds\n",
      "0  129 1910-08-16\n",
      "1  148 1910-08-17\n",
      "2  159 1910-08-18\n",
      "3  181 1910-08-19\n",
      "4  138 1910-08-20\n"
     ]
    },
    {
     "name": "stderr",
     "output_type": "stream",
     "text": [
      "12:49:43 - cmdstanpy - INFO - Chain [1] start processing\n",
      "12:49:48 - cmdstanpy - INFO - Chain [1] done processing\n"
     ]
    },
    {
     "name": "stdout",
     "output_type": "stream",
     "text": [
      "\n",
      "Test MAE: 69.4639\n",
      "\n",
      "Predicciones:\n",
      "          ds       yhat  yhat_lower  yhat_upper\n",
      "0 2002-01-30  93.331234  -16.298931  211.499846\n",
      "1 2002-01-31  93.792394  -30.691734  202.284783\n",
      "2 2002-02-01  93.692225  -27.914696  209.065995\n",
      "3 2002-02-02  94.149359  -14.636319  211.579171\n",
      "4 2002-02-03  94.565421  -20.551144  212.212146\n"
     ]
    }
   ],
   "source": [
    "from prophet import Prophet\n",
    "from sklearn.metrics import mean_absolute_error\n",
    "import pandas as pd\n",
    "\n",
    "# Crear un dataframe con el formato adecuado para Prophet\n",
    "df_prophet = df[['AQI']].copy()\n",
    "df_prophet['ds'] = pd.date_range(start='1910-08-16', periods=len(df_prophet), freq='D')\n",
    "df_prophet.rename(columns={'AQI': 'y'}, inplace=True)\n",
    "\n",
    "# Verificar las primeras filas de df_prophet\n",
    "print(\"Primeras filas de df_prophet:\")\n",
    "print(df_prophet.head())\n",
    "\n",
    "# Dividir los datos en entrenamiento y prueba (80-20)\n",
    "train_size = int(len(df_prophet) * 0.8)\n",
    "train_df = df_prophet[:train_size]\n",
    "test_df = df_prophet[train_size:]\n",
    "\n",
    "# Crear y entrenar el modelo Prophet\n",
    "model_prophet = Prophet()\n",
    "model_prophet.fit(train_df)\n",
    "\n",
    "# Realizar predicciones en el rango del conjunto de prueba\n",
    "future = test_df[['ds']]\n",
    "forecast = model_prophet.predict(future)\n",
    "\n",
    "# Calcular el MAE\n",
    "y_true = test_df['y'].values\n",
    "y_pred = forecast['yhat'].values\n",
    "\n",
    "mae = mean_absolute_error(y_true, y_pred)\n",
    "print(f'\\nTest MAE: {mae:.4f}')\n",
    "\n",
    "# Mostrar las predicciones\n",
    "print(\"\\nPredicciones:\")\n",
    "print(forecast[['ds', 'yhat', 'yhat_lower', 'yhat_upper']].head())\n",
    "\n"
   ]
  },
  {
   "cell_type": "markdown",
   "metadata": {},
   "source": [
    "# Conclusión\n",
    "Prophet es muy bueno para datos con tendencias claras y estacionales.\n",
    "\n",
    "LSTM puede capturar dependencias a largo plazo y patrones complejos en secuencias.\n",
    "\n",
    "La red LSTM tiene un MAE de 41.2713, que es mucho menor que el MAE de Prophet de 69.4639. Entonces puede decir que la red LSTM es mejor en este caso porque produce predicciones más precisas según el MAE."
   ]
  }
 ],
 "metadata": {
  "kernelspec": {
   "display_name": "Python 3",
   "language": "python",
   "name": "python3"
  },
  "language_info": {
   "codemirror_mode": {
    "name": "ipython",
    "version": 3
   },
   "file_extension": ".py",
   "mimetype": "text/x-python",
   "name": "python",
   "nbconvert_exporter": "python",
   "pygments_lexer": "ipython3",
   "version": "3.9.6"
  }
 },
 "nbformat": 4,
 "nbformat_minor": 2
}
